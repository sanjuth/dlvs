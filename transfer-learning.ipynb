{
 "cells": [
  {
   "cell_type": "markdown",
   "id": "df84a6d6",
   "metadata": {
    "papermill": {
     "duration": 0.004834,
     "end_time": "2022-12-17T02:37:11.051678",
     "exception": false,
     "start_time": "2022-12-17T02:37:11.046844",
     "status": "completed"
    },
    "tags": []
   },
   "source": [
    "Implement an image classification model using transfer learning techniques and check accuracy. Tune the required hyperparameters.\n",
    "\n",
    "Data Set: https://www.kaggle.com/datasets/tongpython/cat-and-dog\n",
    "\n"
   ]
  },
  {
   "cell_type": "code",
   "execution_count": 1,
   "id": "7b45f8f2",
   "metadata": {
    "execution": {
     "iopub.execute_input": "2022-12-17T02:37:11.060872Z",
     "iopub.status.busy": "2022-12-17T02:37:11.060439Z",
     "iopub.status.idle": "2022-12-17T02:37:20.051849Z",
     "shell.execute_reply": "2022-12-17T02:37:20.050602Z"
    },
    "papermill": {
     "duration": 8.998679,
     "end_time": "2022-12-17T02:37:20.054640",
     "exception": false,
     "start_time": "2022-12-17T02:37:11.055961",
     "status": "completed"
    },
    "tags": []
   },
   "outputs": [],
   "source": [
    "import numpy as np\n",
    "import os\n",
    "import random\n",
    "import tensorflow as tf\n",
    "seed_value=12321\n",
    "random.seed(seed_value)\n",
    "np.random.seed(seed_value)\n",
    "tf.random.set_seed(seed_value)\n",
    "import matplotlib.pyplot as plt\n",
    "from matplotlib import image\n",
    "from PIL import Image"
   ]
  },
  {
   "cell_type": "code",
   "execution_count": 2,
   "id": "26ae250b",
   "metadata": {
    "execution": {
     "iopub.execute_input": "2022-12-17T02:37:20.063368Z",
     "iopub.status.busy": "2022-12-17T02:37:20.062819Z",
     "iopub.status.idle": "2022-12-17T02:37:20.071534Z",
     "shell.execute_reply": "2022-12-17T02:37:20.070646Z"
    },
    "papermill": {
     "duration": 0.015301,
     "end_time": "2022-12-17T02:37:20.073682",
     "exception": false,
     "start_time": "2022-12-17T02:37:20.058381",
     "status": "completed"
    },
    "tags": []
   },
   "outputs": [],
   "source": [
    "def load_imgs(impath):\n",
    "    imgs=[]\n",
    "    label=[]\n",
    "    l1=os.listdir(impath)\n",
    "    for i in l1:\n",
    "        c=0\n",
    "        l2=os.listdir(impath+'/'+i)\n",
    "        l2.remove('_DS_Store')\n",
    "        for j in l2:\n",
    "            \n",
    "            if c<=1000:\n",
    "                img=Image.open(impath+i+'/'+j)\n",
    "                img=img.resize(size=(224,224))\n",
    "                #img=img.convert('L')\n",
    "                #img=np.array(img,dtype=np.float16)/255\n",
    "                imgs.append(np.array(img)) #.flatten())\n",
    "                label.append(i)\n",
    "                del img\n",
    "                c=c+1\n",
    "\n",
    "        '''if(c%1000==0):\n",
    "            plt.imshow(img)\n",
    "            plt.show()\n",
    "            c=c+1'''\n",
    "    return np.array(imgs),label"
   ]
  },
  {
   "cell_type": "code",
   "execution_count": 3,
   "id": "8a99378c",
   "metadata": {
    "execution": {
     "iopub.execute_input": "2022-12-17T02:37:20.081309Z",
     "iopub.status.busy": "2022-12-17T02:37:20.081037Z",
     "iopub.status.idle": "2022-12-17T02:37:40.457929Z",
     "shell.execute_reply": "2022-12-17T02:37:40.456857Z"
    },
    "papermill": {
     "duration": 20.383468,
     "end_time": "2022-12-17T02:37:40.460440",
     "exception": false,
     "start_time": "2022-12-17T02:37:20.076972",
     "status": "completed"
    },
    "tags": []
   },
   "outputs": [
    {
     "data": {
      "text/plain": [
       "((2002, 224, 224, 3), 2002)"
      ]
     },
     "execution_count": 3,
     "metadata": {},
     "output_type": "execute_result"
    }
   ],
   "source": [
    "x_imgs,x_label=load_imgs('/kaggle/input/cat-and-dog/training_set/training_set/')\n",
    "x_imgs.shape,len(x_label)"
   ]
  },
  {
   "cell_type": "code",
   "execution_count": 4,
   "id": "088070ab",
   "metadata": {
    "execution": {
     "iopub.execute_input": "2022-12-17T02:37:40.470334Z",
     "iopub.status.busy": "2022-12-17T02:37:40.469316Z",
     "iopub.status.idle": "2022-12-17T02:37:40.494668Z",
     "shell.execute_reply": "2022-12-17T02:37:40.493684Z"
    },
    "papermill": {
     "duration": 0.031998,
     "end_time": "2022-12-17T02:37:40.496711",
     "exception": false,
     "start_time": "2022-12-17T02:37:40.464713",
     "status": "completed"
    },
    "tags": []
   },
   "outputs": [],
   "source": [
    "import pandas as pd\n",
    "label_cat=pd.Series(x_label,dtype='category')\n",
    "#print(len(np.unique(x_label)))\n",
    "# print(label_cat)\n",
    "# print(label_cat.value_counts())\n",
    "t=label_cat.cat.codes"
   ]
  },
  {
   "cell_type": "code",
   "execution_count": 5,
   "id": "b57524f2",
   "metadata": {
    "execution": {
     "iopub.execute_input": "2022-12-17T02:37:40.505330Z",
     "iopub.status.busy": "2022-12-17T02:37:40.505026Z",
     "iopub.status.idle": "2022-12-17T02:37:41.533450Z",
     "shell.execute_reply": "2022-12-17T02:37:41.532584Z"
    },
    "papermill": {
     "duration": 1.035139,
     "end_time": "2022-12-17T02:37:41.535717",
     "exception": false,
     "start_time": "2022-12-17T02:37:40.500578",
     "status": "completed"
    },
    "tags": []
   },
   "outputs": [
    {
     "data": {
      "text/plain": [
       "((1601, 224, 224, 3), (1601,), (401, 224, 224, 3), (401,))"
      ]
     },
     "execution_count": 5,
     "metadata": {},
     "output_type": "execute_result"
    }
   ],
   "source": [
    "from sklearn.model_selection import train_test_split\n",
    "train_img,test_img,train_lbl,test_lbl=train_test_split(x_imgs,t,test_size=0.2)\n",
    "train_img.shape,train_lbl.shape,test_img.shape,test_lbl.shape"
   ]
  },
  {
   "cell_type": "code",
   "execution_count": 6,
   "id": "9ed61ec6",
   "metadata": {
    "execution": {
     "iopub.execute_input": "2022-12-17T02:37:41.544953Z",
     "iopub.status.busy": "2022-12-17T02:37:41.544170Z",
     "iopub.status.idle": "2022-12-17T02:37:41.947432Z",
     "shell.execute_reply": "2022-12-17T02:37:41.946045Z"
    },
    "papermill": {
     "duration": 0.410764,
     "end_time": "2022-12-17T02:37:41.950337",
     "exception": false,
     "start_time": "2022-12-17T02:37:41.539573",
     "status": "completed"
    },
    "tags": []
   },
   "outputs": [],
   "source": [
    "train_img=train_img.astype('float32')/255\n",
    "test_img=test_img.astype('float32')/255"
   ]
  },
  {
   "cell_type": "code",
   "execution_count": 7,
   "id": "357f4367",
   "metadata": {
    "execution": {
     "iopub.execute_input": "2022-12-17T02:37:41.959865Z",
     "iopub.status.busy": "2022-12-17T02:37:41.959530Z",
     "iopub.status.idle": "2022-12-17T02:37:41.967719Z",
     "shell.execute_reply": "2022-12-17T02:37:41.966681Z"
    },
    "papermill": {
     "duration": 0.016653,
     "end_time": "2022-12-17T02:37:41.971118",
     "exception": false,
     "start_time": "2022-12-17T02:37:41.954465",
     "status": "completed"
    },
    "tags": []
   },
   "outputs": [
    {
     "name": "stdout",
     "output_type": "stream",
     "text": [
      "491     1\n",
      "386     1\n",
      "140     1\n",
      "117     1\n",
      "1042    0\n",
      "       ..\n",
      "1027    0\n",
      "901     1\n",
      "428     1\n",
      "1063    0\n",
      "225     1\n",
      "Length: 1601, dtype: int8 1601 491     1\n",
      "386     1\n",
      "140     1\n",
      "117     1\n",
      "1042    0\n",
      "1280    0\n",
      "645     1\n",
      "200     1\n",
      "1011    0\n",
      "459     1\n",
      "dtype: int8\n"
     ]
    }
   ],
   "source": [
    "print(train_lbl,len(train_lbl),train_lbl[:10])"
   ]
  },
  {
   "cell_type": "code",
   "execution_count": 8,
   "id": "add13433",
   "metadata": {
    "execution": {
     "iopub.execute_input": "2022-12-17T02:37:41.980963Z",
     "iopub.status.busy": "2022-12-17T02:37:41.980612Z",
     "iopub.status.idle": "2022-12-17T02:37:53.001927Z",
     "shell.execute_reply": "2022-12-17T02:37:52.999811Z"
    },
    "papermill": {
     "duration": 11.028591,
     "end_time": "2022-12-17T02:37:53.004128",
     "exception": false,
     "start_time": "2022-12-17T02:37:41.975537",
     "status": "completed"
    },
    "tags": []
   },
   "outputs": [
    {
     "name": "stderr",
     "output_type": "stream",
     "text": [
      "2022-12-17 02:37:43.482759: I tensorflow/stream_executor/cuda/cuda_gpu_executor.cc:937] successful NUMA node read from SysFS had negative value (-1), but there must be at least one NUMA node, so returning NUMA node zero\n",
      "2022-12-17 02:37:43.483729: I tensorflow/stream_executor/cuda/cuda_gpu_executor.cc:937] successful NUMA node read from SysFS had negative value (-1), but there must be at least one NUMA node, so returning NUMA node zero\n",
      "2022-12-17 02:37:43.792010: I tensorflow/stream_executor/cuda/cuda_gpu_executor.cc:937] successful NUMA node read from SysFS had negative value (-1), but there must be at least one NUMA node, so returning NUMA node zero\n",
      "2022-12-17 02:37:43.793123: I tensorflow/stream_executor/cuda/cuda_gpu_executor.cc:937] successful NUMA node read from SysFS had negative value (-1), but there must be at least one NUMA node, so returning NUMA node zero\n",
      "2022-12-17 02:37:43.794060: I tensorflow/stream_executor/cuda/cuda_gpu_executor.cc:937] successful NUMA node read from SysFS had negative value (-1), but there must be at least one NUMA node, so returning NUMA node zero\n",
      "2022-12-17 02:37:43.794943: I tensorflow/stream_executor/cuda/cuda_gpu_executor.cc:937] successful NUMA node read from SysFS had negative value (-1), but there must be at least one NUMA node, so returning NUMA node zero\n",
      "2022-12-17 02:37:43.796403: I tensorflow/core/platform/cpu_feature_guard.cc:142] This TensorFlow binary is optimized with oneAPI Deep Neural Network Library (oneDNN) to use the following CPU instructions in performance-critical operations:  AVX2 AVX512F FMA\n",
      "To enable them in other operations, rebuild TensorFlow with the appropriate compiler flags.\n",
      "2022-12-17 02:37:44.032818: I tensorflow/stream_executor/cuda/cuda_gpu_executor.cc:937] successful NUMA node read from SysFS had negative value (-1), but there must be at least one NUMA node, so returning NUMA node zero\n",
      "2022-12-17 02:37:44.033724: I tensorflow/stream_executor/cuda/cuda_gpu_executor.cc:937] successful NUMA node read from SysFS had negative value (-1), but there must be at least one NUMA node, so returning NUMA node zero\n",
      "2022-12-17 02:37:44.034523: I tensorflow/stream_executor/cuda/cuda_gpu_executor.cc:937] successful NUMA node read from SysFS had negative value (-1), but there must be at least one NUMA node, so returning NUMA node zero\n",
      "2022-12-17 02:37:44.035276: I tensorflow/stream_executor/cuda/cuda_gpu_executor.cc:937] successful NUMA node read from SysFS had negative value (-1), but there must be at least one NUMA node, so returning NUMA node zero\n",
      "2022-12-17 02:37:44.035994: I tensorflow/stream_executor/cuda/cuda_gpu_executor.cc:937] successful NUMA node read from SysFS had negative value (-1), but there must be at least one NUMA node, so returning NUMA node zero\n",
      "2022-12-17 02:37:44.036750: I tensorflow/stream_executor/cuda/cuda_gpu_executor.cc:937] successful NUMA node read from SysFS had negative value (-1), but there must be at least one NUMA node, so returning NUMA node zero\n",
      "2022-12-17 02:37:48.245323: I tensorflow/stream_executor/cuda/cuda_gpu_executor.cc:937] successful NUMA node read from SysFS had negative value (-1), but there must be at least one NUMA node, so returning NUMA node zero\n",
      "2022-12-17 02:37:48.246294: I tensorflow/stream_executor/cuda/cuda_gpu_executor.cc:937] successful NUMA node read from SysFS had negative value (-1), but there must be at least one NUMA node, so returning NUMA node zero\n",
      "2022-12-17 02:37:48.247082: I tensorflow/stream_executor/cuda/cuda_gpu_executor.cc:937] successful NUMA node read from SysFS had negative value (-1), but there must be at least one NUMA node, so returning NUMA node zero\n",
      "2022-12-17 02:37:48.247766: I tensorflow/stream_executor/cuda/cuda_gpu_executor.cc:937] successful NUMA node read from SysFS had negative value (-1), but there must be at least one NUMA node, so returning NUMA node zero\n",
      "2022-12-17 02:37:48.248485: I tensorflow/stream_executor/cuda/cuda_gpu_executor.cc:937] successful NUMA node read from SysFS had negative value (-1), but there must be at least one NUMA node, so returning NUMA node zero\n",
      "2022-12-17 02:37:48.249168: I tensorflow/core/common_runtime/gpu/gpu_device.cc:1510] Created device /job:localhost/replica:0/task:0/device:GPU:0 with 13789 MB memory:  -> device: 0, name: Tesla T4, pci bus id: 0000:00:04.0, compute capability: 7.5\n",
      "2022-12-17 02:37:48.253860: I tensorflow/stream_executor/cuda/cuda_gpu_executor.cc:937] successful NUMA node read from SysFS had negative value (-1), but there must be at least one NUMA node, so returning NUMA node zero\n",
      "2022-12-17 02:37:48.254577: I tensorflow/core/common_runtime/gpu/gpu_device.cc:1510] Created device /job:localhost/replica:0/task:0/device:GPU:1 with 13789 MB memory:  -> device: 1, name: Tesla T4, pci bus id: 0000:00:05.0, compute capability: 7.5\n"
     ]
    },
    {
     "name": "stdout",
     "output_type": "stream",
     "text": [
      "Downloading data from https://storage.googleapis.com/tensorflow/keras-applications/vgg16/vgg16_weights_tf_dim_ordering_tf_kernels.h5\n",
      "553467904/553467096 [==============================] - 3s 0us/step\n",
      "553476096/553467096 [==============================] - 3s 0us/step\n",
      "Model: \"vgg16\"\n",
      "_________________________________________________________________\n",
      "Layer (type)                 Output Shape              Param #   \n",
      "=================================================================\n",
      "input_1 (InputLayer)         [(None, 224, 224, 3)]     0         \n",
      "_________________________________________________________________\n",
      "block1_conv1 (Conv2D)        (None, 224, 224, 64)      1792      \n",
      "_________________________________________________________________\n",
      "block1_conv2 (Conv2D)        (None, 224, 224, 64)      36928     \n",
      "_________________________________________________________________\n",
      "block1_pool (MaxPooling2D)   (None, 112, 112, 64)      0         \n",
      "_________________________________________________________________\n",
      "block2_conv1 (Conv2D)        (None, 112, 112, 128)     73856     \n",
      "_________________________________________________________________\n",
      "block2_conv2 (Conv2D)        (None, 112, 112, 128)     147584    \n",
      "_________________________________________________________________\n",
      "block2_pool (MaxPooling2D)   (None, 56, 56, 128)       0         \n",
      "_________________________________________________________________\n",
      "block3_conv1 (Conv2D)        (None, 56, 56, 256)       295168    \n",
      "_________________________________________________________________\n",
      "block3_conv2 (Conv2D)        (None, 56, 56, 256)       590080    \n",
      "_________________________________________________________________\n",
      "block3_conv3 (Conv2D)        (None, 56, 56, 256)       590080    \n",
      "_________________________________________________________________\n",
      "block3_pool (MaxPooling2D)   (None, 28, 28, 256)       0         \n",
      "_________________________________________________________________\n",
      "block4_conv1 (Conv2D)        (None, 28, 28, 512)       1180160   \n",
      "_________________________________________________________________\n",
      "block4_conv2 (Conv2D)        (None, 28, 28, 512)       2359808   \n",
      "_________________________________________________________________\n",
      "block4_conv3 (Conv2D)        (None, 28, 28, 512)       2359808   \n",
      "_________________________________________________________________\n",
      "block4_pool (MaxPooling2D)   (None, 14, 14, 512)       0         \n",
      "_________________________________________________________________\n",
      "block5_conv1 (Conv2D)        (None, 14, 14, 512)       2359808   \n",
      "_________________________________________________________________\n",
      "block5_conv2 (Conv2D)        (None, 14, 14, 512)       2359808   \n",
      "_________________________________________________________________\n",
      "block5_conv3 (Conv2D)        (None, 14, 14, 512)       2359808   \n",
      "_________________________________________________________________\n",
      "block5_pool (MaxPooling2D)   (None, 7, 7, 512)         0         \n",
      "_________________________________________________________________\n",
      "flatten (Flatten)            (None, 25088)             0         \n",
      "_________________________________________________________________\n",
      "fc1 (Dense)                  (None, 4096)              102764544 \n",
      "_________________________________________________________________\n",
      "fc2 (Dense)                  (None, 4096)              16781312  \n",
      "_________________________________________________________________\n",
      "predictions (Dense)          (None, 1000)              4097000   \n",
      "=================================================================\n",
      "Total params: 138,357,544\n",
      "Trainable params: 138,357,544\n",
      "Non-trainable params: 0\n",
      "_________________________________________________________________\n"
     ]
    }
   ],
   "source": [
    "from tensorflow.keras.applications.vgg16 import VGG16\n",
    "model = VGG16()\n",
    "model.summary()"
   ]
  },
  {
   "cell_type": "code",
   "execution_count": 9,
   "id": "ee3b2663",
   "metadata": {
    "execution": {
     "iopub.execute_input": "2022-12-17T02:37:53.021035Z",
     "iopub.status.busy": "2022-12-17T02:37:53.020732Z",
     "iopub.status.idle": "2022-12-17T02:37:55.113425Z",
     "shell.execute_reply": "2022-12-17T02:37:55.112388Z"
    },
    "papermill": {
     "duration": 2.104606,
     "end_time": "2022-12-17T02:37:55.116831",
     "exception": false,
     "start_time": "2022-12-17T02:37:53.012225",
     "status": "completed"
    },
    "tags": []
   },
   "outputs": [
    {
     "name": "stdout",
     "output_type": "stream",
     "text": [
      "Model: \"model\"\n",
      "_________________________________________________________________\n",
      "Layer (type)                 Output Shape              Param #   \n",
      "=================================================================\n",
      "input_2 (InputLayer)         [(None, 224, 224, 3)]     0         \n",
      "_________________________________________________________________\n",
      "block1_conv1 (Conv2D)        (None, 224, 224, 64)      1792      \n",
      "_________________________________________________________________\n",
      "block1_conv2 (Conv2D)        (None, 224, 224, 64)      36928     \n",
      "_________________________________________________________________\n",
      "block1_pool (MaxPooling2D)   (None, 112, 112, 64)      0         \n",
      "_________________________________________________________________\n",
      "block2_conv1 (Conv2D)        (None, 112, 112, 128)     73856     \n",
      "_________________________________________________________________\n",
      "block2_conv2 (Conv2D)        (None, 112, 112, 128)     147584    \n",
      "_________________________________________________________________\n",
      "block2_pool (MaxPooling2D)   (None, 56, 56, 128)       0         \n",
      "_________________________________________________________________\n",
      "block3_conv1 (Conv2D)        (None, 56, 56, 256)       295168    \n",
      "_________________________________________________________________\n",
      "block3_conv2 (Conv2D)        (None, 56, 56, 256)       590080    \n",
      "_________________________________________________________________\n",
      "block3_conv3 (Conv2D)        (None, 56, 56, 256)       590080    \n",
      "_________________________________________________________________\n",
      "block3_pool (MaxPooling2D)   (None, 28, 28, 256)       0         \n",
      "_________________________________________________________________\n",
      "block4_conv1 (Conv2D)        (None, 28, 28, 512)       1180160   \n",
      "_________________________________________________________________\n",
      "block4_conv2 (Conv2D)        (None, 28, 28, 512)       2359808   \n",
      "_________________________________________________________________\n",
      "block4_conv3 (Conv2D)        (None, 28, 28, 512)       2359808   \n",
      "_________________________________________________________________\n",
      "block4_pool (MaxPooling2D)   (None, 14, 14, 512)       0         \n",
      "_________________________________________________________________\n",
      "block5_conv1 (Conv2D)        (None, 14, 14, 512)       2359808   \n",
      "_________________________________________________________________\n",
      "block5_conv2 (Conv2D)        (None, 14, 14, 512)       2359808   \n",
      "_________________________________________________________________\n",
      "block5_conv3 (Conv2D)        (None, 14, 14, 512)       2359808   \n",
      "_________________________________________________________________\n",
      "block5_pool (MaxPooling2D)   (None, 7, 7, 512)         0         \n",
      "_________________________________________________________________\n",
      "flatten (Flatten)            (None, 25088)             0         \n",
      "_________________________________________________________________\n",
      "fc1 (Dense)                  (None, 4096)              102764544 \n",
      "=================================================================\n",
      "Total params: 117,479,232\n",
      "Trainable params: 102,764,544\n",
      "Non-trainable params: 14,714,688\n",
      "_________________________________________________________________\n"
     ]
    }
   ],
   "source": [
    "##############################################\n",
    "###TRANSFER LEARNING top layers of VGG16######\n",
    "##############################################\n",
    "from tensorflow.keras.layers import Input, Lambda\n",
    "from tensorflow.keras.optimizers import RMSprop,SGD\n",
    "from tensorflow.keras import backend as K\n",
    "from tensorflow.keras.applications.vgg16 import VGG16\n",
    "from tensorflow.keras.models import Model\n",
    "WIDTH=224\n",
    "HEIGHT=224\n",
    "n_channels=3\n",
    "def VGG16_FC1(wdth,hght):\n",
    "    model = VGG16(weights='imagenet',include_top=True,pooling='max', input_tensor=Input(shape=(wdth,hght,n_channels)))\n",
    "    my_model=Model(inputs=model.input, outputs=model.layers[-3].output)\n",
    "                   \n",
    "    return my_model\n",
    "\n",
    "conv_base=VGG16_FC1(WIDTH,HEIGHT)\n",
    "conv_base.trainable = True\n",
    "\n",
    "set_trainable = False\n",
    "for layer in conv_base.layers:\n",
    "    if layer.name == 'fc1':\n",
    "        set_trainable= True\n",
    "    if set_trainable:\n",
    "        layer.trainable = True\n",
    "    else:\n",
    "        layer.trainable = False       \n",
    "conv_base.summary()\n"
   ]
  },
  {
   "cell_type": "code",
   "execution_count": 10,
   "id": "a5f3d603",
   "metadata": {
    "execution": {
     "iopub.execute_input": "2022-12-17T02:37:55.135773Z",
     "iopub.status.busy": "2022-12-17T02:37:55.134334Z",
     "iopub.status.idle": "2022-12-17T02:37:55.241791Z",
     "shell.execute_reply": "2022-12-17T02:37:55.240726Z"
    },
    "papermill": {
     "duration": 0.119008,
     "end_time": "2022-12-17T02:37:55.244510",
     "exception": false,
     "start_time": "2022-12-17T02:37:55.125502",
     "status": "completed"
    },
    "tags": []
   },
   "outputs": [
    {
     "name": "stdout",
     "output_type": "stream",
     "text": [
      "KerasTensor(type_spec=TensorSpec(shape=(None, 224, 224, 3), dtype=tf.float32, name='input_3'), name='input_3', description=\"created by layer 'input_3'\")\n",
      "Model: \"model_1\"\n",
      "_________________________________________________________________\n",
      "Layer (type)                 Output Shape              Param #   \n",
      "=================================================================\n",
      "input_3 (InputLayer)         [(None, 224, 224, 3)]     0         \n",
      "_________________________________________________________________\n",
      "model (Functional)           (None, 4096)              117479232 \n",
      "_________________________________________________________________\n",
      "flatten (Flatten)            (None, 4096)              0         \n",
      "_________________________________________________________________\n",
      "dense (Dense)                (None, 1500)              6145500   \n",
      "_________________________________________________________________\n",
      "dense_2 (Dense)              (None, 2500)              3752500   \n",
      "_________________________________________________________________\n",
      "dense_3 (Dense)              (None, 3000)              7503000   \n",
      "_________________________________________________________________\n",
      "dense_4 (Dense)              (None, 2)                 6002      \n",
      "=================================================================\n",
      "Total params: 134,886,234\n",
      "Trainable params: 120,171,546\n",
      "Non-trainable params: 14,714,688\n",
      "_________________________________________________________________\n"
     ]
    },
    {
     "name": "stderr",
     "output_type": "stream",
     "text": [
      "/opt/conda/lib/python3.7/site-packages/keras/optimizer_v2/optimizer_v2.py:356: UserWarning: The `lr` argument is deprecated, use `learning_rate` instead.\n",
      "  \"The `lr` argument is deprecated, use `learning_rate` instead.\")\n"
     ]
    }
   ],
   "source": [
    "input_a = Input(shape=(WIDTH, HEIGHT, 3))\n",
    "from keras.callbacks import ModelCheckpoint\n",
    "print(input_a)\n",
    "# because we re-use the same instance `conv_base`,\n",
    "# the weights of the network\n",
    "# will be shared across the two branches\n",
    "proc_a = conv_base(input_a)\n",
    "from tensorflow.keras.layers import Dense,Flatten\n",
    "fltn = Flatten()(proc_a)\n",
    "dns1 = Dense(1500,activation='relu')(fltn)\n",
    "dns2 = Dense(2000,activation='relu')(dns1)\n",
    "dns2 = Dense(2500,activation='relu')(dns1)\n",
    "dns2 = Dense(3000,activation='relu')(dns2)\n",
    "\n",
    "dns3 = Dense(2,activation='softmax')(dns2)\n",
    "\n",
    "model = Model(inputs=[input_a], outputs=dns3)\n",
    "model.summary()\n",
    "# train\n",
    "rms = RMSprop()\n",
    "opt = SGD(lr=0.01, momentum=0.9)\n",
    "filepath=\"temp_update.h5\"\n",
    "checkpoint = ModelCheckpoint(filepath,verbose=1, monitor='val_loss',save_best_only=True, mode='auto')\n",
    "model.compile(loss='sparse_categorical_crossentropy', optimizer=opt, metrics=['acc','mae'])"
   ]
  },
  {
   "cell_type": "code",
   "execution_count": 11,
   "id": "981e4d49",
   "metadata": {
    "execution": {
     "iopub.execute_input": "2022-12-17T02:37:55.263160Z",
     "iopub.status.busy": "2022-12-17T02:37:55.262391Z",
     "iopub.status.idle": "2022-12-17T02:44:21.436759Z",
     "shell.execute_reply": "2022-12-17T02:44:21.435811Z"
    },
    "papermill": {
     "duration": 386.247106,
     "end_time": "2022-12-17T02:44:21.500021",
     "exception": false,
     "start_time": "2022-12-17T02:37:55.252915",
     "status": "completed"
    },
    "tags": []
   },
   "outputs": [
    {
     "name": "stderr",
     "output_type": "stream",
     "text": [
      "2022-12-17 02:37:55.270264: W tensorflow/core/framework/cpu_allocator_impl.cc:80] Allocation of 963981312 exceeds 10% of free system memory.\n",
      "2022-12-17 02:37:56.380229: W tensorflow/core/framework/cpu_allocator_impl.cc:80] Allocation of 963981312 exceeds 10% of free system memory.\n",
      "2022-12-17 02:37:57.179541: I tensorflow/compiler/mlir/mlir_graph_optimization_pass.cc:185] None of the MLIR Optimization Passes are enabled (registered 2)\n"
     ]
    },
    {
     "name": "stdout",
     "output_type": "stream",
     "text": [
      "Epoch 1/30\n"
     ]
    },
    {
     "name": "stderr",
     "output_type": "stream",
     "text": [
      "2022-12-17 02:37:59.769907: I tensorflow/stream_executor/cuda/cuda_dnn.cc:369] Loaded cuDNN version 8005\n"
     ]
    },
    {
     "name": "stdout",
     "output_type": "stream",
     "text": [
      "33/33 [==============================] - 30s 312ms/step - loss: 1.4436 - acc: 0.5153 - mae: 0.5000 - val_loss: 1.5093 - val_acc: 0.5162 - val_mae: 0.5000\n",
      "\n",
      "Epoch 00001: val_loss improved from inf to 1.50931, saving model to temp_update.h5\n",
      "Epoch 2/30\n",
      "33/33 [==============================] - 9s 275ms/step - loss: 0.7449 - acc: 0.5128 - mae: 0.5000 - val_loss: 0.8603 - val_acc: 0.4838 - val_mae: 0.5000\n",
      "\n",
      "Epoch 00002: val_loss improved from 1.50931 to 0.86033, saving model to temp_update.h5\n",
      "Epoch 3/30\n",
      "33/33 [==============================] - 9s 272ms/step - loss: 0.6766 - acc: 0.5522 - mae: 0.5000 - val_loss: 1.3896 - val_acc: 0.4838 - val_mae: 0.5000\n",
      "\n",
      "Epoch 00003: val_loss did not improve from 0.86033\n",
      "Epoch 4/30\n",
      "33/33 [==============================] - 9s 274ms/step - loss: 0.6983 - acc: 0.5565 - mae: 0.5000 - val_loss: 1.7917 - val_acc: 0.4838 - val_mae: 0.5000\n",
      "\n",
      "Epoch 00004: val_loss did not improve from 0.86033\n",
      "Epoch 5/30\n",
      "33/33 [==============================] - 9s 279ms/step - loss: 0.7176 - acc: 0.5472 - mae: 0.5000 - val_loss: 0.6066 - val_acc: 0.6284 - val_mae: 0.5000\n",
      "\n",
      "Epoch 00005: val_loss improved from 0.86033 to 0.60656, saving model to temp_update.h5\n",
      "Epoch 6/30\n",
      "33/33 [==============================] - 9s 283ms/step - loss: 0.4309 - acc: 0.8064 - mae: 0.5000 - val_loss: 0.5074 - val_acc: 0.7581 - val_mae: 0.5000\n",
      "\n",
      "Epoch 00006: val_loss improved from 0.60656 to 0.50738, saving model to temp_update.h5\n",
      "Epoch 7/30\n",
      "33/33 [==============================] - 10s 292ms/step - loss: 0.2941 - acc: 0.8763 - mae: 0.5000 - val_loss: 0.6210 - val_acc: 0.7057 - val_mae: 0.5000\n",
      "\n",
      "Epoch 00007: val_loss did not improve from 0.50738\n",
      "Epoch 8/30\n",
      "33/33 [==============================] - 10s 295ms/step - loss: 0.3352 - acc: 0.8507 - mae: 0.5000 - val_loss: 0.3641 - val_acc: 0.8304 - val_mae: 0.5000\n",
      "\n",
      "Epoch 00008: val_loss improved from 0.50738 to 0.36415, saving model to temp_update.h5\n",
      "Epoch 9/30\n",
      "33/33 [==============================] - 10s 297ms/step - loss: 0.3211 - acc: 0.8563 - mae: 0.5000 - val_loss: 0.5336 - val_acc: 0.7706 - val_mae: 0.5000\n",
      "\n",
      "Epoch 00009: val_loss did not improve from 0.36415\n",
      "Epoch 10/30\n",
      "33/33 [==============================] - 10s 303ms/step - loss: 0.2829 - acc: 0.8876 - mae: 0.5000 - val_loss: 0.2391 - val_acc: 0.9027 - val_mae: 0.5000\n",
      "\n",
      "Epoch 00010: val_loss improved from 0.36415 to 0.23914, saving model to temp_update.h5\n",
      "Epoch 11/30\n",
      "33/33 [==============================] - 10s 313ms/step - loss: 0.1761 - acc: 0.9269 - mae: 0.5000 - val_loss: 1.9908 - val_acc: 0.4963 - val_mae: 0.5000\n",
      "\n",
      "Epoch 00011: val_loss did not improve from 0.23914\n",
      "Epoch 12/30\n",
      "33/33 [==============================] - 11s 320ms/step - loss: 0.6352 - acc: 0.6771 - mae: 0.5000 - val_loss: 0.9049 - val_acc: 0.6234 - val_mae: 0.5000\n",
      "\n",
      "Epoch 00012: val_loss did not improve from 0.23914\n",
      "Epoch 13/30\n",
      "33/33 [==============================] - 11s 321ms/step - loss: 0.3720 - acc: 0.8426 - mae: 0.5000 - val_loss: 0.3121 - val_acc: 0.8753 - val_mae: 0.5000\n",
      "\n",
      "Epoch 00013: val_loss did not improve from 0.23914\n",
      "Epoch 14/30\n",
      "33/33 [==============================] - 10s 317ms/step - loss: 0.2414 - acc: 0.9019 - mae: 0.5000 - val_loss: 0.3873 - val_acc: 0.8080 - val_mae: 0.5000\n",
      "\n",
      "Epoch 00014: val_loss did not improve from 0.23914\n",
      "Epoch 15/30\n",
      "33/33 [==============================] - 10s 311ms/step - loss: 0.2827 - acc: 0.8782 - mae: 0.5000 - val_loss: 0.4339 - val_acc: 0.7830 - val_mae: 0.5000\n",
      "\n",
      "Epoch 00015: val_loss did not improve from 0.23914\n",
      "Epoch 16/30\n",
      "33/33 [==============================] - 10s 306ms/step - loss: 0.1880 - acc: 0.9244 - mae: 0.5000 - val_loss: 0.3600 - val_acc: 0.8379 - val_mae: 0.5000\n",
      "\n",
      "Epoch 00016: val_loss did not improve from 0.23914\n",
      "Epoch 17/30\n",
      "33/33 [==============================] - 10s 307ms/step - loss: 0.1387 - acc: 0.9488 - mae: 0.5000 - val_loss: 4.8088 - val_acc: 0.5162 - val_mae: 0.5000\n",
      "\n",
      "Epoch 00017: val_loss did not improve from 0.23914\n",
      "Epoch 18/30\n",
      "33/33 [==============================] - 10s 308ms/step - loss: 0.9161 - acc: 0.5559 - mae: 0.5000 - val_loss: 1.2621 - val_acc: 0.4838 - val_mae: 0.5000\n",
      "\n",
      "Epoch 00018: val_loss did not improve from 0.23914\n",
      "Epoch 19/30\n",
      "33/33 [==============================] - 10s 311ms/step - loss: 0.6152 - acc: 0.7171 - mae: 0.5000 - val_loss: 0.4743 - val_acc: 0.8504 - val_mae: 0.5000\n",
      "\n",
      "Epoch 00019: val_loss did not improve from 0.23914\n",
      "Epoch 20/30\n",
      "33/33 [==============================] - 10s 313ms/step - loss: 0.2387 - acc: 0.9101 - mae: 0.5000 - val_loss: 0.5826 - val_acc: 0.8005 - val_mae: 0.5000\n",
      "\n",
      "Epoch 00020: val_loss did not improve from 0.23914\n",
      "Epoch 21/30\n",
      "33/33 [==============================] - 10s 314ms/step - loss: 0.2452 - acc: 0.9032 - mae: 0.5000 - val_loss: 0.8632 - val_acc: 0.7481 - val_mae: 0.5000\n",
      "\n",
      "Epoch 00021: val_loss did not improve from 0.23914\n",
      "Epoch 22/30\n",
      "33/33 [==============================] - 10s 315ms/step - loss: 0.1543 - acc: 0.9388 - mae: 0.5000 - val_loss: 0.5128 - val_acc: 0.8130 - val_mae: 0.5000\n",
      "\n",
      "Epoch 00022: val_loss did not improve from 0.23914\n",
      "Epoch 23/30\n",
      "33/33 [==============================] - 10s 314ms/step - loss: 0.1784 - acc: 0.9244 - mae: 0.5000 - val_loss: 0.5004 - val_acc: 0.8404 - val_mae: 0.5000\n",
      "\n",
      "Epoch 00023: val_loss did not improve from 0.23914\n",
      "Epoch 24/30\n",
      "33/33 [==============================] - 10s 311ms/step - loss: 0.1119 - acc: 0.9544 - mae: 0.5000 - val_loss: 6.0625 - val_acc: 0.4838 - val_mae: 0.5000\n",
      "\n",
      "Epoch 00024: val_loss did not improve from 0.23914\n",
      "Epoch 25/30\n",
      "33/33 [==============================] - 10s 310ms/step - loss: 0.8042 - acc: 0.7239 - mae: 0.5000 - val_loss: 0.6351 - val_acc: 0.5387 - val_mae: 0.5000\n",
      "\n",
      "Epoch 00025: val_loss did not improve from 0.23914\n",
      "Epoch 26/30\n",
      "33/33 [==============================] - 10s 311ms/step - loss: 0.3703 - acc: 0.8482 - mae: 0.5000 - val_loss: 0.2757 - val_acc: 0.8803 - val_mae: 0.5000\n",
      "\n",
      "Epoch 00026: val_loss did not improve from 0.23914\n",
      "Epoch 27/30\n",
      "33/33 [==============================] - 10s 310ms/step - loss: 0.2105 - acc: 0.9176 - mae: 0.5000 - val_loss: 6.1966 - val_acc: 0.5162 - val_mae: 0.5000\n",
      "\n",
      "Epoch 00027: val_loss did not improve from 0.23914\n",
      "Epoch 28/30\n",
      "33/33 [==============================] - 10s 311ms/step - loss: 0.9477 - acc: 0.5946 - mae: 0.5000 - val_loss: 0.4325 - val_acc: 0.7880 - val_mae: 0.5000\n",
      "\n",
      "Epoch 00028: val_loss did not improve from 0.23914\n",
      "Epoch 29/30\n",
      "33/33 [==============================] - 10s 313ms/step - loss: 0.3006 - acc: 0.8813 - mae: 0.5000 - val_loss: 0.4001 - val_acc: 0.8404 - val_mae: 0.5000\n",
      "\n",
      "Epoch 00029: val_loss did not improve from 0.23914\n",
      "Epoch 30/30\n",
      "33/33 [==============================] - 10s 312ms/step - loss: 0.3252 - acc: 0.8657 - mae: 0.5000 - val_loss: 0.4885 - val_acc: 0.7880 - val_mae: 0.5000\n",
      "\n",
      "Epoch 00030: val_loss did not improve from 0.23914\n"
     ]
    },
    {
     "data": {
      "image/png": "[encoded data removed]",
      "text/plain": [
       "<Figure size 432x288 with 2 Axes>"
      ]
     },
     "metadata": {
      "needs_background": "light"
     },
     "output_type": "display_data"
    }
   ],
   "source": [
    "nb_epochs =30\n",
    "history = model.fit(train_img, train_lbl,\n",
    "          validation_data=(test_img, test_lbl),\n",
    "          batch_size=50,callbacks=[checkpoint],\n",
    "          epochs=nb_epochs)\n",
    "model.save_weights('esy_cat_lss_imelon.hdf5')\n",
    "\n",
    "import matplotlib.pyplot as plt\n",
    "\n",
    "plt.subplot(211)\n",
    "plt.title(\"Accuracy\")\n",
    "plt.plot(history.history[\"acc\"], color=\"blue\", label=\"train\")\n",
    "plt.plot(history.history[\"val_acc\"], color=\"red\", label=\"validation\")\n",
    "plt.legend(loc=\"best\")\n",
    "\n",
    "plt.subplot(212)\n",
    "plt.title(\"Loss/Contrastive Loss\")\n",
    "plt.plot(history.history[\"loss\"], color=\"blue\", label=\"train\")\n",
    "plt.plot(history.history[\"val_loss\"], color=\"red\", label=\"validation\")\n",
    "plt.legend(loc=\"best\")\n",
    "\n",
    "plt.tight_layout()\n",
    "plt.show()"
   ]
  },
  {
   "cell_type": "code",
   "execution_count": 12,
   "id": "494a676a",
   "metadata": {
    "execution": {
     "iopub.execute_input": "2022-12-17T02:44:21.622317Z",
     "iopub.status.busy": "2022-12-17T02:44:21.621666Z",
     "iopub.status.idle": "2022-12-17T02:44:42.599129Z",
     "shell.execute_reply": "2022-12-17T02:44:42.598214Z"
    },
    "papermill": {
     "duration": 21.04022,
     "end_time": "2022-12-17T02:44:42.601237",
     "exception": false,
     "start_time": "2022-12-17T02:44:21.561017",
     "status": "completed"
    },
    "tags": []
   },
   "outputs": [
    {
     "name": "stdout",
     "output_type": "stream",
     "text": [
      "13/13 [==============================] - 12s 446ms/step - loss: 0.4885 - acc: 0.7880 - mae: 0.5000\n"
     ]
    },
    {
     "data": {
      "text/plain": [
       "[0.48852673172950745, 0.7880299091339111, 0.5]"
      ]
     },
     "execution_count": 12,
     "metadata": {},
     "output_type": "execute_result"
    }
   ],
   "source": [
    "model.evaluate(test_img,test_lbl)"
   ]
  },
  {
   "cell_type": "code",
   "execution_count": null,
   "id": "b79882c2",
   "metadata": {
    "papermill": {
     "duration": 0.059209,
     "end_time": "2022-12-17T02:44:42.720781",
     "exception": false,
     "start_time": "2022-12-17T02:44:42.661572",
     "status": "completed"
    },
    "tags": []
   },
   "outputs": [],
   "source": []
  }
 ],
 "metadata": {
  "kernelspec": {
   "display_name": "Python 3",
   "language": "python",
   "name": "python3"
  },
  "language_info": {
   "codemirror_mode": {
    "name": "ipython",
    "version": 3
   },
   "file_extension": ".py",
   "mimetype": "text/x-python",
   "name": "python",
   "nbconvert_exporter": "python",
   "pygments_lexer": "ipython3",
   "version": "3.7.12"
  },
  "papermill": {
   "default_parameters": {},
   "duration": 466.429288,
   "end_time": "2022-12-17T02:44:46.568806",
   "environment_variables": {},
   "exception": null,
   "input_path": "__notebook__.ipynb",
   "output_path": "__notebook__.ipynb",
   "parameters": {},
   "start_time": "2022-12-17T02:37:00.139518",
   "version": "2.3.4"
  }
 },
 "nbformat": 4,
 "nbformat_minor": 5
}
