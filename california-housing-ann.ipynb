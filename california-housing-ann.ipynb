{
 "cells": [
  {
   "cell_type": "code",
   "execution_count": 1,
   "id": "fdd88329",
   "metadata": {
    "_cell_guid": "b1076dfc-b9ad-4769-8c92-a6c4dae69d19",
    "_uuid": "8f2839f25d086af736a60e9eeb907d3b93b6e0e5",
    "execution": {
     "iopub.execute_input": "2022-11-29T15:00:16.465080Z",
     "iopub.status.busy": "2022-11-29T15:00:16.464359Z",
     "iopub.status.idle": "2022-11-29T15:00:16.481403Z",
     "shell.execute_reply": "2022-11-29T15:00:16.480367Z"
    },
    "papermill": {
     "duration": 0.032692,
     "end_time": "2022-11-29T15:00:16.484188",
     "exception": false,
     "start_time": "2022-11-29T15:00:16.451496",
     "status": "completed"
    },
    "tags": []
   },
   "outputs": [
    {
     "name": "stdout",
     "output_type": "stream",
     "text": [
      "/kaggle/input/california-housing-prices/housing.csv\n"
     ]
    }
   ],
   "source": [
    "# This Python 3 environment comes with many helpful analytics libraries installed\n",
    "# It is defined by the kaggle/python Docker image: https://github.com/kaggle/docker-python\n",
    "# For example, here's several helpful packages to load\n",
    "\n",
    "import numpy as np # linear algebra\n",
    "import pandas as pd # data processing, CSV file I/O (e.g. pd.read_csv)\n",
    "\n",
    "# Input data files are available in the read-only \"../input/\" directory\n",
    "# For example, running this (by clicking run or pressing Shift+Enter) will list all files under the input directory\n",
    "\n",
    "import os\n",
    "for dirname, _, filenames in os.walk('/kaggle/input'):\n",
    "    for filename in filenames:\n",
    "        print(os.path.join(dirname, filename))\n",
    "\n",
    "# You can write up to 20GB to the current directory (/kaggle/working/) that gets preserved as output when you create a version using \"Save & Run All\" \n",
    "# You can also write temporary files to /kaggle/temp/, but they won't be saved outside of the current session"
   ]
  },
  {
   "cell_type": "code",
   "execution_count": 2,
   "id": "2add5489",
   "metadata": {
    "execution": {
     "iopub.execute_input": "2022-11-29T15:00:16.509653Z",
     "iopub.status.busy": "2022-11-29T15:00:16.508635Z",
     "iopub.status.idle": "2022-11-29T15:00:16.596202Z",
     "shell.execute_reply": "2022-11-29T15:00:16.595148Z"
    },
    "papermill": {
     "duration": 0.103563,
     "end_time": "2022-11-29T15:00:16.598508",
     "exception": false,
     "start_time": "2022-11-29T15:00:16.494945",
     "status": "completed"
    },
    "tags": []
   },
   "outputs": [
    {
     "data": {
      "text/html": [
       "<div>\n",
       "<style scoped>\n",
       "    .dataframe tbody tr th:only-of-type {\n",
       "        vertical-align: middle;\n",
       "    }\n",
       "\n",
       "    .dataframe tbody tr th {\n",
       "        vertical-align: top;\n",
       "    }\n",
       "\n",
       "    .dataframe thead th {\n",
       "        text-align: right;\n",
       "    }\n",
       "</style>\n",
       "<table border=\"1\" class=\"dataframe\">\n",
       "  <thead>\n",
       "    <tr style=\"text-align: right;\">\n",
       "      <th></th>\n",
       "      <th>longitude</th>\n",
       "      <th>latitude</th>\n",
       "      <th>housing_median_age</th>\n",
       "      <th>total_rooms</th>\n",
       "      <th>total_bedrooms</th>\n",
       "      <th>population</th>\n",
       "      <th>households</th>\n",
       "      <th>median_income</th>\n",
       "      <th>median_house_value</th>\n",
       "      <th>ocean_proximity</th>\n",
       "    </tr>\n",
       "  </thead>\n",
       "  <tbody>\n",
       "    <tr>\n",
       "      <th>0</th>\n",
       "      <td>-122.23</td>\n",
       "      <td>37.88</td>\n",
       "      <td>41.0</td>\n",
       "      <td>880.0</td>\n",
       "      <td>129.0</td>\n",
       "      <td>322.0</td>\n",
       "      <td>126.0</td>\n",
       "      <td>8.3252</td>\n",
       "      <td>452600.0</td>\n",
       "      <td>NEAR BAY</td>\n",
       "    </tr>\n",
       "    <tr>\n",
       "      <th>1</th>\n",
       "      <td>-122.22</td>\n",
       "      <td>37.86</td>\n",
       "      <td>21.0</td>\n",
       "      <td>7099.0</td>\n",
       "      <td>1106.0</td>\n",
       "      <td>2401.0</td>\n",
       "      <td>1138.0</td>\n",
       "      <td>8.3014</td>\n",
       "      <td>358500.0</td>\n",
       "      <td>NEAR BAY</td>\n",
       "    </tr>\n",
       "    <tr>\n",
       "      <th>2</th>\n",
       "      <td>-122.24</td>\n",
       "      <td>37.85</td>\n",
       "      <td>52.0</td>\n",
       "      <td>1467.0</td>\n",
       "      <td>190.0</td>\n",
       "      <td>496.0</td>\n",
       "      <td>177.0</td>\n",
       "      <td>7.2574</td>\n",
       "      <td>352100.0</td>\n",
       "      <td>NEAR BAY</td>\n",
       "    </tr>\n",
       "    <tr>\n",
       "      <th>3</th>\n",
       "      <td>-122.25</td>\n",
       "      <td>37.85</td>\n",
       "      <td>52.0</td>\n",
       "      <td>1274.0</td>\n",
       "      <td>235.0</td>\n",
       "      <td>558.0</td>\n",
       "      <td>219.0</td>\n",
       "      <td>5.6431</td>\n",
       "      <td>341300.0</td>\n",
       "      <td>NEAR BAY</td>\n",
       "    </tr>\n",
       "    <tr>\n",
       "      <th>4</th>\n",
       "      <td>-122.25</td>\n",
       "      <td>37.85</td>\n",
       "      <td>52.0</td>\n",
       "      <td>1627.0</td>\n",
       "      <td>280.0</td>\n",
       "      <td>565.0</td>\n",
       "      <td>259.0</td>\n",
       "      <td>3.8462</td>\n",
       "      <td>342200.0</td>\n",
       "      <td>NEAR BAY</td>\n",
       "    </tr>\n",
       "    <tr>\n",
       "      <th>...</th>\n",
       "      <td>...</td>\n",
       "      <td>...</td>\n",
       "      <td>...</td>\n",
       "      <td>...</td>\n",
       "      <td>...</td>\n",
       "      <td>...</td>\n",
       "      <td>...</td>\n",
       "      <td>...</td>\n",
       "      <td>...</td>\n",
       "      <td>...</td>\n",
       "    </tr>\n",
       "    <tr>\n",
       "      <th>20635</th>\n",
       "      <td>-121.09</td>\n",
       "      <td>39.48</td>\n",
       "      <td>25.0</td>\n",
       "      <td>1665.0</td>\n",
       "      <td>374.0</td>\n",
       "      <td>845.0</td>\n",
       "      <td>330.0</td>\n",
       "      <td>1.5603</td>\n",
       "      <td>78100.0</td>\n",
       "      <td>INLAND</td>\n",
       "    </tr>\n",
       "    <tr>\n",
       "      <th>20636</th>\n",
       "      <td>-121.21</td>\n",
       "      <td>39.49</td>\n",
       "      <td>18.0</td>\n",
       "      <td>697.0</td>\n",
       "      <td>150.0</td>\n",
       "      <td>356.0</td>\n",
       "      <td>114.0</td>\n",
       "      <td>2.5568</td>\n",
       "      <td>77100.0</td>\n",
       "      <td>INLAND</td>\n",
       "    </tr>\n",
       "    <tr>\n",
       "      <th>20637</th>\n",
       "      <td>-121.22</td>\n",
       "      <td>39.43</td>\n",
       "      <td>17.0</td>\n",
       "      <td>2254.0</td>\n",
       "      <td>485.0</td>\n",
       "      <td>1007.0</td>\n",
       "      <td>433.0</td>\n",
       "      <td>1.7000</td>\n",
       "      <td>92300.0</td>\n",
       "      <td>INLAND</td>\n",
       "    </tr>\n",
       "    <tr>\n",
       "      <th>20638</th>\n",
       "      <td>-121.32</td>\n",
       "      <td>39.43</td>\n",
       "      <td>18.0</td>\n",
       "      <td>1860.0</td>\n",
       "      <td>409.0</td>\n",
       "      <td>741.0</td>\n",
       "      <td>349.0</td>\n",
       "      <td>1.8672</td>\n",
       "      <td>84700.0</td>\n",
       "      <td>INLAND</td>\n",
       "    </tr>\n",
       "    <tr>\n",
       "      <th>20639</th>\n",
       "      <td>-121.24</td>\n",
       "      <td>39.37</td>\n",
       "      <td>16.0</td>\n",
       "      <td>2785.0</td>\n",
       "      <td>616.0</td>\n",
       "      <td>1387.0</td>\n",
       "      <td>530.0</td>\n",
       "      <td>2.3886</td>\n",
       "      <td>89400.0</td>\n",
       "      <td>INLAND</td>\n",
       "    </tr>\n",
       "  </tbody>\n",
       "</table>\n",
       "<p>20640 rows × 10 columns</p>\n",
       "</div>"
      ],
      "text/plain": [
       "       longitude  latitude  housing_median_age  total_rooms  total_bedrooms  \\\n",
       "0        -122.23     37.88                41.0        880.0           129.0   \n",
       "1        -122.22     37.86                21.0       7099.0          1106.0   \n",
       "2        -122.24     37.85                52.0       1467.0           190.0   \n",
       "3        -122.25     37.85                52.0       1274.0           235.0   \n",
       "4        -122.25     37.85                52.0       1627.0           280.0   \n",
       "...          ...       ...                 ...          ...             ...   \n",
       "20635    -121.09     39.48                25.0       1665.0           374.0   \n",
       "20636    -121.21     39.49                18.0        697.0           150.0   \n",
       "20637    -121.22     39.43                17.0       2254.0           485.0   \n",
       "20638    -121.32     39.43                18.0       1860.0           409.0   \n",
       "20639    -121.24     39.37                16.0       2785.0           616.0   \n",
       "\n",
       "       population  households  median_income  median_house_value  \\\n",
       "0           322.0       126.0         8.3252            452600.0   \n",
       "1          2401.0      1138.0         8.3014            358500.0   \n",
       "2           496.0       177.0         7.2574            352100.0   \n",
       "3           558.0       219.0         5.6431            341300.0   \n",
       "4           565.0       259.0         3.8462            342200.0   \n",
       "...           ...         ...            ...                 ...   \n",
       "20635       845.0       330.0         1.5603             78100.0   \n",
       "20636       356.0       114.0         2.5568             77100.0   \n",
       "20637      1007.0       433.0         1.7000             92300.0   \n",
       "20638       741.0       349.0         1.8672             84700.0   \n",
       "20639      1387.0       530.0         2.3886             89400.0   \n",
       "\n",
       "      ocean_proximity  \n",
       "0            NEAR BAY  \n",
       "1            NEAR BAY  \n",
       "2            NEAR BAY  \n",
       "3            NEAR BAY  \n",
       "4            NEAR BAY  \n",
       "...               ...  \n",
       "20635          INLAND  \n",
       "20636          INLAND  \n",
       "20637          INLAND  \n",
       "20638          INLAND  \n",
       "20639          INLAND  \n",
       "\n",
       "[20640 rows x 10 columns]"
      ]
     },
     "execution_count": 2,
     "metadata": {},
     "output_type": "execute_result"
    }
   ],
   "source": [
    "data = pd.read_csv('/kaggle/input/california-housing-prices/housing.csv')\n",
    "data"
   ]
  },
  {
   "cell_type": "code",
   "execution_count": 3,
   "id": "f56420b5",
   "metadata": {
    "execution": {
     "iopub.execute_input": "2022-11-29T15:00:16.623270Z",
     "iopub.status.busy": "2022-11-29T15:00:16.622545Z",
     "iopub.status.idle": "2022-11-29T15:00:16.630186Z",
     "shell.execute_reply": "2022-11-29T15:00:16.629191Z"
    },
    "papermill": {
     "duration": 0.022084,
     "end_time": "2022-11-29T15:00:16.632393",
     "exception": false,
     "start_time": "2022-11-29T15:00:16.610309",
     "status": "completed"
    },
    "tags": []
   },
   "outputs": [
    {
     "data": {
      "text/plain": [
       "(20640, 10)"
      ]
     },
     "execution_count": 3,
     "metadata": {},
     "output_type": "execute_result"
    }
   ],
   "source": [
    "data.shape"
   ]
  },
  {
   "cell_type": "code",
   "execution_count": 4,
   "id": "1a279c43",
   "metadata": {
    "execution": {
     "iopub.execute_input": "2022-11-29T15:00:16.655942Z",
     "iopub.status.busy": "2022-11-29T15:00:16.655275Z",
     "iopub.status.idle": "2022-11-29T15:00:16.661662Z",
     "shell.execute_reply": "2022-11-29T15:00:16.660628Z"
    },
    "papermill": {
     "duration": 0.020085,
     "end_time": "2022-11-29T15:00:16.663705",
     "exception": false,
     "start_time": "2022-11-29T15:00:16.643620",
     "status": "completed"
    },
    "tags": []
   },
   "outputs": [
    {
     "data": {
      "text/plain": [
       "Index(['longitude', 'latitude', 'housing_median_age', 'total_rooms',\n",
       "       'total_bedrooms', 'population', 'households', 'median_income',\n",
       "       'median_house_value', 'ocean_proximity'],\n",
       "      dtype='object')"
      ]
     },
     "execution_count": 4,
     "metadata": {},
     "output_type": "execute_result"
    }
   ],
   "source": [
    "data.columns"
   ]
  },
  {
   "cell_type": "code",
   "execution_count": 5,
   "id": "7a0dcc88",
   "metadata": {
    "execution": {
     "iopub.execute_input": "2022-11-29T15:00:16.686838Z",
     "iopub.status.busy": "2022-11-29T15:00:16.686549Z",
     "iopub.status.idle": "2022-11-29T15:00:16.734940Z",
     "shell.execute_reply": "2022-11-29T15:00:16.733883Z"
    },
    "papermill": {
     "duration": 0.062323,
     "end_time": "2022-11-29T15:00:16.737003",
     "exception": false,
     "start_time": "2022-11-29T15:00:16.674680",
     "status": "completed"
    },
    "tags": []
   },
   "outputs": [
    {
     "data": {
      "text/html": [
       "<div>\n",
       "<style scoped>\n",
       "    .dataframe tbody tr th:only-of-type {\n",
       "        vertical-align: middle;\n",
       "    }\n",
       "\n",
       "    .dataframe tbody tr th {\n",
       "        vertical-align: top;\n",
       "    }\n",
       "\n",
       "    .dataframe thead th {\n",
       "        text-align: right;\n",
       "    }\n",
       "</style>\n",
       "<table border=\"1\" class=\"dataframe\">\n",
       "  <thead>\n",
       "    <tr style=\"text-align: right;\">\n",
       "      <th></th>\n",
       "      <th>median_income</th>\n",
       "      <th>median_house_value</th>\n",
       "    </tr>\n",
       "  </thead>\n",
       "  <tbody>\n",
       "    <tr>\n",
       "      <th>count</th>\n",
       "      <td>20640.000000</td>\n",
       "      <td>20640.000000</td>\n",
       "    </tr>\n",
       "    <tr>\n",
       "      <th>mean</th>\n",
       "      <td>3.870671</td>\n",
       "      <td>206855.816909</td>\n",
       "    </tr>\n",
       "    <tr>\n",
       "      <th>std</th>\n",
       "      <td>1.899822</td>\n",
       "      <td>115395.615874</td>\n",
       "    </tr>\n",
       "    <tr>\n",
       "      <th>min</th>\n",
       "      <td>0.499900</td>\n",
       "      <td>14999.000000</td>\n",
       "    </tr>\n",
       "    <tr>\n",
       "      <th>25%</th>\n",
       "      <td>2.563400</td>\n",
       "      <td>119600.000000</td>\n",
       "    </tr>\n",
       "    <tr>\n",
       "      <th>50%</th>\n",
       "      <td>3.534800</td>\n",
       "      <td>179700.000000</td>\n",
       "    </tr>\n",
       "    <tr>\n",
       "      <th>75%</th>\n",
       "      <td>4.743250</td>\n",
       "      <td>264725.000000</td>\n",
       "    </tr>\n",
       "    <tr>\n",
       "      <th>max</th>\n",
       "      <td>15.000100</td>\n",
       "      <td>500001.000000</td>\n",
       "    </tr>\n",
       "  </tbody>\n",
       "</table>\n",
       "</div>"
      ],
      "text/plain": [
       "       median_income  median_house_value\n",
       "count   20640.000000        20640.000000\n",
       "mean        3.870671       206855.816909\n",
       "std         1.899822       115395.615874\n",
       "min         0.499900        14999.000000\n",
       "25%         2.563400       119600.000000\n",
       "50%         3.534800       179700.000000\n",
       "75%         4.743250       264725.000000\n",
       "max        15.000100       500001.000000"
      ]
     },
     "execution_count": 5,
     "metadata": {},
     "output_type": "execute_result"
    }
   ],
   "source": [
    "data.describe()[['median_income','median_house_value']]"
   ]
  },
  {
   "cell_type": "code",
   "execution_count": 6,
   "id": "608ba78e",
   "metadata": {
    "execution": {
     "iopub.execute_input": "2022-11-29T15:00:16.762221Z",
     "iopub.status.busy": "2022-11-29T15:00:16.761361Z",
     "iopub.status.idle": "2022-11-29T15:00:16.770698Z",
     "shell.execute_reply": "2022-11-29T15:00:16.769639Z"
    },
    "papermill": {
     "duration": 0.023755,
     "end_time": "2022-11-29T15:00:16.772826",
     "exception": false,
     "start_time": "2022-11-29T15:00:16.749071",
     "status": "completed"
    },
    "tags": []
   },
   "outputs": [
    {
     "data": {
      "text/plain": [
       "longitude               0\n",
       "latitude                0\n",
       "housing_median_age      0\n",
       "total_rooms             0\n",
       "total_bedrooms        207\n",
       "population              0\n",
       "households              0\n",
       "median_income           0\n",
       "median_house_value      0\n",
       "ocean_proximity         0\n",
       "dtype: int64"
      ]
     },
     "execution_count": 6,
     "metadata": {},
     "output_type": "execute_result"
    }
   ],
   "source": [
    "data.isnull().sum()"
   ]
  },
  {
   "cell_type": "code",
   "execution_count": 7,
   "id": "887b3cc6",
   "metadata": {
    "execution": {
     "iopub.execute_input": "2022-11-29T15:00:16.796676Z",
     "iopub.status.busy": "2022-11-29T15:00:16.795934Z",
     "iopub.status.idle": "2022-11-29T15:00:17.104310Z",
     "shell.execute_reply": "2022-11-29T15:00:17.103367Z"
    },
    "papermill": {
     "duration": 0.324918,
     "end_time": "2022-11-29T15:00:17.109034",
     "exception": false,
     "start_time": "2022-11-29T15:00:16.784116",
     "status": "completed"
    },
    "tags": []
   },
   "outputs": [
    {
     "data": {
      "text/plain": [
       "<AxesSubplot:>"
      ]
     },
     "execution_count": 7,
     "metadata": {},
     "output_type": "execute_result"
    },
    {
     "data": {
      "image/png": "[encoded data removed]",
      "text/plain": [
       "<Figure size 432x288 with 1 Axes>"
      ]
     },
     "metadata": {
      "needs_background": "light"
     },
     "output_type": "display_data"
    }
   ],
   "source": [
    "data.median_income.hist()"
   ]
  },
  {
   "cell_type": "code",
   "execution_count": 8,
   "id": "c578a62f",
   "metadata": {
    "execution": {
     "iopub.execute_input": "2022-11-29T15:00:17.166399Z",
     "iopub.status.busy": "2022-11-29T15:00:17.165968Z",
     "iopub.status.idle": "2022-11-29T15:00:17.498937Z",
     "shell.execute_reply": "2022-11-29T15:00:17.498056Z"
    },
    "papermill": {
     "duration": 0.369751,
     "end_time": "2022-11-29T15:00:17.501497",
     "exception": false,
     "start_time": "2022-11-29T15:00:17.131746",
     "status": "completed"
    },
    "tags": []
   },
   "outputs": [
    {
     "data": {
      "text/plain": [
       "<AxesSubplot:>"
      ]
     },
     "execution_count": 8,
     "metadata": {},
     "output_type": "execute_result"
    },
    {
     "data": {
      "image/png": "[encoded data removed]",
      "text/plain": [
       "<Figure size 432x288 with 1 Axes>"
      ]
     },
     "metadata": {
      "needs_background": "light"
     },
     "output_type": "display_data"
    }
   ],
   "source": [
    "data.median_house_value.hist()"
   ]
  },
  {
   "cell_type": "code",
   "execution_count": 9,
   "id": "d160df66",
   "metadata": {
    "execution": {
     "iopub.execute_input": "2022-11-29T15:00:17.540539Z",
     "iopub.status.busy": "2022-11-29T15:00:17.540276Z",
     "iopub.status.idle": "2022-11-29T15:00:17.761513Z",
     "shell.execute_reply": "2022-11-29T15:00:17.760603Z"
    },
    "papermill": {
     "duration": 0.24275,
     "end_time": "2022-11-29T15:00:17.763436",
     "exception": false,
     "start_time": "2022-11-29T15:00:17.520686",
     "status": "completed"
    },
    "tags": []
   },
   "outputs": [
    {
     "data": {
      "text/plain": [
       "{'whiskers': [<matplotlib.lines.Line2D at 0x7f0f6b97d5d0>,\n",
       "  <matplotlib.lines.Line2D at 0x7f0f6b97d8d0>],\n",
       " 'caps': [<matplotlib.lines.Line2D at 0x7f0f6b97dc10>,\n",
       "  <matplotlib.lines.Line2D at 0x7f0f6b97df50>],\n",
       " 'boxes': [<matplotlib.lines.Line2D at 0x7f0f6b962810>],\n",
       " 'medians': [<matplotlib.lines.Line2D at 0x7f0f6b98a310>],\n",
       " 'fliers': [<matplotlib.lines.Line2D at 0x7f0f6b98a650>],\n",
       " 'means': []}"
      ]
     },
     "execution_count": 9,
     "metadata": {},
     "output_type": "execute_result"
    },
    {
     "data": {
      "image/png": "[encoded data removed]",
      "text/plain": [
       "<Figure size 432x288 with 1 Axes>"
      ]
     },
     "metadata": {
      "needs_background": "light"
     },
     "output_type": "display_data"
    }
   ],
   "source": [
    "import matplotlib.pyplot as plt\n",
    "plt.boxplot(data.median_income)"
   ]
  },
  {
   "cell_type": "code",
   "execution_count": 10,
   "id": "470d91a1",
   "metadata": {
    "execution": {
     "iopub.execute_input": "2022-11-29T15:00:17.798142Z",
     "iopub.status.busy": "2022-11-29T15:00:17.797707Z",
     "iopub.status.idle": "2022-11-29T15:00:17.994667Z",
     "shell.execute_reply": "2022-11-29T15:00:17.993678Z"
    },
    "papermill": {
     "duration": 0.217785,
     "end_time": "2022-11-29T15:00:17.997043",
     "exception": false,
     "start_time": "2022-11-29T15:00:17.779258",
     "status": "completed"
    },
    "tags": []
   },
   "outputs": [
    {
     "data": {
      "text/plain": [
       "{'whiskers': [<matplotlib.lines.Line2D at 0x7f0f5965bcd0>,\n",
       "  <matplotlib.lines.Line2D at 0x7f0f59664050>],\n",
       " 'caps': [<matplotlib.lines.Line2D at 0x7f0f59664390>,\n",
       "  <matplotlib.lines.Line2D at 0x7f0f596646d0>],\n",
       " 'boxes': [<matplotlib.lines.Line2D at 0x7f0f5965bad0>],\n",
       " 'medians': [<matplotlib.lines.Line2D at 0x7f0f59664a50>],\n",
       " 'fliers': [<matplotlib.lines.Line2D at 0x7f0f59664d90>],\n",
       " 'means': []}"
      ]
     },
     "execution_count": 10,
     "metadata": {},
     "output_type": "execute_result"
    },
    {
     "data": {
      "image/png": "[encoded data removed]",
      "text/plain": [
       "<Figure size 432x288 with 1 Axes>"
      ]
     },
     "metadata": {
      "needs_background": "light"
     },
     "output_type": "display_data"
    }
   ],
   "source": [
    "plt.boxplot(data.median_house_value)"
   ]
  },
  {
   "cell_type": "code",
   "execution_count": 11,
   "id": "ad89177c",
   "metadata": {
    "execution": {
     "iopub.execute_input": "2022-11-29T15:00:18.024276Z",
     "iopub.status.busy": "2022-11-29T15:00:18.023364Z",
     "iopub.status.idle": "2022-11-29T15:00:18.307078Z",
     "shell.execute_reply": "2022-11-29T15:00:18.306171Z"
    },
    "papermill": {
     "duration": 0.299397,
     "end_time": "2022-11-29T15:00:18.309047",
     "exception": false,
     "start_time": "2022-11-29T15:00:18.009650",
     "status": "completed"
    },
    "tags": []
   },
   "outputs": [
    {
     "data": {
      "text/plain": [
       "<matplotlib.collections.PathCollection at 0x7f0f595b3a90>"
      ]
     },
     "execution_count": 11,
     "metadata": {},
     "output_type": "execute_result"
    },
    {
     "data": {
      "image/png": "[encoded data removed]",
      "text/plain": [
       "<Figure size 432x288 with 1 Axes>"
      ]
     },
     "metadata": {
      "needs_background": "light"
     },
     "output_type": "display_data"
    }
   ],
   "source": [
    "plt.scatter(data.median_income,data.median_house_value)"
   ]
  },
  {
   "cell_type": "code",
   "execution_count": 12,
   "id": "e20a56e3",
   "metadata": {
    "execution": {
     "iopub.execute_input": "2022-11-29T15:00:18.336400Z",
     "iopub.status.busy": "2022-11-29T15:00:18.335540Z",
     "iopub.status.idle": "2022-11-29T15:00:18.354029Z",
     "shell.execute_reply": "2022-11-29T15:00:18.352924Z"
    },
    "papermill": {
     "duration": 0.034582,
     "end_time": "2022-11-29T15:00:18.356577",
     "exception": false,
     "start_time": "2022-11-29T15:00:18.321995",
     "status": "completed"
    },
    "tags": []
   },
   "outputs": [
    {
     "data": {
      "text/html": [
       "<div>\n",
       "<style scoped>\n",
       "    .dataframe tbody tr th:only-of-type {\n",
       "        vertical-align: middle;\n",
       "    }\n",
       "\n",
       "    .dataframe tbody tr th {\n",
       "        vertical-align: top;\n",
       "    }\n",
       "\n",
       "    .dataframe thead th {\n",
       "        text-align: right;\n",
       "    }\n",
       "</style>\n",
       "<table border=\"1\" class=\"dataframe\">\n",
       "  <thead>\n",
       "    <tr style=\"text-align: right;\">\n",
       "      <th></th>\n",
       "      <th>median_income</th>\n",
       "      <th>median_house_value</th>\n",
       "    </tr>\n",
       "  </thead>\n",
       "  <tbody>\n",
       "    <tr>\n",
       "      <th>longitude</th>\n",
       "      <td>-0.015176</td>\n",
       "      <td>-0.045967</td>\n",
       "    </tr>\n",
       "    <tr>\n",
       "      <th>latitude</th>\n",
       "      <td>-0.079809</td>\n",
       "      <td>-0.144160</td>\n",
       "    </tr>\n",
       "    <tr>\n",
       "      <th>housing_median_age</th>\n",
       "      <td>-0.119034</td>\n",
       "      <td>0.105623</td>\n",
       "    </tr>\n",
       "    <tr>\n",
       "      <th>total_rooms</th>\n",
       "      <td>0.198050</td>\n",
       "      <td>0.134153</td>\n",
       "    </tr>\n",
       "    <tr>\n",
       "      <th>total_bedrooms</th>\n",
       "      <td>-0.007723</td>\n",
       "      <td>0.049686</td>\n",
       "    </tr>\n",
       "    <tr>\n",
       "      <th>population</th>\n",
       "      <td>0.004834</td>\n",
       "      <td>-0.024650</td>\n",
       "    </tr>\n",
       "    <tr>\n",
       "      <th>households</th>\n",
       "      <td>0.013033</td>\n",
       "      <td>0.065843</td>\n",
       "    </tr>\n",
       "    <tr>\n",
       "      <th>median_income</th>\n",
       "      <td>1.000000</td>\n",
       "      <td>0.688075</td>\n",
       "    </tr>\n",
       "    <tr>\n",
       "      <th>median_house_value</th>\n",
       "      <td>0.688075</td>\n",
       "      <td>1.000000</td>\n",
       "    </tr>\n",
       "  </tbody>\n",
       "</table>\n",
       "</div>"
      ],
      "text/plain": [
       "                    median_income  median_house_value\n",
       "longitude               -0.015176           -0.045967\n",
       "latitude                -0.079809           -0.144160\n",
       "housing_median_age      -0.119034            0.105623\n",
       "total_rooms              0.198050            0.134153\n",
       "total_bedrooms          -0.007723            0.049686\n",
       "population               0.004834           -0.024650\n",
       "households               0.013033            0.065843\n",
       "median_income            1.000000            0.688075\n",
       "median_house_value       0.688075            1.000000"
      ]
     },
     "execution_count": 12,
     "metadata": {},
     "output_type": "execute_result"
    }
   ],
   "source": [
    "data.corr()[['median_income','median_house_value']]"
   ]
  },
  {
   "cell_type": "code",
   "execution_count": 13,
   "id": "4641438d",
   "metadata": {
    "execution": {
     "iopub.execute_input": "2022-11-29T15:00:18.385964Z",
     "iopub.status.busy": "2022-11-29T15:00:18.384537Z",
     "iopub.status.idle": "2022-11-29T15:00:18.390258Z",
     "shell.execute_reply": "2022-11-29T15:00:18.389427Z"
    },
    "papermill": {
     "duration": 0.021395,
     "end_time": "2022-11-29T15:00:18.392175",
     "exception": false,
     "start_time": "2022-11-29T15:00:18.370780",
     "status": "completed"
    },
    "tags": []
   },
   "outputs": [],
   "source": [
    "#x=data[['median_income','population','housing_median_age']]\n",
    "x=data[['median_income']]\n",
    "y=data.median_house_value.values.reshape(-1,1)"
   ]
  },
  {
   "cell_type": "code",
   "execution_count": 14,
   "id": "306fdf24",
   "metadata": {
    "execution": {
     "iopub.execute_input": "2022-11-29T15:00:18.417718Z",
     "iopub.status.busy": "2022-11-29T15:00:18.416892Z",
     "iopub.status.idle": "2022-11-29T15:00:18.425665Z",
     "shell.execute_reply": "2022-11-29T15:00:18.424721Z"
    },
    "papermill": {
     "duration": 0.023384,
     "end_time": "2022-11-29T15:00:18.427651",
     "exception": false,
     "start_time": "2022-11-29T15:00:18.404267",
     "status": "completed"
    },
    "tags": []
   },
   "outputs": [
    {
     "data": {
      "text/plain": [
       "(       median_income\n",
       " 0             8.3252\n",
       " 1             8.3014\n",
       " 2             7.2574\n",
       " 3             5.6431\n",
       " 4             3.8462\n",
       " ...              ...\n",
       " 20635         1.5603\n",
       " 20636         2.5568\n",
       " 20637         1.7000\n",
       " 20638         1.8672\n",
       " 20639         2.3886\n",
       " \n",
       " [20640 rows x 1 columns],\n",
       " array([[452600.],\n",
       "        [358500.],\n",
       "        [352100.],\n",
       "        ...,\n",
       "        [ 92300.],\n",
       "        [ 84700.],\n",
       "        [ 89400.]]))"
      ]
     },
     "execution_count": 14,
     "metadata": {},
     "output_type": "execute_result"
    }
   ],
   "source": [
    "x,y"
   ]
  },
  {
   "cell_type": "code",
   "execution_count": 15,
   "id": "6be64c64",
   "metadata": {
    "execution": {
     "iopub.execute_input": "2022-11-29T15:00:18.454395Z",
     "iopub.status.busy": "2022-11-29T15:00:18.453535Z",
     "iopub.status.idle": "2022-11-29T15:00:18.462310Z",
     "shell.execute_reply": "2022-11-29T15:00:18.461326Z"
    },
    "papermill": {
     "duration": 0.023381,
     "end_time": "2022-11-29T15:00:18.464310",
     "exception": false,
     "start_time": "2022-11-29T15:00:18.440929",
     "status": "completed"
    },
    "tags": []
   },
   "outputs": [
    {
     "data": {
      "text/plain": [
       "(median_income    15.0001\n",
       " dtype: float64,\n",
       " median_income    0.4999\n",
       " dtype: float64,\n",
       " 500001.0,\n",
       " 14999.0)"
      ]
     },
     "execution_count": 15,
     "metadata": {},
     "output_type": "execute_result"
    }
   ],
   "source": [
    "x.max(),x.min(),y.max(),y.min()"
   ]
  },
  {
   "cell_type": "code",
   "execution_count": 16,
   "id": "db647e47",
   "metadata": {
    "execution": {
     "iopub.execute_input": "2022-11-29T15:00:18.490714Z",
     "iopub.status.busy": "2022-11-29T15:00:18.490081Z",
     "iopub.status.idle": "2022-11-29T15:00:19.547880Z",
     "shell.execute_reply": "2022-11-29T15:00:19.546870Z"
    },
    "papermill": {
     "duration": 1.072882,
     "end_time": "2022-11-29T15:00:19.550054",
     "exception": false,
     "start_time": "2022-11-29T15:00:18.477172",
     "status": "completed"
    },
    "tags": []
   },
   "outputs": [
    {
     "data": {
      "text/plain": [
       "LinearRegression()"
      ]
     },
     "execution_count": 16,
     "metadata": {},
     "output_type": "execute_result"
    }
   ],
   "source": [
    "from sklearn.linear_model import LinearRegression\n",
    "lm=LinearRegression()\n",
    "#print(lm.coef_,lm.intercept_)\n",
    "lm.fit(x,y)\n"
   ]
  },
  {
   "cell_type": "code",
   "execution_count": 17,
   "id": "b73ad2a1",
   "metadata": {
    "execution": {
     "iopub.execute_input": "2022-11-29T15:00:19.578108Z",
     "iopub.status.busy": "2022-11-29T15:00:19.576939Z",
     "iopub.status.idle": "2022-11-29T15:00:19.587055Z",
     "shell.execute_reply": "2022-11-29T15:00:19.586017Z"
    },
    "papermill": {
     "duration": 0.027179,
     "end_time": "2022-11-29T15:00:19.590090",
     "exception": false,
     "start_time": "2022-11-29T15:00:19.562911",
     "status": "completed"
    },
    "tags": []
   },
   "outputs": [
    {
     "data": {
      "text/plain": [
       "(array([[41793.8492019]]), array([45085.57670327]))"
      ]
     },
     "execution_count": 17,
     "metadata": {},
     "output_type": "execute_result"
    }
   ],
   "source": [
    "lm.coef_,lm.intercept_"
   ]
  },
  {
   "cell_type": "code",
   "execution_count": 18,
   "id": "937f206f",
   "metadata": {
    "execution": {
     "iopub.execute_input": "2022-11-29T15:00:19.617101Z",
     "iopub.status.busy": "2022-11-29T15:00:19.616342Z",
     "iopub.status.idle": "2022-11-29T15:00:19.623586Z",
     "shell.execute_reply": "2022-11-29T15:00:19.622782Z"
    },
    "papermill": {
     "duration": 0.022562,
     "end_time": "2022-11-29T15:00:19.625549",
     "exception": false,
     "start_time": "2022-11-29T15:00:19.602987",
     "status": "completed"
    },
    "tags": []
   },
   "outputs": [],
   "source": [
    "y_pred= lm.intercept_ + lm.coef_*x "
   ]
  },
  {
   "cell_type": "code",
   "execution_count": 19,
   "id": "3ffb92cb",
   "metadata": {
    "execution": {
     "iopub.execute_input": "2022-11-29T15:00:19.651938Z",
     "iopub.status.busy": "2022-11-29T15:00:19.651664Z",
     "iopub.status.idle": "2022-11-29T15:00:19.657094Z",
     "shell.execute_reply": "2022-11-29T15:00:19.656169Z"
    },
    "papermill": {
     "duration": 0.020952,
     "end_time": "2022-11-29T15:00:19.659065",
     "exception": false,
     "start_time": "2022-11-29T15:00:19.638113",
     "status": "completed"
    },
    "tags": []
   },
   "outputs": [],
   "source": [
    "y_pred=lm.predict(x)"
   ]
  },
  {
   "cell_type": "code",
   "execution_count": 20,
   "id": "1e87e99f",
   "metadata": {
    "execution": {
     "iopub.execute_input": "2022-11-29T15:00:19.685932Z",
     "iopub.status.busy": "2022-11-29T15:00:19.685274Z",
     "iopub.status.idle": "2022-11-29T15:00:19.691446Z",
     "shell.execute_reply": "2022-11-29T15:00:19.690055Z"
    },
    "papermill": {
     "duration": 0.022764,
     "end_time": "2022-11-29T15:00:19.694433",
     "exception": false,
     "start_time": "2022-11-29T15:00:19.671669",
     "status": "completed"
    },
    "tags": []
   },
   "outputs": [
    {
     "name": "stdout",
     "output_type": "stream",
     "text": [
      "[[452600.]\n",
      " [358500.]\n",
      " [352100.]\n",
      " ...\n",
      " [ 92300.]\n",
      " [ 84700.]\n",
      " [ 89400.]]\n"
     ]
    }
   ],
   "source": [
    "print(y)"
   ]
  },
  {
   "cell_type": "code",
   "execution_count": 21,
   "id": "6f87688d",
   "metadata": {
    "execution": {
     "iopub.execute_input": "2022-11-29T15:00:19.721102Z",
     "iopub.status.busy": "2022-11-29T15:00:19.720852Z",
     "iopub.status.idle": "2022-11-29T15:00:19.725750Z",
     "shell.execute_reply": "2022-11-29T15:00:19.724812Z"
    },
    "papermill": {
     "duration": 0.020943,
     "end_time": "2022-11-29T15:00:19.728458",
     "exception": false,
     "start_time": "2022-11-29T15:00:19.707515",
     "status": "completed"
    },
    "tags": []
   },
   "outputs": [
    {
     "name": "stdout",
     "output_type": "stream",
     "text": [
      "[[393027.73007889]\n",
      " [392033.03646789]\n",
      " [348400.25790111]\n",
      " ...\n",
      " [116135.12034649]\n",
      " [123123.05193305]\n",
      " [144914.36490692]]\n"
     ]
    }
   ],
   "source": [
    "print(y_pred)"
   ]
  },
  {
   "cell_type": "code",
   "execution_count": 22,
   "id": "3bd5a3e4",
   "metadata": {
    "execution": {
     "iopub.execute_input": "2022-11-29T15:00:19.756983Z",
     "iopub.status.busy": "2022-11-29T15:00:19.756716Z",
     "iopub.status.idle": "2022-11-29T15:00:19.762347Z",
     "shell.execute_reply": "2022-11-29T15:00:19.761451Z"
    },
    "papermill": {
     "duration": 0.021753,
     "end_time": "2022-11-29T15:00:19.764270",
     "exception": false,
     "start_time": "2022-11-29T15:00:19.742517",
     "status": "completed"
    },
    "tags": []
   },
   "outputs": [
    {
     "data": {
      "text/plain": [
       "(20640, 1)"
      ]
     },
     "execution_count": 22,
     "metadata": {},
     "output_type": "execute_result"
    }
   ],
   "source": [
    "x.shape"
   ]
  },
  {
   "cell_type": "code",
   "execution_count": 23,
   "id": "fe239890",
   "metadata": {
    "execution": {
     "iopub.execute_input": "2022-11-29T15:00:19.790845Z",
     "iopub.status.busy": "2022-11-29T15:00:19.790073Z",
     "iopub.status.idle": "2022-11-29T15:00:19.797073Z",
     "shell.execute_reply": "2022-11-29T15:00:19.796066Z"
    },
    "papermill": {
     "duration": 0.022152,
     "end_time": "2022-11-29T15:00:19.798986",
     "exception": false,
     "start_time": "2022-11-29T15:00:19.776834",
     "status": "completed"
    },
    "tags": []
   },
   "outputs": [
    {
     "data": {
      "text/plain": [
       "62625.9337911434"
      ]
     },
     "execution_count": 23,
     "metadata": {},
     "output_type": "execute_result"
    }
   ],
   "source": [
    "np.sum(np.abs(y-y_pred))/x.shape[0]"
   ]
  },
  {
   "cell_type": "code",
   "execution_count": 24,
   "id": "58ce38e5",
   "metadata": {
    "execution": {
     "iopub.execute_input": "2022-11-29T15:00:19.825932Z",
     "iopub.status.busy": "2022-11-29T15:00:19.825103Z",
     "iopub.status.idle": "2022-11-29T15:00:19.833486Z",
     "shell.execute_reply": "2022-11-29T15:00:19.832545Z"
    },
    "papermill": {
     "duration": 0.023682,
     "end_time": "2022-11-29T15:00:19.835499",
     "exception": false,
     "start_time": "2022-11-29T15:00:19.811817",
     "status": "completed"
    },
    "tags": []
   },
   "outputs": [
    {
     "data": {
      "text/plain": [
       "(62625.9337911434, 83733.57452616918)"
      ]
     },
     "execution_count": 24,
     "metadata": {},
     "output_type": "execute_result"
    }
   ],
   "source": [
    "from sklearn.metrics import mean_squared_error, mean_absolute_error\n",
    "mean_absolute_error(y,y_pred),np.sqrt(mean_squared_error(y,y_pred))"
   ]
  },
  {
   "cell_type": "code",
   "execution_count": 25,
   "id": "7cd468e0",
   "metadata": {
    "execution": {
     "iopub.execute_input": "2022-11-29T15:00:19.861945Z",
     "iopub.status.busy": "2022-11-29T15:00:19.861674Z",
     "iopub.status.idle": "2022-11-29T15:00:20.223061Z",
     "shell.execute_reply": "2022-11-29T15:00:20.222148Z"
    },
    "papermill": {
     "duration": 0.377286,
     "end_time": "2022-11-29T15:00:20.225488",
     "exception": false,
     "start_time": "2022-11-29T15:00:19.848202",
     "status": "completed"
    },
    "tags": []
   },
   "outputs": [
    {
     "data": {
      "text/plain": [
       "<matplotlib.collections.PathCollection at 0x7f0f3f9d6450>"
      ]
     },
     "execution_count": 25,
     "metadata": {},
     "output_type": "execute_result"
    },
    {
     "data": {
      "image/png": "[encoded data removed]",
      "text/plain": [
       "<Figure size 432x288 with 1 Axes>"
      ]
     },
     "metadata": {
      "needs_background": "light"
     },
     "output_type": "display_data"
    }
   ],
   "source": [
    "plt.scatter(x,y)\n",
    "plt.scatter(x,y_pred)"
   ]
  },
  {
   "cell_type": "code",
   "execution_count": 26,
   "id": "e021d9ad",
   "metadata": {
    "execution": {
     "iopub.execute_input": "2022-11-29T15:00:20.254012Z",
     "iopub.status.busy": "2022-11-29T15:00:20.253702Z",
     "iopub.status.idle": "2022-11-29T15:00:20.262786Z",
     "shell.execute_reply": "2022-11-29T15:00:20.261702Z"
    },
    "papermill": {
     "duration": 0.025637,
     "end_time": "2022-11-29T15:00:20.265014",
     "exception": false,
     "start_time": "2022-11-29T15:00:20.239377",
     "status": "completed"
    },
    "tags": []
   },
   "outputs": [
    {
     "data": {
      "text/plain": [
       "15.0001"
      ]
     },
     "execution_count": 26,
     "metadata": {},
     "output_type": "execute_result"
    }
   ],
   "source": [
    "data.median_income.max()"
   ]
  },
  {
   "cell_type": "code",
   "execution_count": 27,
   "id": "231bd734",
   "metadata": {
    "execution": {
     "iopub.execute_input": "2022-11-29T15:00:20.292973Z",
     "iopub.status.busy": "2022-11-29T15:00:20.292703Z",
     "iopub.status.idle": "2022-11-29T15:00:20.297914Z",
     "shell.execute_reply": "2022-11-29T15:00:20.296958Z"
    },
    "papermill": {
     "duration": 0.021929,
     "end_time": "2022-11-29T15:00:20.300280",
     "exception": false,
     "start_time": "2022-11-29T15:00:20.278351",
     "status": "completed"
    },
    "tags": []
   },
   "outputs": [
    {
     "name": "stdout",
     "output_type": "stream",
     "text": [
      "[1 3 5]\n"
     ]
    }
   ],
   "source": [
    "a=np.array([1,2,3,4,5])\n",
    "print(a[[True,False,True,False,True]])"
   ]
  },
  {
   "cell_type": "code",
   "execution_count": 28,
   "id": "c2411116",
   "metadata": {
    "execution": {
     "iopub.execute_input": "2022-11-29T15:00:20.328391Z",
     "iopub.status.busy": "2022-11-29T15:00:20.328130Z",
     "iopub.status.idle": "2022-11-29T15:00:20.336516Z",
     "shell.execute_reply": "2022-11-29T15:00:20.335615Z"
    },
    "papermill": {
     "duration": 0.024989,
     "end_time": "2022-11-29T15:00:20.338543",
     "exception": false,
     "start_time": "2022-11-29T15:00:20.313554",
     "status": "completed"
    },
    "tags": []
   },
   "outputs": [],
   "source": [
    "data1=data[data.median_income<data.median_income.quantile(0.99)]"
   ]
  },
  {
   "cell_type": "code",
   "execution_count": 29,
   "id": "ef86cbea",
   "metadata": {
    "execution": {
     "iopub.execute_input": "2022-11-29T15:00:20.368524Z",
     "iopub.status.busy": "2022-11-29T15:00:20.368254Z",
     "iopub.status.idle": "2022-11-29T15:00:20.380207Z",
     "shell.execute_reply": "2022-11-29T15:00:20.379327Z"
    },
    "papermill": {
     "duration": 0.028973,
     "end_time": "2022-11-29T15:00:20.382274",
     "exception": false,
     "start_time": "2022-11-29T15:00:20.353301",
     "status": "completed"
    },
    "tags": []
   },
   "outputs": [],
   "source": [
    "data1=data[data.median_income<data.median_income.quantile(0.96)]\n",
    "data1=data1[data1.median_house_value<data1.median_house_value.quantile(0.92)]"
   ]
  },
  {
   "cell_type": "code",
   "execution_count": 30,
   "id": "53ca3b4e",
   "metadata": {
    "execution": {
     "iopub.execute_input": "2022-11-29T15:00:20.409733Z",
     "iopub.status.busy": "2022-11-29T15:00:20.409486Z",
     "iopub.status.idle": "2022-11-29T15:00:20.415119Z",
     "shell.execute_reply": "2022-11-29T15:00:20.414186Z"
    },
    "papermill": {
     "duration": 0.021502,
     "end_time": "2022-11-29T15:00:20.417233",
     "exception": false,
     "start_time": "2022-11-29T15:00:20.395731",
     "status": "completed"
    },
    "tags": []
   },
   "outputs": [
    {
     "data": {
      "text/plain": [
       "((20640, 10), (18227, 10))"
      ]
     },
     "execution_count": 30,
     "metadata": {},
     "output_type": "execute_result"
    }
   ],
   "source": [
    "data.shape,data1.shape"
   ]
  },
  {
   "cell_type": "code",
   "execution_count": 31,
   "id": "0af4ac6f",
   "metadata": {
    "execution": {
     "iopub.execute_input": "2022-11-29T15:00:20.444853Z",
     "iopub.status.busy": "2022-11-29T15:00:20.444563Z",
     "iopub.status.idle": "2022-11-29T15:00:20.628570Z",
     "shell.execute_reply": "2022-11-29T15:00:20.627681Z"
    },
    "papermill": {
     "duration": 0.200308,
     "end_time": "2022-11-29T15:00:20.630786",
     "exception": false,
     "start_time": "2022-11-29T15:00:20.430478",
     "status": "completed"
    },
    "tags": []
   },
   "outputs": [
    {
     "data": {
      "text/plain": [
       "{'whiskers': [<matplotlib.lines.Line2D at 0x7f0f3f96df90>,\n",
       "  <matplotlib.lines.Line2D at 0x7f0f3f976310>],\n",
       " 'caps': [<matplotlib.lines.Line2D at 0x7f0f3f976650>,\n",
       "  <matplotlib.lines.Line2D at 0x7f0f3f976990>],\n",
       " 'boxes': [<matplotlib.lines.Line2D at 0x7f0f3f96dc90>],\n",
       " 'medians': [<matplotlib.lines.Line2D at 0x7f0f3f976d10>],\n",
       " 'fliers': [<matplotlib.lines.Line2D at 0x7f0f3f983090>],\n",
       " 'means': []}"
      ]
     },
     "execution_count": 31,
     "metadata": {},
     "output_type": "execute_result"
    },
    {
     "data": {
      "image/png": "[encoded data removed]",
      "text/plain": [
       "<Figure size 432x288 with 1 Axes>"
      ]
     },
     "metadata": {
      "needs_background": "light"
     },
     "output_type": "display_data"
    }
   ],
   "source": [
    "plt.boxplot(data1.median_income)"
   ]
  },
  {
   "cell_type": "code",
   "execution_count": 32,
   "id": "830f4da2",
   "metadata": {
    "execution": {
     "iopub.execute_input": "2022-11-29T15:00:20.661229Z",
     "iopub.status.busy": "2022-11-29T15:00:20.659850Z",
     "iopub.status.idle": "2022-11-29T15:00:20.836884Z",
     "shell.execute_reply": "2022-11-29T15:00:20.836259Z"
    },
    "papermill": {
     "duration": 0.193633,
     "end_time": "2022-11-29T15:00:20.838666",
     "exception": false,
     "start_time": "2022-11-29T15:00:20.645033",
     "status": "completed"
    },
    "tags": []
   },
   "outputs": [
    {
     "data": {
      "text/plain": [
       "{'whiskers': [<matplotlib.lines.Line2D at 0x7f0f3f8f4250>,\n",
       "  <matplotlib.lines.Line2D at 0x7f0f3f8f4590>],\n",
       " 'caps': [<matplotlib.lines.Line2D at 0x7f0f3f8f48d0>,\n",
       "  <matplotlib.lines.Line2D at 0x7f0f3f8f4c10>],\n",
       " 'boxes': [<matplotlib.lines.Line2D at 0x7f0f3f8d1590>],\n",
       " 'medians': [<matplotlib.lines.Line2D at 0x7f0f3f8f4f90>],\n",
       " 'fliers': [<matplotlib.lines.Line2D at 0x7f0f3f904310>],\n",
       " 'means': []}"
      ]
     },
     "execution_count": 32,
     "metadata": {},
     "output_type": "execute_result"
    },
    {
     "data": {
      "image/png": "[encoded data removed]",
      "text/plain": [
       "<Figure size 432x288 with 1 Axes>"
      ]
     },
     "metadata": {
      "needs_background": "light"
     },
     "output_type": "display_data"
    }
   ],
   "source": [
    "plt.boxplot(data1.median_house_value)"
   ]
  },
  {
   "cell_type": "code",
   "execution_count": 33,
   "id": "152af866",
   "metadata": {
    "execution": {
     "iopub.execute_input": "2022-11-29T15:00:20.869099Z",
     "iopub.status.busy": "2022-11-29T15:00:20.867513Z",
     "iopub.status.idle": "2022-11-29T15:00:21.151121Z",
     "shell.execute_reply": "2022-11-29T15:00:21.150313Z"
    },
    "papermill": {
     "duration": 0.300742,
     "end_time": "2022-11-29T15:00:21.153281",
     "exception": false,
     "start_time": "2022-11-29T15:00:20.852539",
     "status": "completed"
    },
    "tags": []
   },
   "outputs": [
    {
     "data": {
      "text/plain": [
       "<matplotlib.collections.PathCollection at 0x7f0f3f86be90>"
      ]
     },
     "execution_count": 33,
     "metadata": {},
     "output_type": "execute_result"
    },
    {
     "data": {
      "image/png": "[encoded data removed]",
      "text/plain": [
       "<Figure size 432x288 with 1 Axes>"
      ]
     },
     "metadata": {
      "needs_background": "light"
     },
     "output_type": "display_data"
    }
   ],
   "source": [
    "plt.scatter(data1.median_income,data1.median_house_value)"
   ]
  },
  {
   "cell_type": "code",
   "execution_count": 34,
   "id": "b6355a78",
   "metadata": {
    "execution": {
     "iopub.execute_input": "2022-11-29T15:00:21.184229Z",
     "iopub.status.busy": "2022-11-29T15:00:21.183949Z",
     "iopub.status.idle": "2022-11-29T15:00:21.190254Z",
     "shell.execute_reply": "2022-11-29T15:00:21.189406Z"
    },
    "papermill": {
     "duration": 0.02358,
     "end_time": "2022-11-29T15:00:21.192203",
     "exception": false,
     "start_time": "2022-11-29T15:00:21.168623",
     "status": "completed"
    },
    "tags": []
   },
   "outputs": [],
   "source": [
    "x=data[['median_income','population','housing_median_age']]\n",
    "y=data.median_house_value.values.reshape(-1,1)"
   ]
  },
  {
   "cell_type": "code",
   "execution_count": 35,
   "id": "8bbda024",
   "metadata": {
    "execution": {
     "iopub.execute_input": "2022-11-29T15:00:21.222199Z",
     "iopub.status.busy": "2022-11-29T15:00:21.221325Z",
     "iopub.status.idle": "2022-11-29T15:00:21.231025Z",
     "shell.execute_reply": "2022-11-29T15:00:21.230104Z"
    },
    "papermill": {
     "duration": 0.026725,
     "end_time": "2022-11-29T15:00:21.233017",
     "exception": false,
     "start_time": "2022-11-29T15:00:21.206292",
     "status": "completed"
    },
    "tags": []
   },
   "outputs": [
    {
     "data": {
      "text/plain": [
       "(median_income            15.0001\n",
       " population            35682.0000\n",
       " housing_median_age       52.0000\n",
       " dtype: float64,\n",
       " median_income         0.4999\n",
       " population            3.0000\n",
       " housing_median_age    1.0000\n",
       " dtype: float64,\n",
       " 500001.0,\n",
       " 14999.0)"
      ]
     },
     "execution_count": 35,
     "metadata": {},
     "output_type": "execute_result"
    }
   ],
   "source": [
    "x.max(),x.min(),y.max(),y.min()"
   ]
  },
  {
   "cell_type": "code",
   "execution_count": 36,
   "id": "407da045",
   "metadata": {
    "execution": {
     "iopub.execute_input": "2022-11-29T15:00:21.263909Z",
     "iopub.status.busy": "2022-11-29T15:00:21.263141Z",
     "iopub.status.idle": "2022-11-29T15:00:21.275931Z",
     "shell.execute_reply": "2022-11-29T15:00:21.274662Z"
    },
    "papermill": {
     "duration": 0.031718,
     "end_time": "2022-11-29T15:00:21.279589",
     "exception": false,
     "start_time": "2022-11-29T15:00:21.247871",
     "status": "completed"
    },
    "tags": []
   },
   "outputs": [],
   "source": [
    "from sklearn.linear_model import LinearRegression\n",
    "lm=LinearRegression()\n",
    "lm.fit(x,y)\n",
    "y_pred=lm.predict(x)"
   ]
  },
  {
   "cell_type": "code",
   "execution_count": 37,
   "id": "6137eb0b",
   "metadata": {
    "execution": {
     "iopub.execute_input": "2022-11-29T15:00:21.353820Z",
     "iopub.status.busy": "2022-11-29T15:00:21.353387Z",
     "iopub.status.idle": "2022-11-29T15:00:21.362281Z",
     "shell.execute_reply": "2022-11-29T15:00:21.361270Z"
    },
    "papermill": {
     "duration": 0.04929,
     "end_time": "2022-11-29T15:00:21.365362",
     "exception": false,
     "start_time": "2022-11-29T15:00:21.316072",
     "status": "completed"
    },
    "tags": []
   },
   "outputs": [
    {
     "data": {
      "text/plain": [
       "(60246.12193197326, 80775.27254790647)"
      ]
     },
     "execution_count": 37,
     "metadata": {},
     "output_type": "execute_result"
    }
   ],
   "source": [
    "mean_absolute_error(y,y_pred),np.sqrt(mean_squared_error(y,y_pred))"
   ]
  },
  {
   "cell_type": "code",
   "execution_count": 38,
   "id": "694497dd",
   "metadata": {
    "execution": {
     "iopub.execute_input": "2022-11-29T15:00:21.421222Z",
     "iopub.status.busy": "2022-11-29T15:00:21.420940Z",
     "iopub.status.idle": "2022-11-29T15:00:21.429724Z",
     "shell.execute_reply": "2022-11-29T15:00:21.428732Z"
    },
    "papermill": {
     "duration": 0.028265,
     "end_time": "2022-11-29T15:00:21.431613",
     "exception": false,
     "start_time": "2022-11-29T15:00:21.403348",
     "status": "completed"
    },
    "tags": []
   },
   "outputs": [
    {
     "data": {
      "text/plain": [
       "((16512, 3), (16512, 1), (4128, 3), (4128, 1))"
      ]
     },
     "execution_count": 38,
     "metadata": {},
     "output_type": "execute_result"
    }
   ],
   "source": [
    "from sklearn.model_selection import train_test_split\n",
    "x_train,x_test, y_train,y_test = train_test_split(x,y,test_size=0.2)\n",
    "x_train.shape,y_train.shape, x_test.shape,y_test.shape\n"
   ]
  },
  {
   "cell_type": "code",
   "execution_count": 39,
   "id": "990ebe9a",
   "metadata": {
    "execution": {
     "iopub.execute_input": "2022-11-29T15:00:21.465600Z",
     "iopub.status.busy": "2022-11-29T15:00:21.464556Z",
     "iopub.status.idle": "2022-11-29T15:00:21.475104Z",
     "shell.execute_reply": "2022-11-29T15:00:21.474120Z"
    },
    "papermill": {
     "duration": 0.028939,
     "end_time": "2022-11-29T15:00:21.477548",
     "exception": false,
     "start_time": "2022-11-29T15:00:21.448609",
     "status": "completed"
    },
    "tags": []
   },
   "outputs": [
    {
     "data": {
      "text/plain": [
       "(median_income            15.0001\n",
       " population            35682.0000\n",
       " housing_median_age       52.0000\n",
       " dtype: float64,\n",
       " 500001.0,\n",
       " median_income            15.0001\n",
       " population            16122.0000\n",
       " housing_median_age       52.0000\n",
       " dtype: float64,\n",
       " 500001.0)"
      ]
     },
     "execution_count": 39,
     "metadata": {},
     "output_type": "execute_result"
    }
   ],
   "source": [
    "x_train.max(),y_train.max(), x_test.max(),y_test.max()"
   ]
  },
  {
   "cell_type": "code",
   "execution_count": 40,
   "id": "cc03a5db",
   "metadata": {
    "execution": {
     "iopub.execute_input": "2022-11-29T15:00:21.508745Z",
     "iopub.status.busy": "2022-11-29T15:00:21.507924Z",
     "iopub.status.idle": "2022-11-29T15:00:31.042622Z",
     "shell.execute_reply": "2022-11-29T15:00:31.040193Z"
    },
    "papermill": {
     "duration": 9.553024,
     "end_time": "2022-11-29T15:00:31.045531",
     "exception": false,
     "start_time": "2022-11-29T15:00:21.492507",
     "status": "completed"
    },
    "tags": []
   },
   "outputs": [
    {
     "name": "stderr",
     "output_type": "stream",
     "text": [
      "2022-11-29 15:00:27.356348: I tensorflow/stream_executor/cuda/cuda_gpu_executor.cc:937] successful NUMA node read from SysFS had negative value (-1), but there must be at least one NUMA node, so returning NUMA node zero\n",
      "2022-11-29 15:00:27.357269: I tensorflow/stream_executor/cuda/cuda_gpu_executor.cc:937] successful NUMA node read from SysFS had negative value (-1), but there must be at least one NUMA node, so returning NUMA node zero\n",
      "2022-11-29 15:00:27.480021: I tensorflow/stream_executor/cuda/cuda_gpu_executor.cc:937] successful NUMA node read from SysFS had negative value (-1), but there must be at least one NUMA node, so returning NUMA node zero\n",
      "2022-11-29 15:00:27.480888: I tensorflow/stream_executor/cuda/cuda_gpu_executor.cc:937] successful NUMA node read from SysFS had negative value (-1), but there must be at least one NUMA node, so returning NUMA node zero\n",
      "2022-11-29 15:00:27.481640: I tensorflow/stream_executor/cuda/cuda_gpu_executor.cc:937] successful NUMA node read from SysFS had negative value (-1), but there must be at least one NUMA node, so returning NUMA node zero\n",
      "2022-11-29 15:00:27.482454: I tensorflow/stream_executor/cuda/cuda_gpu_executor.cc:937] successful NUMA node read from SysFS had negative value (-1), but there must be at least one NUMA node, so returning NUMA node zero\n",
      "2022-11-29 15:00:27.484654: I tensorflow/core/platform/cpu_feature_guard.cc:142] This TensorFlow binary is optimized with oneAPI Deep Neural Network Library (oneDNN) to use the following CPU instructions in performance-critical operations:  AVX2 AVX512F FMA\n",
      "To enable them in other operations, rebuild TensorFlow with the appropriate compiler flags.\n",
      "2022-11-29 15:00:27.736192: I tensorflow/stream_executor/cuda/cuda_gpu_executor.cc:937] successful NUMA node read from SysFS had negative value (-1), but there must be at least one NUMA node, so returning NUMA node zero\n",
      "2022-11-29 15:00:27.737073: I tensorflow/stream_executor/cuda/cuda_gpu_executor.cc:937] successful NUMA node read from SysFS had negative value (-1), but there must be at least one NUMA node, so returning NUMA node zero\n",
      "2022-11-29 15:00:27.737839: I tensorflow/stream_executor/cuda/cuda_gpu_executor.cc:937] successful NUMA node read from SysFS had negative value (-1), but there must be at least one NUMA node, so returning NUMA node zero\n",
      "2022-11-29 15:00:27.738523: I tensorflow/stream_executor/cuda/cuda_gpu_executor.cc:937] successful NUMA node read from SysFS had negative value (-1), but there must be at least one NUMA node, so returning NUMA node zero\n",
      "2022-11-29 15:00:27.739210: I tensorflow/stream_executor/cuda/cuda_gpu_executor.cc:937] successful NUMA node read from SysFS had negative value (-1), but there must be at least one NUMA node, so returning NUMA node zero\n",
      "2022-11-29 15:00:27.739972: I tensorflow/stream_executor/cuda/cuda_gpu_executor.cc:937] successful NUMA node read from SysFS had negative value (-1), but there must be at least one NUMA node, so returning NUMA node zero\n",
      "2022-11-29 15:00:30.639719: I tensorflow/stream_executor/cuda/cuda_gpu_executor.cc:937] successful NUMA node read from SysFS had negative value (-1), but there must be at least one NUMA node, so returning NUMA node zero\n",
      "2022-11-29 15:00:30.640672: I tensorflow/stream_executor/cuda/cuda_gpu_executor.cc:937] successful NUMA node read from SysFS had negative value (-1), but there must be at least one NUMA node, so returning NUMA node zero\n",
      "2022-11-29 15:00:30.641443: I tensorflow/stream_executor/cuda/cuda_gpu_executor.cc:937] successful NUMA node read from SysFS had negative value (-1), but there must be at least one NUMA node, so returning NUMA node zero\n",
      "2022-11-29 15:00:30.642170: I tensorflow/stream_executor/cuda/cuda_gpu_executor.cc:937] successful NUMA node read from SysFS had negative value (-1), but there must be at least one NUMA node, so returning NUMA node zero\n",
      "2022-11-29 15:00:30.642865: I tensorflow/stream_executor/cuda/cuda_gpu_executor.cc:937] successful NUMA node read from SysFS had negative value (-1), but there must be at least one NUMA node, so returning NUMA node zero\n",
      "2022-11-29 15:00:30.643537: I tensorflow/core/common_runtime/gpu/gpu_device.cc:1510] Created device /job:localhost/replica:0/task:0/device:GPU:0 with 13789 MB memory:  -> device: 0, name: Tesla T4, pci bus id: 0000:00:04.0, compute capability: 7.5\n",
      "2022-11-29 15:00:30.646714: I tensorflow/stream_executor/cuda/cuda_gpu_executor.cc:937] successful NUMA node read from SysFS had negative value (-1), but there must be at least one NUMA node, so returning NUMA node zero\n",
      "2022-11-29 15:00:30.647448: I tensorflow/core/common_runtime/gpu/gpu_device.cc:1510] Created device /job:localhost/replica:0/task:0/device:GPU:1 with 13789 MB memory:  -> device: 1, name: Tesla T4, pci bus id: 0000:00:05.0, compute capability: 7.5\n"
     ]
    },
    {
     "name": "stdout",
     "output_type": "stream",
     "text": [
      "Model: \"sequential\"\n",
      "_________________________________________________________________\n",
      "Layer (type)                 Output Shape              Param #   \n",
      "=================================================================\n",
      "dense (Dense)                (None, 50)                200       \n",
      "_________________________________________________________________\n",
      "dense_1 (Dense)              (None, 100)               5100      \n",
      "_________________________________________________________________\n",
      "dense_2 (Dense)              (None, 150)               15150     \n",
      "_________________________________________________________________\n",
      "dense_3 (Dense)              (None, 1)                 151       \n",
      "=================================================================\n",
      "Total params: 20,601\n",
      "Trainable params: 20,601\n",
      "Non-trainable params: 0\n",
      "_________________________________________________________________\n"
     ]
    }
   ],
   "source": [
    "from tensorflow.keras.models import Sequential\n",
    "from tensorflow.keras.layers import Dense\n",
    "\n",
    "model=Sequential()\n",
    "model.add(Dense(50,activation='relu',input_dim=3))\n",
    "model.add(Dense(100,activation='relu'))\n",
    "model.add(Dense(150,activation='relu'))\n",
    "model.add(Dense(1,activation='relu'))\n",
    "\n",
    "model.summary()"
   ]
  },
  {
   "cell_type": "code",
   "execution_count": 41,
   "id": "9d911818",
   "metadata": {
    "execution": {
     "iopub.execute_input": "2022-11-29T15:00:31.078930Z",
     "iopub.status.busy": "2022-11-29T15:00:31.078186Z",
     "iopub.status.idle": "2022-11-29T15:01:53.470607Z",
     "shell.execute_reply": "2022-11-29T15:01:53.469679Z"
    },
    "papermill": {
     "duration": 82.469986,
     "end_time": "2022-11-29T15:01:53.531866",
     "exception": false,
     "start_time": "2022-11-29T15:00:31.061880",
     "status": "completed"
    },
    "tags": []
   },
   "outputs": [
    {
     "name": "stdout",
     "output_type": "stream",
     "text": [
      "Epoch 1/50\n"
     ]
    },
    {
     "name": "stderr",
     "output_type": "stream",
     "text": [
      "2022-11-29 15:00:31.154494: I tensorflow/compiler/mlir/mlir_graph_optimization_pass.cc:185] None of the MLIR Optimization Passes are enabled (registered 2)\n"
     ]
    },
    {
     "name": "stdout",
     "output_type": "stream",
     "text": [
      "516/516 [==============================] - 3s 2ms/step - loss: 33496274944.0000\n",
      "Epoch 2/50\n",
      "516/516 [==============================] - 1s 2ms/step - loss: 25014226944.0000\n",
      "Epoch 3/50\n",
      "516/516 [==============================] - 1s 2ms/step - loss: 15288072192.0000\n",
      "Epoch 4/50\n",
      "516/516 [==============================] - 1s 2ms/step - loss: 13379124224.0000\n",
      "Epoch 5/50\n",
      "516/516 [==============================] - 1s 2ms/step - loss: 12533272576.0000\n",
      "Epoch 6/50\n",
      "516/516 [==============================] - 1s 2ms/step - loss: 11496272896.0000\n",
      "Epoch 7/50\n",
      "516/516 [==============================] - 1s 2ms/step - loss: 10150134784.0000\n",
      "Epoch 8/50\n",
      "516/516 [==============================] - 1s 2ms/step - loss: 8485282816.0000\n",
      "Epoch 9/50\n",
      "516/516 [==============================] - 1s 2ms/step - loss: 7115056128.0000\n",
      "Epoch 10/50\n",
      "516/516 [==============================] - 1s 2ms/step - loss: 6760325120.0000\n",
      "Epoch 11/50\n",
      "516/516 [==============================] - 1s 2ms/step - loss: 6716032000.0000\n",
      "Epoch 12/50\n",
      "516/516 [==============================] - 1s 2ms/step - loss: 6706729984.0000\n",
      "Epoch 13/50\n",
      "516/516 [==============================] - 1s 2ms/step - loss: 6700039168.0000\n",
      "Epoch 14/50\n",
      "516/516 [==============================] - 1s 2ms/step - loss: 6700954624.0000\n",
      "Epoch 15/50\n",
      "516/516 [==============================] - 1s 2ms/step - loss: 6694284288.0000\n",
      "Epoch 16/50\n",
      "516/516 [==============================] - 1s 2ms/step - loss: 6756275200.0000\n",
      "Epoch 17/50\n",
      "516/516 [==============================] - 1s 1ms/step - loss: 6669828608.0000\n",
      "Epoch 18/50\n",
      "516/516 [==============================] - 1s 2ms/step - loss: 6698642432.0000\n",
      "Epoch 19/50\n",
      "516/516 [==============================] - 1s 2ms/step - loss: 6691069440.0000\n",
      "Epoch 20/50\n",
      "516/516 [==============================] - 1s 2ms/step - loss: 6715426304.0000\n",
      "Epoch 21/50\n",
      "516/516 [==============================] - 1s 2ms/step - loss: 6682499072.0000\n",
      "Epoch 22/50\n",
      "516/516 [==============================] - 1s 2ms/step - loss: 6689518592.0000\n",
      "Epoch 23/50\n",
      "516/516 [==============================] - 1s 2ms/step - loss: 6674734592.0000\n",
      "Epoch 24/50\n",
      "516/516 [==============================] - 1s 2ms/step - loss: 6720139776.0000\n",
      "Epoch 25/50\n",
      "516/516 [==============================] - 1s 2ms/step - loss: 6667860480.0000\n",
      "Epoch 26/50\n",
      "516/516 [==============================] - 1s 2ms/step - loss: 6724555776.0000\n",
      "Epoch 27/50\n",
      "516/516 [==============================] - 1s 1ms/step - loss: 6619038208.0000\n",
      "Epoch 28/50\n",
      "516/516 [==============================] - 1s 2ms/step - loss: 6653339136.0000\n",
      "Epoch 29/50\n",
      "516/516 [==============================] - 1s 2ms/step - loss: 6688275968.0000\n",
      "Epoch 30/50\n",
      "516/516 [==============================] - 1s 2ms/step - loss: 6636521984.0000\n",
      "Epoch 31/50\n",
      "516/516 [==============================] - 1s 2ms/step - loss: 6702492672.0000\n",
      "Epoch 32/50\n",
      "516/516 [==============================] - 1s 2ms/step - loss: 6646699008.0000\n",
      "Epoch 33/50\n",
      "516/516 [==============================] - 1s 2ms/step - loss: 6620056064.0000\n",
      "Epoch 34/50\n",
      "516/516 [==============================] - 1s 2ms/step - loss: 6637783040.0000\n",
      "Epoch 35/50\n",
      "516/516 [==============================] - 1s 2ms/step - loss: 6604196352.0000\n",
      "Epoch 36/50\n",
      "516/516 [==============================] - 1s 2ms/step - loss: 6594991616.0000\n",
      "Epoch 37/50\n",
      "516/516 [==============================] - 1s 2ms/step - loss: 6576311296.0000\n",
      "Epoch 38/50\n",
      "516/516 [==============================] - 1s 2ms/step - loss: 6600769024.0000\n",
      "Epoch 39/50\n",
      "516/516 [==============================] - 1s 2ms/step - loss: 6604689920.0000\n",
      "Epoch 40/50\n",
      "516/516 [==============================] - 1s 2ms/step - loss: 6630238720.0000\n",
      "Epoch 41/50\n",
      "516/516 [==============================] - 1s 2ms/step - loss: 6607691264.0000\n",
      "Epoch 42/50\n",
      "516/516 [==============================] - 1s 2ms/step - loss: 6571287552.0000\n",
      "Epoch 43/50\n",
      "516/516 [==============================] - 1s 2ms/step - loss: 6603151872.0000\n",
      "Epoch 44/50\n",
      "516/516 [==============================] - 1s 2ms/step - loss: 6531935232.0000\n",
      "Epoch 45/50\n",
      "516/516 [==============================] - 1s 2ms/step - loss: 6567779840.0000\n",
      "Epoch 46/50\n",
      "516/516 [==============================] - 1s 2ms/step - loss: 6549140480.0000\n",
      "Epoch 47/50\n",
      "516/516 [==============================] - 1s 2ms/step - loss: 6551918080.0000\n",
      "Epoch 48/50\n",
      "516/516 [==============================] - 1s 2ms/step - loss: 6525347328.0000\n",
      "Epoch 49/50\n",
      "516/516 [==============================] - 1s 2ms/step - loss: 6533737984.0000\n",
      "Epoch 50/50\n",
      "516/516 [==============================] - 1s 2ms/step - loss: 6558974464.0000\n"
     ]
    },
    {
     "data": {
      "text/plain": [
       "<keras.callbacks.History at 0x7f0ef0d54650>"
      ]
     },
     "execution_count": 41,
     "metadata": {},
     "output_type": "execute_result"
    }
   ],
   "source": [
    "model.compile(loss='mean_squared_error', optimizer='adam')\n",
    "model.fit(x_train,y_train,epochs=50)"
   ]
  },
  {
   "cell_type": "code",
   "execution_count": 42,
   "id": "0e14741c",
   "metadata": {
    "execution": {
     "iopub.execute_input": "2022-11-29T15:01:53.650296Z",
     "iopub.status.busy": "2022-11-29T15:01:53.649409Z",
     "iopub.status.idle": "2022-11-29T15:01:53.660045Z",
     "shell.execute_reply": "2022-11-29T15:01:53.658978Z"
    },
    "papermill": {
     "duration": 0.07277,
     "end_time": "2022-11-29T15:01:53.663195",
     "exception": false,
     "start_time": "2022-11-29T15:01:53.590425",
     "status": "completed"
    },
    "tags": []
   },
   "outputs": [
    {
     "data": {
      "text/plain": [
       "60210.81162154681"
      ]
     },
     "execution_count": 42,
     "metadata": {},
     "output_type": "execute_result"
    }
   ],
   "source": [
    "y_train_pred=lm.predict(x_train)\n",
    "mean_absolute_error(y_train,y_train_pred)"
   ]
  },
  {
   "cell_type": "code",
   "execution_count": 43,
   "id": "b52e71bb",
   "metadata": {
    "execution": {
     "iopub.execute_input": "2022-11-29T15:01:53.865903Z",
     "iopub.status.busy": "2022-11-29T15:01:53.865567Z",
     "iopub.status.idle": "2022-11-29T15:01:53.876630Z",
     "shell.execute_reply": "2022-11-29T15:01:53.875294Z"
    },
    "papermill": {
     "duration": 0.079285,
     "end_time": "2022-11-29T15:01:53.881116",
     "exception": false,
     "start_time": "2022-11-29T15:01:53.801831",
     "status": "completed"
    },
    "tags": []
   },
   "outputs": [
    {
     "data": {
      "text/plain": [
       "60387.36317367905"
      ]
     },
     "execution_count": 43,
     "metadata": {},
     "output_type": "execute_result"
    }
   ],
   "source": [
    "y_test_pred=lm.predict(x_test)\n",
    "mean_absolute_error(y_test,y_test_pred)"
   ]
  },
  {
   "cell_type": "code",
   "execution_count": 44,
   "id": "824223cd",
   "metadata": {
    "execution": {
     "iopub.execute_input": "2022-11-29T15:01:54.080926Z",
     "iopub.status.busy": "2022-11-29T15:01:54.080611Z",
     "iopub.status.idle": "2022-11-29T15:02:35.307626Z",
     "shell.execute_reply": "2022-11-29T15:02:35.306705Z"
    },
    "papermill": {
     "duration": 41.290962,
     "end_time": "2022-11-29T15:02:35.309837",
     "exception": false,
     "start_time": "2022-11-29T15:01:54.018875",
     "status": "completed"
    },
    "tags": []
   },
   "outputs": [
    {
     "name": "stdout",
     "output_type": "stream",
     "text": [
      "Model: \"sequential_1\"\n",
      "_________________________________________________________________\n",
      "Layer (type)                 Output Shape              Param #   \n",
      "=================================================================\n",
      "dense_4 (Dense)              (None, 50)                200       \n",
      "_________________________________________________________________\n",
      "dense_5 (Dense)              (None, 100)               5100      \n",
      "_________________________________________________________________\n",
      "dense_6 (Dense)              (None, 150)               15150     \n",
      "_________________________________________________________________\n",
      "dense_7 (Dense)              (None, 1)                 151       \n",
      "=================================================================\n",
      "Total params: 20,601\n",
      "Trainable params: 20,601\n",
      "Non-trainable params: 0\n",
      "_________________________________________________________________\n",
      "Epoch 1/50\n",
      "516/516 [==============================] - 1s 1ms/step - loss: nan\n",
      "Epoch 2/50\n",
      "516/516 [==============================] - 1s 1ms/step - loss: nan\n",
      "Epoch 3/50\n",
      "516/516 [==============================] - 1s 2ms/step - loss: nan\n",
      "Epoch 4/50\n",
      "516/516 [==============================] - 1s 1ms/step - loss: nan\n",
      "Epoch 5/50\n",
      "516/516 [==============================] - 1s 1ms/step - loss: nan\n",
      "Epoch 6/50\n",
      "516/516 [==============================] - 1s 1ms/step - loss: nan\n",
      "Epoch 7/50\n",
      "516/516 [==============================] - 1s 1ms/step - loss: nan\n",
      "Epoch 8/50\n",
      "516/516 [==============================] - 1s 1ms/step - loss: nan\n",
      "Epoch 9/50\n",
      "516/516 [==============================] - 1s 1ms/step - loss: nan\n",
      "Epoch 10/50\n",
      "516/516 [==============================] - 1s 1ms/step - loss: nan\n",
      "Epoch 11/50\n",
      "516/516 [==============================] - 1s 1ms/step - loss: nan\n",
      "Epoch 12/50\n",
      "516/516 [==============================] - 1s 1ms/step - loss: nan\n",
      "Epoch 13/50\n",
      "516/516 [==============================] - 1s 1ms/step - loss: nan\n",
      "Epoch 14/50\n",
      "516/516 [==============================] - 1s 1ms/step - loss: nan\n",
      "Epoch 15/50\n",
      "516/516 [==============================] - 1s 2ms/step - loss: nan\n",
      "Epoch 16/50\n",
      "516/516 [==============================] - 1s 2ms/step - loss: nan\n",
      "Epoch 17/50\n",
      "516/516 [==============================] - 1s 2ms/step - loss: nan\n",
      "Epoch 18/50\n",
      "516/516 [==============================] - 1s 2ms/step - loss: nan\n",
      "Epoch 19/50\n",
      "516/516 [==============================] - 1s 1ms/step - loss: nan\n",
      "Epoch 20/50\n",
      "516/516 [==============================] - 1s 1ms/step - loss: nan\n",
      "Epoch 21/50\n",
      "516/516 [==============================] - 1s 1ms/step - loss: nan\n",
      "Epoch 22/50\n",
      "516/516 [==============================] - 1s 1ms/step - loss: nan\n",
      "Epoch 23/50\n",
      "516/516 [==============================] - 1s 1ms/step - loss: nan\n",
      "Epoch 24/50\n",
      "516/516 [==============================] - 1s 1ms/step - loss: nan\n",
      "Epoch 25/50\n",
      "516/516 [==============================] - 1s 1ms/step - loss: nan\n",
      "Epoch 26/50\n",
      "516/516 [==============================] - 1s 1ms/step - loss: nan\n",
      "Epoch 27/50\n",
      "516/516 [==============================] - 1s 1ms/step - loss: nan\n",
      "Epoch 28/50\n",
      "516/516 [==============================] - 1s 1ms/step - loss: nan\n",
      "Epoch 29/50\n",
      "516/516 [==============================] - 1s 1ms/step - loss: nan\n",
      "Epoch 30/50\n",
      "516/516 [==============================] - 1s 1ms/step - loss: nan\n",
      "Epoch 31/50\n",
      "516/516 [==============================] - 1s 1ms/step - loss: nan\n",
      "Epoch 32/50\n",
      "516/516 [==============================] - 1s 2ms/step - loss: nan\n",
      "Epoch 33/50\n",
      "516/516 [==============================] - 1s 1ms/step - loss: nan\n",
      "Epoch 34/50\n",
      "516/516 [==============================] - 1s 1ms/step - loss: nan\n",
      "Epoch 35/50\n",
      "516/516 [==============================] - 1s 1ms/step - loss: nan\n",
      "Epoch 36/50\n",
      "516/516 [==============================] - 1s 1ms/step - loss: nan\n",
      "Epoch 37/50\n",
      "516/516 [==============================] - 1s 1ms/step - loss: nan\n",
      "Epoch 38/50\n",
      "516/516 [==============================] - 1s 1ms/step - loss: nan\n",
      "Epoch 39/50\n",
      "516/516 [==============================] - 1s 2ms/step - loss: nan\n",
      "Epoch 40/50\n",
      "516/516 [==============================] - 1s 2ms/step - loss: nan\n",
      "Epoch 41/50\n",
      "516/516 [==============================] - 1s 1ms/step - loss: nan\n",
      "Epoch 42/50\n",
      "516/516 [==============================] - 1s 1ms/step - loss: nan\n",
      "Epoch 43/50\n",
      "516/516 [==============================] - 1s 1ms/step - loss: nan\n",
      "Epoch 44/50\n",
      "516/516 [==============================] - 1s 1ms/step - loss: nan\n",
      "Epoch 45/50\n",
      "516/516 [==============================] - 1s 2ms/step - loss: nan\n",
      "Epoch 46/50\n",
      "516/516 [==============================] - 1s 2ms/step - loss: nan\n",
      "Epoch 47/50\n",
      "516/516 [==============================] - 1s 1ms/step - loss: nan\n",
      "Epoch 48/50\n",
      "516/516 [==============================] - 1s 1ms/step - loss: nan\n",
      "Epoch 49/50\n",
      "516/516 [==============================] - 1s 1ms/step - loss: nan\n",
      "Epoch 50/50\n",
      "516/516 [==============================] - 1s 2ms/step - loss: nan\n"
     ]
    },
    {
     "data": {
      "text/plain": [
       "<keras.callbacks.History at 0x7f0ee03c67d0>"
      ]
     },
     "execution_count": 44,
     "metadata": {},
     "output_type": "execute_result"
    }
   ],
   "source": [
    "model=Sequential()\n",
    "model.add(Dense(50,activation='relu',input_dim=3))\n",
    "model.add(Dense(100,activation='relu'))\n",
    "model.add(Dense(150,activation='relu'))\n",
    "model.add(Dense(1,activation='relu'))\n",
    "\n",
    "model.summary()\n",
    "\n",
    "model.compile(loss='mean_squared_error', optimizer='sgd')\n",
    "model.fit(x_train,y_train,epochs=50)"
   ]
  },
  {
   "cell_type": "code",
   "execution_count": 45,
   "id": "7f002e85",
   "metadata": {
    "execution": {
     "iopub.execute_input": "2022-11-29T15:02:35.513923Z",
     "iopub.status.busy": "2022-11-29T15:02:35.513602Z",
     "iopub.status.idle": "2022-11-29T15:02:35.526854Z",
     "shell.execute_reply": "2022-11-29T15:02:35.525614Z"
    },
    "papermill": {
     "duration": 0.118474,
     "end_time": "2022-11-29T15:02:35.531002",
     "exception": false,
     "start_time": "2022-11-29T15:02:35.412528",
     "status": "completed"
    },
    "tags": []
   },
   "outputs": [
    {
     "data": {
      "text/plain": [
       "60210.81162154681"
      ]
     },
     "execution_count": 45,
     "metadata": {},
     "output_type": "execute_result"
    }
   ],
   "source": [
    "y_train_pred=lm.predict(x_train)\n",
    "mean_absolute_error(y_train,y_train_pred)"
   ]
  },
  {
   "cell_type": "code",
   "execution_count": 46,
   "id": "6fc2bffd",
   "metadata": {
    "execution": {
     "iopub.execute_input": "2022-11-29T15:02:35.814562Z",
     "iopub.status.busy": "2022-11-29T15:02:35.814210Z",
     "iopub.status.idle": "2022-11-29T15:02:35.831883Z",
     "shell.execute_reply": "2022-11-29T15:02:35.830427Z"
    },
    "papermill": {
     "duration": 0.129252,
     "end_time": "2022-11-29T15:02:35.836527",
     "exception": false,
     "start_time": "2022-11-29T15:02:35.707275",
     "status": "completed"
    },
    "tags": []
   },
   "outputs": [
    {
     "data": {
      "text/plain": [
       "60387.36317367905"
      ]
     },
     "execution_count": 46,
     "metadata": {},
     "output_type": "execute_result"
    }
   ],
   "source": [
    "y_test_pred=lm.predict(x_test)\n",
    "mean_absolute_error(y_test,y_test_pred)"
   ]
  },
  {
   "cell_type": "code",
   "execution_count": 47,
   "id": "88bc6e6f",
   "metadata": {
    "execution": {
     "iopub.execute_input": "2022-11-29T15:02:36.125547Z",
     "iopub.status.busy": "2022-11-29T15:02:36.125206Z",
     "iopub.status.idle": "2022-11-29T15:03:26.027464Z",
     "shell.execute_reply": "2022-11-29T15:03:26.026257Z"
    },
    "papermill": {
     "duration": 50.010587,
     "end_time": "2022-11-29T15:03:26.029449",
     "exception": false,
     "start_time": "2022-11-29T15:02:36.018862",
     "status": "completed"
    },
    "tags": []
   },
   "outputs": [
    {
     "name": "stdout",
     "output_type": "stream",
     "text": [
      "Model: \"sequential_2\"\n",
      "_________________________________________________________________\n",
      "Layer (type)                 Output Shape              Param #   \n",
      "=================================================================\n",
      "dense_8 (Dense)              (None, 50)                200       \n",
      "_________________________________________________________________\n",
      "dense_9 (Dense)              (None, 100)               5100      \n",
      "_________________________________________________________________\n",
      "dense_10 (Dense)             (None, 150)               15150     \n",
      "_________________________________________________________________\n",
      "dense_11 (Dense)             (None, 1)                 151       \n",
      "=================================================================\n",
      "Total params: 20,601\n",
      "Trainable params: 20,601\n",
      "Non-trainable params: 0\n",
      "_________________________________________________________________\n",
      "Epoch 1/50\n",
      "516/516 [==============================] - 1s 2ms/step - loss: 32571418624.0000\n",
      "Epoch 2/50\n",
      "516/516 [==============================] - 1s 3ms/step - loss: 25726294016.0000\n",
      "Epoch 3/50\n",
      "516/516 [==============================] - 1s 2ms/step - loss: 15640124416.0000\n",
      "Epoch 4/50\n",
      "516/516 [==============================] - 1s 2ms/step - loss: 13578978304.0000\n",
      "Epoch 5/50\n",
      "516/516 [==============================] - 1s 2ms/step - loss: 12310602752.0000\n",
      "Epoch 6/50\n",
      "516/516 [==============================] - 1s 2ms/step - loss: 10645715968.0000\n",
      "Epoch 7/50\n",
      "516/516 [==============================] - 1s 2ms/step - loss: 8629742592.0000\n",
      "Epoch 8/50\n",
      "516/516 [==============================] - 1s 2ms/step - loss: 7199971328.0000\n",
      "Epoch 9/50\n",
      "516/516 [==============================] - 1s 2ms/step - loss: 6960611840.0000\n",
      "Epoch 10/50\n",
      "516/516 [==============================] - 1s 2ms/step - loss: 6917117440.0000\n",
      "Epoch 11/50\n",
      "516/516 [==============================] - 1s 2ms/step - loss: 6935120384.0000\n",
      "Epoch 12/50\n",
      "516/516 [==============================] - 1s 2ms/step - loss: 6900875264.0000\n",
      "Epoch 13/50\n",
      "516/516 [==============================] - 1s 2ms/step - loss: 6903361024.0000\n",
      "Epoch 14/50\n",
      "516/516 [==============================] - 1s 2ms/step - loss: 6886609408.0000\n",
      "Epoch 15/50\n",
      "516/516 [==============================] - 1s 2ms/step - loss: 6881351168.0000\n",
      "Epoch 16/50\n",
      "516/516 [==============================] - 1s 2ms/step - loss: 6861879296.0000\n",
      "Epoch 17/50\n",
      "516/516 [==============================] - 1s 2ms/step - loss: 6886334976.0000\n",
      "Epoch 18/50\n",
      "516/516 [==============================] - 1s 2ms/step - loss: 6864656896.0000\n",
      "Epoch 19/50\n",
      "516/516 [==============================] - 1s 2ms/step - loss: 6836133888.0000\n",
      "Epoch 20/50\n",
      "516/516 [==============================] - 1s 2ms/step - loss: 6821314560.0000\n",
      "Epoch 21/50\n",
      "516/516 [==============================] - 1s 2ms/step - loss: 6838816768.0000\n",
      "Epoch 22/50\n",
      "516/516 [==============================] - 1s 2ms/step - loss: 6818070528.0000\n",
      "Epoch 23/50\n",
      "516/516 [==============================] - 1s 2ms/step - loss: 6803188224.0000\n",
      "Epoch 24/50\n",
      "516/516 [==============================] - 1s 2ms/step - loss: 6768513536.0000\n",
      "Epoch 25/50\n",
      "516/516 [==============================] - 1s 2ms/step - loss: 6803224064.0000\n",
      "Epoch 26/50\n",
      "516/516 [==============================] - 1s 2ms/step - loss: 6760079360.0000\n",
      "Epoch 27/50\n",
      "516/516 [==============================] - 1s 2ms/step - loss: 6789445632.0000\n",
      "Epoch 28/50\n",
      "516/516 [==============================] - 1s 2ms/step - loss: 6769655808.0000\n",
      "Epoch 29/50\n",
      "516/516 [==============================] - 1s 2ms/step - loss: 6762212864.0000\n",
      "Epoch 30/50\n",
      "516/516 [==============================] - 1s 2ms/step - loss: 6745265664.0000\n",
      "Epoch 31/50\n",
      "516/516 [==============================] - 1s 2ms/step - loss: 6759217664.0000\n",
      "Epoch 32/50\n",
      "516/516 [==============================] - 1s 2ms/step - loss: 6727142912.0000\n",
      "Epoch 33/50\n",
      "516/516 [==============================] - 1s 2ms/step - loss: 6735093248.0000\n",
      "Epoch 34/50\n",
      "516/516 [==============================] - 1s 3ms/step - loss: 6745750528.0000\n",
      "Epoch 35/50\n",
      "516/516 [==============================] - 1s 2ms/step - loss: 6683748864.0000\n",
      "Epoch 36/50\n",
      "516/516 [==============================] - 1s 2ms/step - loss: 6714589184.0000\n",
      "Epoch 37/50\n",
      "516/516 [==============================] - 1s 2ms/step - loss: 6692198400.0000\n",
      "Epoch 38/50\n",
      "516/516 [==============================] - 1s 2ms/step - loss: 6684061184.0000\n",
      "Epoch 39/50\n",
      "516/516 [==============================] - 1s 2ms/step - loss: 6667145728.0000\n",
      "Epoch 40/50\n",
      "516/516 [==============================] - 1s 2ms/step - loss: 6686550528.0000\n",
      "Epoch 41/50\n",
      "516/516 [==============================] - 1s 2ms/step - loss: 6670648320.0000\n",
      "Epoch 42/50\n",
      "516/516 [==============================] - 1s 2ms/step - loss: 6675027456.0000\n",
      "Epoch 43/50\n",
      "516/516 [==============================] - 1s 2ms/step - loss: 6675060736.0000\n",
      "Epoch 44/50\n",
      "516/516 [==============================] - 1s 2ms/step - loss: 6667008512.0000\n",
      "Epoch 45/50\n",
      "516/516 [==============================] - 1s 2ms/step - loss: 6654042112.0000\n",
      "Epoch 46/50\n",
      "516/516 [==============================] - 1s 2ms/step - loss: 6644768768.0000\n",
      "Epoch 47/50\n",
      "516/516 [==============================] - 1s 2ms/step - loss: 6652399104.0000\n",
      "Epoch 48/50\n",
      "516/516 [==============================] - 1s 2ms/step - loss: 6650382336.0000\n",
      "Epoch 49/50\n",
      "516/516 [==============================] - 1s 2ms/step - loss: 6629892608.0000\n",
      "Epoch 50/50\n",
      "516/516 [==============================] - 1s 2ms/step - loss: 6647349248.0000\n"
     ]
    },
    {
     "data": {
      "text/plain": [
       "<keras.callbacks.History at 0x7f0ee02a6850>"
      ]
     },
     "execution_count": 47,
     "metadata": {},
     "output_type": "execute_result"
    }
   ],
   "source": [
    "model=Sequential()\n",
    "model.add(Dense(50,activation='relu',input_dim=3))\n",
    "model.add(Dense(100,activation='relu'))\n",
    "model.add(Dense(150,activation='relu'))\n",
    "model.add(Dense(1,activation='relu'))\n",
    "\n",
    "model.summary()\n",
    "\n",
    "model.compile(loss='mean_squared_error', optimizer='rmsprop')\n",
    "model.fit(x_train,y_train,epochs=50)"
   ]
  },
  {
   "cell_type": "code",
   "execution_count": 48,
   "id": "c3c5ad23",
   "metadata": {
    "execution": {
     "iopub.execute_input": "2022-11-29T15:03:26.337935Z",
     "iopub.status.busy": "2022-11-29T15:03:26.337595Z",
     "iopub.status.idle": "2022-11-29T15:03:26.351889Z",
     "shell.execute_reply": "2022-11-29T15:03:26.350727Z"
    },
    "papermill": {
     "duration": 0.170904,
     "end_time": "2022-11-29T15:03:26.355443",
     "exception": false,
     "start_time": "2022-11-29T15:03:26.184539",
     "status": "completed"
    },
    "tags": []
   },
   "outputs": [
    {
     "data": {
      "text/plain": [
       "60210.81162154681"
      ]
     },
     "execution_count": 48,
     "metadata": {},
     "output_type": "execute_result"
    }
   ],
   "source": [
    "y_train_pred=lm.predict(x_train)\n",
    "mean_absolute_error(y_train,y_train_pred)"
   ]
  },
  {
   "cell_type": "code",
   "execution_count": 49,
   "id": "b13836c2",
   "metadata": {
    "execution": {
     "iopub.execute_input": "2022-11-29T15:03:26.735224Z",
     "iopub.status.busy": "2022-11-29T15:03:26.734895Z",
     "iopub.status.idle": "2022-11-29T15:03:26.746902Z",
     "shell.execute_reply": "2022-11-29T15:03:26.745675Z"
    },
    "papermill": {
     "duration": 0.168291,
     "end_time": "2022-11-29T15:03:26.750492",
     "exception": false,
     "start_time": "2022-11-29T15:03:26.582201",
     "status": "completed"
    },
    "tags": []
   },
   "outputs": [
    {
     "data": {
      "text/plain": [
       "60387.36317367905"
      ]
     },
     "execution_count": 49,
     "metadata": {},
     "output_type": "execute_result"
    }
   ],
   "source": [
    "y_test_pred=lm.predict(x_test)\n",
    "mean_absolute_error(y_test,y_test_pred)"
   ]
  },
  {
   "cell_type": "code",
   "execution_count": 50,
   "id": "7469e27d",
   "metadata": {
    "execution": {
     "iopub.execute_input": "2022-11-29T15:03:27.135510Z",
     "iopub.status.busy": "2022-11-29T15:03:27.135184Z",
     "iopub.status.idle": "2022-11-29T15:03:27.889440Z",
     "shell.execute_reply": "2022-11-29T15:03:27.888484Z"
    },
    "papermill": {
     "duration": 0.91054,
     "end_time": "2022-11-29T15:03:27.891604",
     "exception": false,
     "start_time": "2022-11-29T15:03:26.981064",
     "status": "completed"
    },
    "tags": []
   },
   "outputs": [
    {
     "name": "stdout",
     "output_type": "stream",
     "text": [
      "516/516 [==============================] - 1s 1ms/step - loss: 6423608832.0000\n"
     ]
    },
    {
     "data": {
      "text/plain": [
       "6423608832.0"
      ]
     },
     "execution_count": 50,
     "metadata": {},
     "output_type": "execute_result"
    }
   ],
   "source": [
    "model.evaluate(x_train,y_train)"
   ]
  },
  {
   "cell_type": "code",
   "execution_count": 51,
   "id": "eed03a49",
   "metadata": {
    "execution": {
     "iopub.execute_input": "2022-11-29T15:03:28.205304Z",
     "iopub.status.busy": "2022-11-29T15:03:28.204423Z",
     "iopub.status.idle": "2022-11-29T15:03:28.554608Z",
     "shell.execute_reply": "2022-11-29T15:03:28.553671Z"
    },
    "papermill": {
     "duration": 0.507793,
     "end_time": "2022-11-29T15:03:28.556579",
     "exception": false,
     "start_time": "2022-11-29T15:03:28.048786",
     "status": "completed"
    },
    "tags": []
   },
   "outputs": [
    {
     "name": "stdout",
     "output_type": "stream",
     "text": [
      "129/129 [==============================] - 0s 1ms/step - loss: 6459202048.0000\n"
     ]
    },
    {
     "data": {
      "text/plain": [
       "6459202048.0"
      ]
     },
     "execution_count": 51,
     "metadata": {},
     "output_type": "execute_result"
    }
   ],
   "source": [
    "model.evaluate(x_test,y_test)"
   ]
  },
  {
   "cell_type": "code",
   "execution_count": 52,
   "id": "f639474d",
   "metadata": {
    "execution": {
     "iopub.execute_input": "2022-11-29T15:03:28.873769Z",
     "iopub.status.busy": "2022-11-29T15:03:28.873422Z",
     "iopub.status.idle": "2022-11-29T15:03:28.880835Z",
     "shell.execute_reply": "2022-11-29T15:03:28.879789Z"
    },
    "papermill": {
     "duration": 0.166334,
     "end_time": "2022-11-29T15:03:28.883957",
     "exception": false,
     "start_time": "2022-11-29T15:03:28.717623",
     "status": "completed"
    },
    "tags": []
   },
   "outputs": [
    {
     "data": {
      "text/plain": [
       "(1, 3)"
      ]
     },
     "execution_count": 52,
     "metadata": {},
     "output_type": "execute_result"
    }
   ],
   "source": [
    "df=pd.DataFrame({'median_income':[6.5683],'population':[758.0],'housing_median_age':[36.0]})\n",
    "df.shape"
   ]
  },
  {
   "cell_type": "code",
   "execution_count": 53,
   "id": "f81cdb96",
   "metadata": {
    "execution": {
     "iopub.execute_input": "2022-11-29T15:03:29.235570Z",
     "iopub.status.busy": "2022-11-29T15:03:29.235231Z",
     "iopub.status.idle": "2022-11-29T15:03:29.363297Z",
     "shell.execute_reply": "2022-11-29T15:03:29.362411Z"
    },
    "papermill": {
     "duration": 0.288417,
     "end_time": "2022-11-29T15:03:29.365544",
     "exception": false,
     "start_time": "2022-11-29T15:03:29.077127",
     "status": "completed"
    },
    "tags": []
   },
   "outputs": [
    {
     "data": {
      "text/plain": [
       "array([[351315.2]], dtype=float32)"
      ]
     },
     "execution_count": 53,
     "metadata": {},
     "output_type": "execute_result"
    }
   ],
   "source": [
    "model.predict(df)"
   ]
  }
 ],
 "metadata": {
  "kernelspec": {
   "display_name": "Python 3",
   "language": "python",
   "name": "python3"
  },
  "language_info": {
   "codemirror_mode": {
    "name": "ipython",
    "version": 3
   },
   "file_extension": ".py",
   "mimetype": "text/x-python",
   "name": "python",
   "nbconvert_exporter": "python",
   "pygments_lexer": "ipython3",
   "version": "3.7.12"
  },
  "papermill": {
   "default_parameters": {},
   "duration": 204.543467,
   "end_time": "2022-11-29T15:03:32.810464",
   "environment_variables": {},
   "exception": null,
   "input_path": "__notebook__.ipynb",
   "output_path": "__notebook__.ipynb",
   "parameters": {},
   "start_time": "2022-11-29T15:00:08.266997",
   "version": "2.3.4"
  }
 },
 "nbformat": 4,
 "nbformat_minor": 5
}
