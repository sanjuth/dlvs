{
  "cells": [
    {
      "cell_type": "markdown",
      "metadata": {
        "id": "view-in-github",
        "colab_type": "text"
      },
      "source": [
        "<a href=\"https://colab.research.google.com/github/sanjuth/dlvs/blob/main/weather_classification.ipynb\" target=\"_parent\"><img src=\"https://colab.research.google.com/assets/colab-badge.svg\" alt=\"Open In Colab\"/></a>"
      ]
    },
    {
      "cell_type": "code",
      "execution_count": null,
      "id": "63421cfb",
      "metadata": {
        "_cell_guid": "b1076dfc-b9ad-4769-8c92-a6c4dae69d19",
        "_uuid": "8f2839f25d086af736a60e9eeb907d3b93b6e0e5",
        "execution": {
          "iopub.execute_input": "2022-12-01T14:33:52.368568Z",
          "iopub.status.busy": "2022-12-01T14:33:52.367826Z",
          "iopub.status.idle": "2022-12-01T14:33:52.383165Z",
          "shell.execute_reply": "2022-12-01T14:33:52.381865Z"
        },
        "papermill": {
          "duration": 0.027822,
          "end_time": "2022-12-01T14:33:52.386217",
          "exception": false,
          "start_time": "2022-12-01T14:33:52.358395",
          "status": "completed"
        },
        "tags": [],
        "id": "63421cfb"
      },
      "outputs": [],
      "source": [
        "# This Python 3 environment comes with many helpful analytics libraries installed\n",
        "# It is defined by the kaggle/python Docker image: https://github.com/kaggle/docker-python\n",
        "# For example, here's several helpful packages to load\n",
        "\n",
        "import numpy as np # linear algebra\n",
        "import pandas as pd # data processing, CSV file I/O (e.g. pd.read_csv)\n",
        "\n",
        "# Input data files are available in the read-only \"../input/\" directory\n",
        "# For example, running this (by clicking run or pressing Shift+Enter) will list all files under the input directory\n",
        "\n",
        "import os\n",
        "# for dirname, _, filenames in os.walk('/kaggle/input'):\n",
        "#     for filename in filenames:\n",
        "#         print(os.path.join(dirname, filename))\n",
        "\n",
        "# You can write up to 20GB to the current directory (/kaggle/working/) that gets preserved as output when you create a version using \"Save & Run All\" \n",
        "# You can also write temporary files to /kaggle/temp/, but they won't be saved outside of the current session"
      ]
    },
    {
      "cell_type": "code",
      "execution_count": null,
      "id": "9bfa435f",
      "metadata": {
        "execution": {
          "iopub.execute_input": "2022-12-01T14:33:52.399008Z",
          "iopub.status.busy": "2022-12-01T14:33:52.398538Z",
          "iopub.status.idle": "2022-12-01T14:33:52.414878Z",
          "shell.execute_reply": "2022-12-01T14:33:52.413458Z"
        },
        "papermill": {
          "duration": 0.026146,
          "end_time": "2022-12-01T14:33:52.418089",
          "exception": false,
          "start_time": "2022-12-01T14:33:52.391943",
          "status": "completed"
        },
        "tags": [],
        "id": "9bfa435f",
        "outputId": "8d54ccf9-ab8e-44cb-d1db-c53adb9fbd5f"
      },
      "outputs": [
        {
          "data": {
            "text/plain": [
              "['dataset']"
            ]
          },
          "execution_count": 2,
          "metadata": {},
          "output_type": "execute_result"
        }
      ],
      "source": [
        "os.listdir('../input/multiclass-weather-dataset')"
      ]
    },
    {
      "cell_type": "code",
      "execution_count": null,
      "id": "7cd8bd04",
      "metadata": {
        "execution": {
          "iopub.execute_input": "2022-12-01T14:33:52.432372Z",
          "iopub.status.busy": "2022-12-01T14:33:52.431989Z",
          "iopub.status.idle": "2022-12-01T14:33:52.443351Z",
          "shell.execute_reply": "2022-12-01T14:33:52.441830Z"
        },
        "papermill": {
          "duration": 0.021616,
          "end_time": "2022-12-01T14:33:52.446090",
          "exception": false,
          "start_time": "2022-12-01T14:33:52.424474",
          "status": "completed"
        },
        "tags": [],
        "id": "7cd8bd04",
        "outputId": "bcbfa69a-5c53-4b78-febb-3324a07546a7"
      },
      "outputs": [
        {
          "data": {
            "text/plain": [
              "['cloudy', 'sunrise', 'alien_test', 'shine', 'test.csv', 'foggy', 'rainy']"
            ]
          },
          "execution_count": 3,
          "metadata": {},
          "output_type": "execute_result"
        }
      ],
      "source": [
        "os.listdir('../input/multiclass-weather-dataset/dataset')"
      ]
    },
    {
      "cell_type": "code",
      "execution_count": null,
      "id": "7c219db9",
      "metadata": {
        "execution": {
          "iopub.execute_input": "2022-12-01T14:33:52.462547Z",
          "iopub.status.busy": "2022-12-01T14:33:52.462138Z",
          "iopub.status.idle": "2022-12-01T14:33:52.467952Z",
          "shell.execute_reply": "2022-12-01T14:33:52.466491Z"
        },
        "papermill": {
          "duration": 0.017827,
          "end_time": "2022-12-01T14:33:52.470477",
          "exception": false,
          "start_time": "2022-12-01T14:33:52.452650",
          "status": "completed"
        },
        "tags": [],
        "id": "7c219db9"
      },
      "outputs": [],
      "source": [
        "from PIL import Image"
      ]
    },
    {
      "cell_type": "code",
      "execution_count": null,
      "id": "bb8bee2d",
      "metadata": {
        "execution": {
          "iopub.execute_input": "2022-12-01T14:33:52.487185Z",
          "iopub.status.busy": "2022-12-01T14:33:52.486757Z",
          "iopub.status.idle": "2022-12-01T14:33:52.494497Z",
          "shell.execute_reply": "2022-12-01T14:33:52.493179Z"
        },
        "papermill": {
          "duration": 0.020454,
          "end_time": "2022-12-01T14:33:52.497048",
          "exception": false,
          "start_time": "2022-12-01T14:33:52.476594",
          "status": "completed"
        },
        "tags": [],
        "id": "bb8bee2d"
      },
      "outputs": [],
      "source": [
        "def load_images(path):\n",
        "    imgs = []\n",
        "    label = []\n",
        "    l1 = os.listdir(path)\n",
        "    for i in l1:\n",
        "        if i!='test.csv' and i!='alien_test':\n",
        "            l2 = os.listdir(path+'/'+i)\n",
        "            for j in l2:\n",
        "                img = Image.open(path+i+'/'+j).convert('RGB')\n",
        "                img = img.resize(size=(32,32))\n",
        "                imgs.append(np.array(img))\n",
        "                label.append(i)\n",
        "                del img\n",
        "   \n",
        "    return np.array(imgs),label"
      ]
    },
    {
      "cell_type": "code",
      "execution_count": null,
      "id": "48976ab3",
      "metadata": {
        "execution": {
          "iopub.execute_input": "2022-12-01T14:33:52.511432Z",
          "iopub.status.busy": "2022-12-01T14:33:52.510621Z",
          "iopub.status.idle": "2022-12-01T14:34:21.343208Z",
          "shell.execute_reply": "2022-12-01T14:34:21.342027Z"
        },
        "papermill": {
          "duration": 28.842711,
          "end_time": "2022-12-01T14:34:21.345886",
          "exception": false,
          "start_time": "2022-12-01T14:33:52.503175",
          "status": "completed"
        },
        "tags": [],
        "id": "48976ab3"
      },
      "outputs": [],
      "source": [
        "x,y = load_images('../input/multiclass-weather-dataset/dataset/')"
      ]
    },
    {
      "cell_type": "code",
      "execution_count": null,
      "id": "abbb8d27",
      "metadata": {
        "execution": {
          "iopub.execute_input": "2022-12-01T14:34:21.359204Z",
          "iopub.status.busy": "2022-12-01T14:34:21.358760Z",
          "iopub.status.idle": "2022-12-01T14:34:21.366094Z",
          "shell.execute_reply": "2022-12-01T14:34:21.364832Z"
        },
        "papermill": {
          "duration": 0.016811,
          "end_time": "2022-12-01T14:34:21.368466",
          "exception": false,
          "start_time": "2022-12-01T14:34:21.351655",
          "status": "completed"
        },
        "tags": [],
        "id": "abbb8d27",
        "outputId": "e6ee1e27-babf-4f45-9eeb-de32dffa7042"
      },
      "outputs": [
        {
          "data": {
            "text/plain": [
              "(1500, 32, 32, 3)"
            ]
          },
          "execution_count": 7,
          "metadata": {},
          "output_type": "execute_result"
        }
      ],
      "source": [
        "x.shape"
      ]
    },
    {
      "cell_type": "code",
      "execution_count": null,
      "id": "afc20290",
      "metadata": {
        "execution": {
          "iopub.execute_input": "2022-12-01T14:34:21.381541Z",
          "iopub.status.busy": "2022-12-01T14:34:21.381146Z",
          "iopub.status.idle": "2022-12-01T14:34:21.387953Z",
          "shell.execute_reply": "2022-12-01T14:34:21.386825Z"
        },
        "papermill": {
          "duration": 0.016214,
          "end_time": "2022-12-01T14:34:21.390333",
          "exception": false,
          "start_time": "2022-12-01T14:34:21.374119",
          "status": "completed"
        },
        "tags": [],
        "id": "afc20290",
        "outputId": "20878e59-ce49-4a1a-a400-11cee1dfdc9f"
      },
      "outputs": [
        {
          "data": {
            "text/plain": [
              "1500"
            ]
          },
          "execution_count": 8,
          "metadata": {},
          "output_type": "execute_result"
        }
      ],
      "source": [
        "len(y)"
      ]
    },
    {
      "cell_type": "code",
      "execution_count": null,
      "id": "28c0158c",
      "metadata": {
        "execution": {
          "iopub.execute_input": "2022-12-01T14:34:21.406338Z",
          "iopub.status.busy": "2022-12-01T14:34:21.405504Z",
          "iopub.status.idle": "2022-12-01T14:34:22.331585Z",
          "shell.execute_reply": "2022-12-01T14:34:22.330341Z"
        },
        "papermill": {
          "duration": 0.936917,
          "end_time": "2022-12-01T14:34:22.334900",
          "exception": false,
          "start_time": "2022-12-01T14:34:21.397983",
          "status": "completed"
        },
        "tags": [],
        "id": "28c0158c"
      },
      "outputs": [],
      "source": [
        "from sklearn import preprocessing\n",
        "label_encoder = preprocessing.LabelEncoder()\n",
        "y=label_encoder.fit_transform(y)"
      ]
    },
    {
      "cell_type": "code",
      "execution_count": null,
      "id": "e59a55f6",
      "metadata": {
        "execution": {
          "iopub.execute_input": "2022-12-01T14:34:22.348703Z",
          "iopub.status.busy": "2022-12-01T14:34:22.348303Z",
          "iopub.status.idle": "2022-12-01T14:34:22.355908Z",
          "shell.execute_reply": "2022-12-01T14:34:22.354687Z"
        },
        "papermill": {
          "duration": 0.01776,
          "end_time": "2022-12-01T14:34:22.358688",
          "exception": false,
          "start_time": "2022-12-01T14:34:22.340928",
          "status": "completed"
        },
        "tags": [],
        "id": "e59a55f6",
        "outputId": "e8055f22-c944-4d5e-8c80-7d6831c14223"
      },
      "outputs": [
        {
          "data": {
            "text/plain": [
              "array([0, 0, 0, ..., 2, 2, 2])"
            ]
          },
          "execution_count": 10,
          "metadata": {},
          "output_type": "execute_result"
        }
      ],
      "source": [
        "y"
      ]
    },
    {
      "cell_type": "code",
      "execution_count": null,
      "id": "8c1c84b9",
      "metadata": {
        "execution": {
          "iopub.execute_input": "2022-12-01T14:34:22.372567Z",
          "iopub.status.busy": "2022-12-01T14:34:22.372177Z",
          "iopub.status.idle": "2022-12-01T14:34:22.432598Z",
          "shell.execute_reply": "2022-12-01T14:34:22.431215Z"
        },
        "papermill": {
          "duration": 0.070957,
          "end_time": "2022-12-01T14:34:22.435689",
          "exception": false,
          "start_time": "2022-12-01T14:34:22.364732",
          "status": "completed"
        },
        "tags": [],
        "id": "8c1c84b9"
      },
      "outputs": [],
      "source": [
        "from sklearn.model_selection import train_test_split\n",
        "x_train,x_test,y_train,y_test = train_test_split(x,y,test_size=0.2,random_state=1)"
      ]
    },
    {
      "cell_type": "code",
      "execution_count": null,
      "id": "0749335d",
      "metadata": {
        "execution": {
          "iopub.execute_input": "2022-12-01T14:34:22.449404Z",
          "iopub.status.busy": "2022-12-01T14:34:22.449000Z",
          "iopub.status.idle": "2022-12-01T14:34:22.456415Z",
          "shell.execute_reply": "2022-12-01T14:34:22.454713Z"
        },
        "papermill": {
          "duration": 0.017403,
          "end_time": "2022-12-01T14:34:22.459133",
          "exception": false,
          "start_time": "2022-12-01T14:34:22.441730",
          "status": "completed"
        },
        "tags": [],
        "id": "0749335d",
        "outputId": "4701cdd8-725d-4c88-d4cb-a91fdadb1903"
      },
      "outputs": [
        {
          "data": {
            "text/plain": [
              "1200"
            ]
          },
          "execution_count": 12,
          "metadata": {},
          "output_type": "execute_result"
        }
      ],
      "source": [
        "len(y_train)"
      ]
    },
    {
      "cell_type": "code",
      "execution_count": null,
      "id": "d9e3ae3e",
      "metadata": {
        "execution": {
          "iopub.execute_input": "2022-12-01T14:34:22.473238Z",
          "iopub.status.busy": "2022-12-01T14:34:22.472849Z",
          "iopub.status.idle": "2022-12-01T14:34:29.009302Z",
          "shell.execute_reply": "2022-12-01T14:34:29.007849Z"
        },
        "papermill": {
          "duration": 6.547238,
          "end_time": "2022-12-01T14:34:29.012382",
          "exception": false,
          "start_time": "2022-12-01T14:34:22.465144",
          "status": "completed"
        },
        "tags": [],
        "id": "d9e3ae3e"
      },
      "outputs": [],
      "source": [
        "from tensorflow.keras.models import Sequential\n",
        "from tensorflow.keras.layers import Flatten,Conv2D,Dense\n",
        "from tensorflow.keras.layers import MaxPool2D"
      ]
    },
    {
      "cell_type": "code",
      "execution_count": null,
      "id": "3bdb187c",
      "metadata": {
        "execution": {
          "iopub.execute_input": "2022-12-01T14:34:29.027722Z",
          "iopub.status.busy": "2022-12-01T14:34:29.026224Z",
          "iopub.status.idle": "2022-12-01T14:34:29.208582Z",
          "shell.execute_reply": "2022-12-01T14:34:29.207196Z"
        },
        "papermill": {
          "duration": 0.192551,
          "end_time": "2022-12-01T14:34:29.211110",
          "exception": false,
          "start_time": "2022-12-01T14:34:29.018559",
          "status": "completed"
        },
        "tags": [],
        "id": "3bdb187c",
        "outputId": "06ce9b5d-0255-474e-99c7-dd1a9e5753be"
      },
      "outputs": [
        {
          "name": "stderr",
          "output_type": "stream",
          "text": [
            "2022-12-01 14:34:29.068888: I tensorflow/core/common_runtime/process_util.cc:146] Creating new thread pool with default inter op setting: 2. Tune using inter_op_parallelism_threads for best performance.\n"
          ]
        }
      ],
      "source": [
        "model=Sequential()\n",
        "model.add(Conv2D(32,activation=\"relu\",kernel_size=3,input_shape=x_train.shape[1:]))\n",
        "model.add(MaxPool2D(2,2))\n",
        "model.add(Conv2D(64,activation=\"relu\",kernel_size=3))\n",
        "model.add(MaxPool2D(2,2))\n",
        "model.add(Conv2D(128,activation='relu',kernel_size=3))\n",
        "model.add(MaxPool2D(2,2))\n",
        "model.add(Flatten())\n",
        "model.add(Dense(1000,activation='relu'))\n",
        "model.add(Dense(5,activation='softmax'))"
      ]
    },
    {
      "cell_type": "code",
      "execution_count": null,
      "id": "e862124c",
      "metadata": {
        "execution": {
          "iopub.execute_input": "2022-12-01T14:34:29.225323Z",
          "iopub.status.busy": "2022-12-01T14:34:29.224821Z",
          "iopub.status.idle": "2022-12-01T14:34:29.243156Z",
          "shell.execute_reply": "2022-12-01T14:34:29.241192Z"
        },
        "papermill": {
          "duration": 0.029333,
          "end_time": "2022-12-01T14:34:29.246535",
          "exception": false,
          "start_time": "2022-12-01T14:34:29.217202",
          "status": "completed"
        },
        "tags": [],
        "id": "e862124c",
        "outputId": "1a86fc63-3578-4fc6-8564-f2d2e8ba8763"
      },
      "outputs": [
        {
          "name": "stdout",
          "output_type": "stream",
          "text": [
            "Model: \"sequential\"\n",
            "_________________________________________________________________\n",
            "Layer (type)                 Output Shape              Param #   \n",
            "=================================================================\n",
            "conv2d (Conv2D)              (None, 30, 30, 32)        896       \n",
            "_________________________________________________________________\n",
            "max_pooling2d (MaxPooling2D) (None, 15, 15, 32)        0         \n",
            "_________________________________________________________________\n",
            "conv2d_1 (Conv2D)            (None, 13, 13, 64)        18496     \n",
            "_________________________________________________________________\n",
            "max_pooling2d_1 (MaxPooling2 (None, 6, 6, 64)          0         \n",
            "_________________________________________________________________\n",
            "conv2d_2 (Conv2D)            (None, 4, 4, 128)         73856     \n",
            "_________________________________________________________________\n",
            "max_pooling2d_2 (MaxPooling2 (None, 2, 2, 128)         0         \n",
            "_________________________________________________________________\n",
            "flatten (Flatten)            (None, 512)               0         \n",
            "_________________________________________________________________\n",
            "dense (Dense)                (None, 1000)              513000    \n",
            "_________________________________________________________________\n",
            "dense_1 (Dense)              (None, 5)                 5005      \n",
            "=================================================================\n",
            "Total params: 611,253\n",
            "Trainable params: 611,253\n",
            "Non-trainable params: 0\n",
            "_________________________________________________________________\n"
          ]
        }
      ],
      "source": [
        "model.compile(loss=\"sparse_categorical_crossentropy\",optimizer='adam',metrics=['accuracy'])\n",
        "model.summary()"
      ]
    },
    {
      "cell_type": "code",
      "execution_count": null,
      "id": "8d1b0bf5",
      "metadata": {
        "execution": {
          "iopub.execute_input": "2022-12-01T14:34:29.261698Z",
          "iopub.status.busy": "2022-12-01T14:34:29.260632Z",
          "iopub.status.idle": "2022-12-01T14:34:54.810479Z",
          "shell.execute_reply": "2022-12-01T14:34:54.809238Z"
        },
        "papermill": {
          "duration": 25.559943,
          "end_time": "2022-12-01T14:34:54.813039",
          "exception": false,
          "start_time": "2022-12-01T14:34:29.253096",
          "status": "completed"
        },
        "tags": [],
        "id": "8d1b0bf5",
        "outputId": "044fc1b5-86b5-4196-8b9d-d0aa5c821401"
      },
      "outputs": [
        {
          "name": "stdout",
          "output_type": "stream",
          "text": [
            "Epoch 1/30\n"
          ]
        },
        {
          "name": "stderr",
          "output_type": "stream",
          "text": [
            "2022-12-01 14:34:29.353587: I tensorflow/compiler/mlir/mlir_graph_optimization_pass.cc:185] None of the MLIR Optimization Passes are enabled (registered 2)\n"
          ]
        },
        {
          "name": "stdout",
          "output_type": "stream",
          "text": [
            "38/38 [==============================] - 2s 21ms/step - loss: 10.4971 - accuracy: 0.4400\n",
            "Epoch 2/30\n",
            "38/38 [==============================] - 1s 20ms/step - loss: 0.9113 - accuracy: 0.6300\n",
            "Epoch 3/30\n",
            "38/38 [==============================] - 1s 20ms/step - loss: 0.8112 - accuracy: 0.6825\n",
            "Epoch 4/30\n",
            "38/38 [==============================] - 1s 21ms/step - loss: 0.7537 - accuracy: 0.7150\n",
            "Epoch 5/30\n",
            "38/38 [==============================] - 1s 21ms/step - loss: 0.6999 - accuracy: 0.7467\n",
            "Epoch 6/30\n",
            "38/38 [==============================] - 1s 21ms/step - loss: 0.6266 - accuracy: 0.7683\n",
            "Epoch 7/30\n",
            "38/38 [==============================] - 1s 21ms/step - loss: 0.5752 - accuracy: 0.7817\n",
            "Epoch 8/30\n",
            "38/38 [==============================] - 1s 20ms/step - loss: 0.4953 - accuracy: 0.8092\n",
            "Epoch 9/30\n",
            "38/38 [==============================] - 1s 21ms/step - loss: 0.4601 - accuracy: 0.8233\n",
            "Epoch 10/30\n",
            "38/38 [==============================] - 1s 21ms/step - loss: 0.3933 - accuracy: 0.8458\n",
            "Epoch 11/30\n",
            "38/38 [==============================] - 1s 21ms/step - loss: 0.3325 - accuracy: 0.8783\n",
            "Epoch 12/30\n",
            "38/38 [==============================] - 1s 21ms/step - loss: 0.3064 - accuracy: 0.8875\n",
            "Epoch 13/30\n",
            "38/38 [==============================] - 1s 23ms/step - loss: 0.3406 - accuracy: 0.8775\n",
            "Epoch 14/30\n",
            "38/38 [==============================] - 1s 21ms/step - loss: 0.2860 - accuracy: 0.8900\n",
            "Epoch 15/30\n",
            "38/38 [==============================] - 1s 21ms/step - loss: 0.2598 - accuracy: 0.9008\n",
            "Epoch 16/30\n",
            "38/38 [==============================] - 1s 20ms/step - loss: 0.3634 - accuracy: 0.8675\n",
            "Epoch 17/30\n",
            "38/38 [==============================] - 1s 21ms/step - loss: 0.2189 - accuracy: 0.9233\n",
            "Epoch 18/30\n",
            "38/38 [==============================] - 1s 21ms/step - loss: 0.1709 - accuracy: 0.9400\n",
            "Epoch 19/30\n",
            "38/38 [==============================] - 1s 21ms/step - loss: 0.1534 - accuracy: 0.9483\n",
            "Epoch 20/30\n",
            "38/38 [==============================] - 1s 21ms/step - loss: 0.1843 - accuracy: 0.9258\n",
            "Epoch 21/30\n",
            "38/38 [==============================] - 1s 21ms/step - loss: 0.1501 - accuracy: 0.9475\n",
            "Epoch 22/30\n",
            "38/38 [==============================] - 1s 21ms/step - loss: 0.1837 - accuracy: 0.9292\n",
            "Epoch 23/30\n",
            "38/38 [==============================] - 1s 21ms/step - loss: 0.1402 - accuracy: 0.9533\n",
            "Epoch 24/30\n",
            "38/38 [==============================] - 1s 21ms/step - loss: 0.1696 - accuracy: 0.9433\n",
            "Epoch 25/30\n",
            "38/38 [==============================] - 1s 21ms/step - loss: 0.2145 - accuracy: 0.9267\n",
            "Epoch 26/30\n",
            "38/38 [==============================] - 2s 44ms/step - loss: 0.1733 - accuracy: 0.9383\n",
            "Epoch 27/30\n",
            "38/38 [==============================] - 1s 20ms/step - loss: 0.1550 - accuracy: 0.9350\n",
            "Epoch 28/30\n",
            "38/38 [==============================] - 1s 21ms/step - loss: 0.1743 - accuracy: 0.9308\n",
            "Epoch 29/30\n",
            "38/38 [==============================] - 1s 21ms/step - loss: 0.2082 - accuracy: 0.9225\n",
            "Epoch 30/30\n",
            "38/38 [==============================] - 1s 20ms/step - loss: 0.2174 - accuracy: 0.9275\n"
          ]
        },
        {
          "data": {
            "text/plain": [
              "<keras.callbacks.History at 0x7fdeeab1c450>"
            ]
          },
          "execution_count": 16,
          "metadata": {},
          "output_type": "execute_result"
        }
      ],
      "source": [
        "model.fit(x_train,y_train,epochs=30)"
      ]
    },
    {
      "cell_type": "code",
      "execution_count": null,
      "id": "803d3c61",
      "metadata": {
        "execution": {
          "iopub.execute_input": "2022-12-01T14:34:54.880163Z",
          "iopub.status.busy": "2022-12-01T14:34:54.879724Z",
          "iopub.status.idle": "2022-12-01T14:34:55.220903Z",
          "shell.execute_reply": "2022-12-01T14:34:55.218967Z"
        },
        "papermill": {
          "duration": 0.37791,
          "end_time": "2022-12-01T14:34:55.223404",
          "exception": false,
          "start_time": "2022-12-01T14:34:54.845494",
          "status": "completed"
        },
        "tags": [],
        "id": "803d3c61",
        "outputId": "417c18ef-871a-425c-c237-02838e67ec02"
      },
      "outputs": [
        {
          "name": "stdout",
          "output_type": "stream",
          "text": [
            "10/10 [==============================] - 0s 8ms/step - loss: 0.9737 - accuracy: 0.7833\n",
            "Test Accuracy :  78.33333611488342\n"
          ]
        }
      ],
      "source": [
        "_,acc = model.evaluate(x_test,y_test)\n",
        "print(\"Test Accuracy : \",acc*100)"
      ]
    },
    {
      "cell_type": "code",
      "execution_count": null,
      "id": "cd6de4f2",
      "metadata": {
        "execution": {
          "iopub.execute_input": "2022-12-01T14:34:55.292340Z",
          "iopub.status.busy": "2022-12-01T14:34:55.291940Z",
          "iopub.status.idle": "2022-12-01T14:34:55.298369Z",
          "shell.execute_reply": "2022-12-01T14:34:55.297081Z"
        },
        "papermill": {
          "duration": 0.044275,
          "end_time": "2022-12-01T14:34:55.300928",
          "exception": false,
          "start_time": "2022-12-01T14:34:55.256653",
          "status": "completed"
        },
        "tags": [],
        "id": "cd6de4f2"
      },
      "outputs": [],
      "source": [
        "def names(number):\n",
        "    if number==0:\n",
        "        return \"cloudy\"\n",
        "    elif number==1:\n",
        "        return \"foggy\"\n",
        "    elif number==2:\n",
        "        return \"rainy\"\n",
        "    elif number==3:\n",
        "        return \"shine\"\n",
        "    elif number==4:\n",
        "        return \"sunrise\""
      ]
    },
    {
      "cell_type": "code",
      "execution_count": null,
      "id": "2841eace",
      "metadata": {
        "execution": {
          "iopub.execute_input": "2022-12-01T14:34:55.367906Z",
          "iopub.status.busy": "2022-12-01T14:34:55.367475Z",
          "iopub.status.idle": "2022-12-01T14:34:55.375683Z",
          "shell.execute_reply": "2022-12-01T14:34:55.374083Z"
        },
        "papermill": {
          "duration": 0.04513,
          "end_time": "2022-12-01T14:34:55.378364",
          "exception": false,
          "start_time": "2022-12-01T14:34:55.333234",
          "status": "completed"
        },
        "tags": [],
        "id": "2841eace"
      },
      "outputs": [],
      "source": [
        "from matplotlib.pyplot import imshow\n",
        "def Prediction(im):\n",
        "    x = np.array(im.resize((32,32)))\n",
        "    x = x.reshape(1,32,32,3)\n",
        "    res = model.predict_on_batch(x)\n",
        "    print(res)\n",
        "    classification = np.where(res == np.amax(res))[1][0]\n",
        "    imshow(im)\n",
        "    print(str(res[0][classification]*100) + '% Confidence ' + names(classification))"
      ]
    },
    {
      "cell_type": "code",
      "execution_count": null,
      "id": "d2957aa0",
      "metadata": {
        "execution": {
          "iopub.execute_input": "2022-12-01T14:34:55.445611Z",
          "iopub.status.busy": "2022-12-01T14:34:55.445174Z",
          "iopub.status.idle": "2022-12-01T14:34:55.902432Z",
          "shell.execute_reply": "2022-12-01T14:34:55.901048Z"
        },
        "papermill": {
          "duration": 0.494291,
          "end_time": "2022-12-01T14:34:55.905448",
          "exception": false,
          "start_time": "2022-12-01T14:34:55.411157",
          "status": "completed"
        },
        "tags": [],
        "id": "d2957aa0",
        "outputId": "8ba9942a-a724-4ce5-f902-1bab584c0036"
      },
      "outputs": [
        {
          "name": "stdout",
          "output_type": "stream",
          "text": [
            "[[9.9998605e-01 5.9535528e-06 6.5557319e-06 1.4367685e-06 7.9776130e-10]]\n",
            "99.99860525131226% Confidence cloudy\n"
          ]
        },
        {
          "data": {
            "image/png": "[encoded data removed]",
            "text/plain": [
              "<Figure size 432x288 with 1 Axes>"
            ]
          },
          "metadata": {
            "needs_background": "light"
          },
          "output_type": "display_data"
        }
      ],
      "source": [
        "test_img = Image.open(\"../input/multiclass-weather-dataset/dataset/cloudy/cloudy1.jpg\").convert('RGB')\n",
        "Prediction(test_img)"
      ]
    }
  ],
  "metadata": {
    "kernelspec": {
      "display_name": "Python 3",
      "language": "python",
      "name": "python3"
    },
    "language_info": {
      "codemirror_mode": {
        "name": "ipython",
        "version": 3
      },
      "file_extension": ".py",
      "mimetype": "text/x-python",
      "name": "python",
      "nbconvert_exporter": "python",
      "pygments_lexer": "ipython3",
      "version": "3.7.12"
    },
    "papermill": {
      "default_parameters": {},
      "duration": 75.194475,
      "end_time": "2022-12-01T14:34:58.858159",
      "environment_variables": {},
      "exception": null,
      "input_path": "__notebook__.ipynb",
      "output_path": "__notebook__.ipynb",
      "parameters": {},
      "start_time": "2022-12-01T14:33:43.663684",
      "version": "2.3.4"
    },
    "colab": {
      "provenance": [],
      "include_colab_link": true
    }
  },
  "nbformat": 4,
  "nbformat_minor": 5
}