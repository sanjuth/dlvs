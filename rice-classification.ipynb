{
 "cells": [
  {
   "cell_type": "code",
   "execution_count": 1,
   "id": "9d76525a",
   "metadata": {
    "execution": {
     "iopub.execute_input": "2022-12-01T16:04:33.995704Z",
     "iopub.status.busy": "2022-12-01T16:04:33.994905Z",
     "iopub.status.idle": "2022-12-01T16:04:34.009498Z",
     "shell.execute_reply": "2022-12-01T16:04:34.008331Z"
    },
    "papermill": {
     "duration": 0.023621,
     "end_time": "2022-12-01T16:04:34.012253",
     "exception": false,
     "start_time": "2022-12-01T16:04:33.988632",
     "status": "completed"
    },
    "tags": []
   },
   "outputs": [],
   "source": [
    "\n",
    "def load(impath):\n",
    "    imgs=[]\n",
    "    labels=[]\n",
    "    l1=os.listdir(impath)\n",
    "    print(l1)\n",
    "    for i in l1:\n",
    "        if(i[-1]=='t'):\n",
    "            continue\n",
    "        l2=os.listdir(impath+'/'+i)\n",
    "        print(len(l2))\n",
    "        count=0\n",
    "        for j in l2:\n",
    "            img=Image.open(impath+'/'+i+'/'+j)\n",
    "            img=img.resize(size=(28,28))\n",
    "            img=img.convert('L')\n",
    "            imgs.append(np.array(img))\n",
    "            labels.append(i)\n",
    "            count+=1\n",
    "            if(count>=1000):\n",
    "                break\n",
    "        print(count)\n",
    "    return np.array(imgs),labels"
   ]
  },
  {
   "cell_type": "code",
   "execution_count": 2,
   "id": "d879766e",
   "metadata": {
    "execution": {
     "iopub.execute_input": "2022-12-01T16:04:34.021038Z",
     "iopub.status.busy": "2022-12-01T16:04:34.020619Z",
     "iopub.status.idle": "2022-12-01T16:05:00.630934Z",
     "shell.execute_reply": "2022-12-01T16:05:00.628831Z"
    },
    "papermill": {
     "duration": 26.618488,
     "end_time": "2022-12-01T16:05:00.634378",
     "exception": false,
     "start_time": "2022-12-01T16:04:34.015890",
     "status": "completed"
    },
    "tags": []
   },
   "outputs": [
    {
     "name": "stdout",
     "output_type": "stream",
     "text": [
      "['Karacadag', 'Basmati', 'Jasmine', 'Rice_Citation_Request.txt', 'Arborio', 'Ipsala']\n",
      "15000\n",
      "1000\n",
      "15000\n",
      "1000\n",
      "15000\n",
      "1000\n",
      "15000\n",
      "1000\n",
      "15000\n",
      "1000\n"
     ]
    }
   ],
   "source": [
    "import os\n",
    "import numpy as np\n",
    "import pandas as pd\n",
    "from PIL import Image\n",
    "img,label=load('../input/rice-image-dataset/Rice_Image_Dataset')"
   ]
  },
  {
   "cell_type": "code",
   "execution_count": 3,
   "id": "3abd0a76",
   "metadata": {
    "execution": {
     "iopub.execute_input": "2022-12-01T16:05:00.645967Z",
     "iopub.status.busy": "2022-12-01T16:05:00.644906Z",
     "iopub.status.idle": "2022-12-01T16:05:00.659995Z",
     "shell.execute_reply": "2022-12-01T16:05:00.658540Z"
    },
    "papermill": {
     "duration": 0.023794,
     "end_time": "2022-12-01T16:05:00.662882",
     "exception": false,
     "start_time": "2022-12-01T16:05:00.639088",
     "status": "completed"
    },
    "tags": []
   },
   "outputs": [
    {
     "data": {
      "text/plain": [
       "(5000, 28, 28)"
      ]
     },
     "execution_count": 3,
     "metadata": {},
     "output_type": "execute_result"
    }
   ],
   "source": [
    "img.shape"
   ]
  },
  {
   "cell_type": "code",
   "execution_count": 4,
   "id": "a7964d21",
   "metadata": {
    "execution": {
     "iopub.execute_input": "2022-12-01T16:05:00.674539Z",
     "iopub.status.busy": "2022-12-01T16:05:00.673689Z",
     "iopub.status.idle": "2022-12-01T16:05:01.758879Z",
     "shell.execute_reply": "2022-12-01T16:05:01.757747Z"
    },
    "papermill": {
     "duration": 1.094071,
     "end_time": "2022-12-01T16:05:01.761548",
     "exception": false,
     "start_time": "2022-12-01T16:05:00.667477",
     "status": "completed"
    },
    "tags": []
   },
   "outputs": [],
   "source": [
    "from sklearn import preprocessing\n",
    "l=preprocessing.LabelEncoder()\n",
    "labels=l.fit_transform(label)"
   ]
  },
  {
   "cell_type": "code",
   "execution_count": 5,
   "id": "722b5289",
   "metadata": {
    "execution": {
     "iopub.execute_input": "2022-12-01T16:05:01.772295Z",
     "iopub.status.busy": "2022-12-01T16:05:01.771871Z",
     "iopub.status.idle": "2022-12-01T16:05:01.778989Z",
     "shell.execute_reply": "2022-12-01T16:05:01.777775Z"
    },
    "papermill": {
     "duration": 0.015613,
     "end_time": "2022-12-01T16:05:01.781471",
     "exception": false,
     "start_time": "2022-12-01T16:05:01.765858",
     "status": "completed"
    },
    "tags": []
   },
   "outputs": [
    {
     "data": {
      "text/plain": [
       "array([4, 4, 4, ..., 2, 2, 2])"
      ]
     },
     "execution_count": 5,
     "metadata": {},
     "output_type": "execute_result"
    }
   ],
   "source": [
    "labels"
   ]
  },
  {
   "cell_type": "code",
   "execution_count": 6,
   "id": "180423da",
   "metadata": {
    "execution": {
     "iopub.execute_input": "2022-12-01T16:05:01.791846Z",
     "iopub.status.busy": "2022-12-01T16:05:01.791430Z",
     "iopub.status.idle": "2022-12-01T16:05:01.861805Z",
     "shell.execute_reply": "2022-12-01T16:05:01.860477Z"
    },
    "papermill": {
     "duration": 0.07908,
     "end_time": "2022-12-01T16:05:01.864978",
     "exception": false,
     "start_time": "2022-12-01T16:05:01.785898",
     "status": "completed"
    },
    "tags": []
   },
   "outputs": [],
   "source": [
    "from sklearn.model_selection import train_test_split\n",
    "x_train,x_test,y_train,y_test=train_test_split(img,labels,test_size=0.2)"
   ]
  },
  {
   "cell_type": "code",
   "execution_count": 7,
   "id": "ea6dfda9",
   "metadata": {
    "execution": {
     "iopub.execute_input": "2022-12-01T16:05:01.875551Z",
     "iopub.status.busy": "2022-12-01T16:05:01.875104Z",
     "iopub.status.idle": "2022-12-01T16:05:08.935603Z",
     "shell.execute_reply": "2022-12-01T16:05:08.934230Z"
    },
    "papermill": {
     "duration": 7.069439,
     "end_time": "2022-12-01T16:05:08.938867",
     "exception": false,
     "start_time": "2022-12-01T16:05:01.869428",
     "status": "completed"
    },
    "tags": []
   },
   "outputs": [
    {
     "name": "stdout",
     "output_type": "stream",
     "text": [
      "Model: \"sequential\"\n",
      "_________________________________________________________________\n",
      "Layer (type)                 Output Shape              Param #   \n",
      "=================================================================\n",
      "flatten (Flatten)            (None, 784)               0         \n",
      "_________________________________________________________________\n",
      "dense (Dense)                (None, 64)                50240     \n",
      "_________________________________________________________________\n",
      "dense_1 (Dense)              (None, 214)               13910     \n",
      "_________________________________________________________________\n",
      "dense_2 (Dense)              (None, 5)                 1075      \n",
      "=================================================================\n",
      "Total params: 65,225\n",
      "Trainable params: 65,225\n",
      "Non-trainable params: 0\n",
      "_________________________________________________________________\n"
     ]
    },
    {
     "name": "stderr",
     "output_type": "stream",
     "text": [
      "2022-12-01 16:05:08.833703: I tensorflow/core/common_runtime/process_util.cc:146] Creating new thread pool with default inter op setting: 2. Tune using inter_op_parallelism_threads for best performance.\n"
     ]
    }
   ],
   "source": [
    "from tensorflow.keras.models import Sequential\n",
    "from tensorflow.keras.layers import Dense,Flatten\n",
    "model=Sequential()\n",
    "model.add(Flatten(input_shape=[28,28]))\n",
    "model.add(Dense(64,input_dim=784,activation='relu'))\n",
    "model.add(Dense(214,activation='relu'))\n",
    "model.add(Dense(5,activation='softmax'))\n",
    "model.summary()"
   ]
  },
  {
   "cell_type": "code",
   "execution_count": 8,
   "id": "ddde46aa",
   "metadata": {
    "execution": {
     "iopub.execute_input": "2022-12-01T16:05:08.951192Z",
     "iopub.status.busy": "2022-12-01T16:05:08.950017Z",
     "iopub.status.idle": "2022-12-01T16:06:18.987737Z",
     "shell.execute_reply": "2022-12-01T16:06:18.986437Z"
    },
    "papermill": {
     "duration": 70.045983,
     "end_time": "2022-12-01T16:06:18.990089",
     "exception": false,
     "start_time": "2022-12-01T16:05:08.944106",
     "status": "completed"
    },
    "scrolled": true,
    "tags": []
   },
   "outputs": [
    {
     "name": "stderr",
     "output_type": "stream",
     "text": [
      "2022-12-01 16:05:09.046105: I tensorflow/compiler/mlir/mlir_graph_optimization_pass.cc:185] None of the MLIR Optimization Passes are enabled (registered 2)\n"
     ]
    },
    {
     "name": "stdout",
     "output_type": "stream",
     "text": [
      "Epoch 1/200\n",
      "125/125 [==============================] - 1s 3ms/step - loss: 3.0087 - accuracy: 0.7960\n",
      "Epoch 2/200\n",
      "125/125 [==============================] - 0s 4ms/step - loss: 0.5353 - accuracy: 0.9097\n",
      "Epoch 3/200\n",
      "125/125 [==============================] - 1s 5ms/step - loss: 0.5839 - accuracy: 0.9075\n",
      "Epoch 4/200\n",
      "125/125 [==============================] - 1s 4ms/step - loss: 0.4024 - accuracy: 0.9218\n",
      "Epoch 5/200\n",
      "125/125 [==============================] - 0s 3ms/step - loss: 0.3725 - accuracy: 0.9258\n",
      "Epoch 6/200\n",
      "125/125 [==============================] - 0s 3ms/step - loss: 0.3524 - accuracy: 0.9342\n",
      "Epoch 7/200\n",
      "125/125 [==============================] - 0s 3ms/step - loss: 0.2622 - accuracy: 0.9492\n",
      "Epoch 8/200\n",
      "125/125 [==============================] - 0s 3ms/step - loss: 0.1703 - accuracy: 0.9567\n",
      "Epoch 9/200\n",
      "125/125 [==============================] - 0s 3ms/step - loss: 0.2542 - accuracy: 0.9457\n",
      "Epoch 10/200\n",
      "125/125 [==============================] - 0s 3ms/step - loss: 0.2706 - accuracy: 0.9392\n",
      "Epoch 11/200\n",
      "125/125 [==============================] - 0s 3ms/step - loss: 0.2131 - accuracy: 0.9477\n",
      "Epoch 12/200\n",
      "125/125 [==============================] - 0s 3ms/step - loss: 0.2039 - accuracy: 0.9503\n",
      "Epoch 13/200\n",
      "125/125 [==============================] - 0s 3ms/step - loss: 0.1960 - accuracy: 0.9555\n",
      "Epoch 14/200\n",
      "125/125 [==============================] - 0s 3ms/step - loss: 0.2422 - accuracy: 0.9415\n",
      "Epoch 15/200\n",
      "125/125 [==============================] - 0s 3ms/step - loss: 0.2079 - accuracy: 0.9513\n",
      "Epoch 16/200\n",
      "125/125 [==============================] - 0s 3ms/step - loss: 0.2307 - accuracy: 0.9435\n",
      "Epoch 17/200\n",
      "125/125 [==============================] - 0s 3ms/step - loss: 0.1663 - accuracy: 0.9572\n",
      "Epoch 18/200\n",
      "125/125 [==============================] - 0s 3ms/step - loss: 0.2151 - accuracy: 0.9488\n",
      "Epoch 19/200\n",
      "125/125 [==============================] - 0s 2ms/step - loss: 0.1635 - accuracy: 0.9600\n",
      "Epoch 20/200\n",
      "125/125 [==============================] - 0s 2ms/step - loss: 0.1616 - accuracy: 0.9580\n",
      "Epoch 21/200\n",
      "125/125 [==============================] - 0s 2ms/step - loss: 0.2015 - accuracy: 0.9532\n",
      "Epoch 22/200\n",
      "125/125 [==============================] - 0s 3ms/step - loss: 0.1866 - accuracy: 0.9515\n",
      "Epoch 23/200\n",
      "125/125 [==============================] - 0s 3ms/step - loss: 0.1091 - accuracy: 0.9682\n",
      "Epoch 24/200\n",
      "125/125 [==============================] - 0s 3ms/step - loss: 0.0827 - accuracy: 0.9730\n",
      "Epoch 25/200\n",
      "125/125 [==============================] - 0s 3ms/step - loss: 0.1241 - accuracy: 0.9650\n",
      "Epoch 26/200\n",
      "125/125 [==============================] - 0s 3ms/step - loss: 0.1626 - accuracy: 0.9605\n",
      "Epoch 27/200\n",
      "125/125 [==============================] - 0s 2ms/step - loss: 0.1499 - accuracy: 0.9615\n",
      "Epoch 28/200\n",
      "125/125 [==============================] - 0s 2ms/step - loss: 0.1871 - accuracy: 0.9592\n",
      "Epoch 29/200\n",
      "125/125 [==============================] - 0s 3ms/step - loss: 0.2240 - accuracy: 0.9528\n",
      "Epoch 30/200\n",
      "125/125 [==============================] - 0s 2ms/step - loss: 0.1864 - accuracy: 0.9630\n",
      "Epoch 31/200\n",
      "125/125 [==============================] - 0s 3ms/step - loss: 0.2000 - accuracy: 0.9560\n",
      "Epoch 32/200\n",
      "125/125 [==============================] - 0s 3ms/step - loss: 0.1138 - accuracy: 0.9675\n",
      "Epoch 33/200\n",
      "125/125 [==============================] - 0s 3ms/step - loss: 0.1161 - accuracy: 0.9707\n",
      "Epoch 34/200\n",
      "125/125 [==============================] - 0s 3ms/step - loss: 0.1326 - accuracy: 0.9660\n",
      "Epoch 35/200\n",
      "125/125 [==============================] - 0s 2ms/step - loss: 0.1209 - accuracy: 0.9650\n",
      "Epoch 36/200\n",
      "125/125 [==============================] - 0s 3ms/step - loss: 0.1065 - accuracy: 0.9663\n",
      "Epoch 37/200\n",
      "125/125 [==============================] - 0s 3ms/step - loss: 0.0823 - accuracy: 0.9728\n",
      "Epoch 38/200\n",
      "125/125 [==============================] - 0s 3ms/step - loss: 0.0778 - accuracy: 0.9737\n",
      "Epoch 39/200\n",
      "125/125 [==============================] - 0s 3ms/step - loss: 0.0994 - accuracy: 0.9703\n",
      "Epoch 40/200\n",
      "125/125 [==============================] - 0s 2ms/step - loss: 0.2762 - accuracy: 0.9423\n",
      "Epoch 41/200\n",
      "125/125 [==============================] - 0s 3ms/step - loss: 0.1164 - accuracy: 0.9663\n",
      "Epoch 42/200\n",
      "125/125 [==============================] - 0s 3ms/step - loss: 0.0954 - accuracy: 0.9735\n",
      "Epoch 43/200\n",
      "125/125 [==============================] - 0s 3ms/step - loss: 0.0926 - accuracy: 0.9710\n",
      "Epoch 44/200\n",
      "125/125 [==============================] - 0s 3ms/step - loss: 0.1105 - accuracy: 0.9668\n",
      "Epoch 45/200\n",
      "125/125 [==============================] - 0s 3ms/step - loss: 0.0966 - accuracy: 0.9703\n",
      "Epoch 46/200\n",
      "125/125 [==============================] - 0s 3ms/step - loss: 0.0833 - accuracy: 0.9737\n",
      "Epoch 47/200\n",
      "125/125 [==============================] - 0s 3ms/step - loss: 0.0616 - accuracy: 0.9775\n",
      "Epoch 48/200\n",
      "125/125 [==============================] - 0s 3ms/step - loss: 0.0634 - accuracy: 0.9790\n",
      "Epoch 49/200\n",
      "125/125 [==============================] - 0s 3ms/step - loss: 0.0501 - accuracy: 0.9815\n",
      "Epoch 50/200\n",
      "125/125 [==============================] - 0s 3ms/step - loss: 0.0779 - accuracy: 0.9755\n",
      "Epoch 51/200\n",
      "125/125 [==============================] - 0s 3ms/step - loss: 0.0537 - accuracy: 0.9815\n",
      "Epoch 52/200\n",
      "125/125 [==============================] - 0s 3ms/step - loss: 0.0642 - accuracy: 0.9775\n",
      "Epoch 53/200\n",
      "125/125 [==============================] - 0s 3ms/step - loss: 0.1054 - accuracy: 0.9682\n",
      "Epoch 54/200\n",
      "125/125 [==============================] - 0s 3ms/step - loss: 0.0895 - accuracy: 0.9715\n",
      "Epoch 55/200\n",
      "125/125 [==============================] - 0s 3ms/step - loss: 0.0865 - accuracy: 0.9762\n",
      "Epoch 56/200\n",
      "125/125 [==============================] - 0s 3ms/step - loss: 0.0867 - accuracy: 0.9743\n",
      "Epoch 57/200\n",
      "125/125 [==============================] - 0s 3ms/step - loss: 0.0725 - accuracy: 0.9780\n",
      "Epoch 58/200\n",
      "125/125 [==============================] - 0s 4ms/step - loss: 0.0921 - accuracy: 0.9732\n",
      "Epoch 59/200\n",
      "125/125 [==============================] - 0s 3ms/step - loss: 0.0889 - accuracy: 0.9743\n",
      "Epoch 60/200\n",
      "125/125 [==============================] - 0s 3ms/step - loss: 0.0554 - accuracy: 0.9800\n",
      "Epoch 61/200\n",
      "125/125 [==============================] - 0s 3ms/step - loss: 0.0455 - accuracy: 0.9837\n",
      "Epoch 62/200\n",
      "125/125 [==============================] - 0s 3ms/step - loss: 0.0412 - accuracy: 0.9860\n",
      "Epoch 63/200\n",
      "125/125 [==============================] - 0s 3ms/step - loss: 0.0390 - accuracy: 0.9843\n",
      "Epoch 64/200\n",
      "125/125 [==============================] - 0s 3ms/step - loss: 0.0493 - accuracy: 0.9800\n",
      "Epoch 65/200\n",
      "125/125 [==============================] - 0s 3ms/step - loss: 0.1561 - accuracy: 0.9600\n",
      "Epoch 66/200\n",
      "125/125 [==============================] - 0s 3ms/step - loss: 0.1135 - accuracy: 0.9700\n",
      "Epoch 67/200\n",
      "125/125 [==============================] - 0s 3ms/step - loss: 0.0692 - accuracy: 0.9800\n",
      "Epoch 68/200\n",
      "125/125 [==============================] - 0s 3ms/step - loss: 0.0519 - accuracy: 0.9822\n",
      "Epoch 69/200\n",
      "125/125 [==============================] - 0s 3ms/step - loss: 0.0484 - accuracy: 0.9830\n",
      "Epoch 70/200\n",
      "125/125 [==============================] - 0s 3ms/step - loss: 0.0447 - accuracy: 0.9852\n",
      "Epoch 71/200\n",
      "125/125 [==============================] - 0s 3ms/step - loss: 0.0456 - accuracy: 0.9835\n",
      "Epoch 72/200\n",
      "125/125 [==============================] - 0s 3ms/step - loss: 0.0990 - accuracy: 0.9707\n",
      "Epoch 73/200\n",
      "125/125 [==============================] - 0s 3ms/step - loss: 0.0608 - accuracy: 0.9805\n",
      "Epoch 74/200\n",
      "125/125 [==============================] - 0s 3ms/step - loss: 0.0319 - accuracy: 0.9870\n",
      "Epoch 75/200\n",
      "125/125 [==============================] - 0s 3ms/step - loss: 0.0535 - accuracy: 0.9843\n",
      "Epoch 76/200\n",
      "125/125 [==============================] - 0s 3ms/step - loss: 0.0415 - accuracy: 0.9825\n",
      "Epoch 77/200\n",
      "125/125 [==============================] - 0s 3ms/step - loss: 0.0381 - accuracy: 0.9860\n",
      "Epoch 78/200\n",
      "125/125 [==============================] - 0s 3ms/step - loss: 0.0352 - accuracy: 0.9862\n",
      "Epoch 79/200\n",
      "125/125 [==============================] - 0s 3ms/step - loss: 0.0363 - accuracy: 0.9862\n",
      "Epoch 80/200\n",
      "125/125 [==============================] - 0s 3ms/step - loss: 0.0698 - accuracy: 0.9755\n",
      "Epoch 81/200\n",
      "125/125 [==============================] - 0s 2ms/step - loss: 0.2112 - accuracy: 0.9643\n",
      "Epoch 82/200\n",
      "125/125 [==============================] - 0s 2ms/step - loss: 0.0595 - accuracy: 0.9820\n",
      "Epoch 83/200\n",
      "125/125 [==============================] - 0s 3ms/step - loss: 0.0293 - accuracy: 0.9887\n",
      "Epoch 84/200\n",
      "125/125 [==============================] - 0s 3ms/step - loss: 0.0270 - accuracy: 0.9887\n",
      "Epoch 85/200\n",
      "125/125 [==============================] - 0s 3ms/step - loss: 0.0357 - accuracy: 0.9868\n",
      "Epoch 86/200\n",
      "125/125 [==============================] - 0s 3ms/step - loss: 0.0348 - accuracy: 0.9880\n",
      "Epoch 87/200\n",
      "125/125 [==============================] - 0s 3ms/step - loss: 0.0596 - accuracy: 0.9797\n",
      "Epoch 88/200\n",
      "125/125 [==============================] - 0s 2ms/step - loss: 0.0541 - accuracy: 0.9808\n",
      "Epoch 89/200\n",
      "125/125 [==============================] - 0s 2ms/step - loss: 0.0272 - accuracy: 0.9893\n",
      "Epoch 90/200\n",
      "125/125 [==============================] - 0s 3ms/step - loss: 0.0324 - accuracy: 0.9887\n",
      "Epoch 91/200\n",
      "125/125 [==============================] - 0s 3ms/step - loss: 0.0270 - accuracy: 0.9900\n",
      "Epoch 92/200\n",
      "125/125 [==============================] - 0s 4ms/step - loss: 0.0529 - accuracy: 0.9830\n",
      "Epoch 93/200\n",
      "125/125 [==============================] - 1s 5ms/step - loss: 0.0619 - accuracy: 0.9812\n",
      "Epoch 94/200\n",
      "125/125 [==============================] - 0s 3ms/step - loss: 0.0461 - accuracy: 0.9850\n",
      "Epoch 95/200\n",
      "125/125 [==============================] - 0s 3ms/step - loss: 0.0286 - accuracy: 0.9887\n",
      "Epoch 96/200\n",
      "125/125 [==============================] - 0s 3ms/step - loss: 0.0610 - accuracy: 0.9825\n",
      "Epoch 97/200\n",
      "125/125 [==============================] - 0s 3ms/step - loss: 0.0678 - accuracy: 0.9805\n",
      "Epoch 98/200\n",
      "125/125 [==============================] - 0s 2ms/step - loss: 0.0410 - accuracy: 0.9845\n",
      "Epoch 99/200\n",
      "125/125 [==============================] - 0s 3ms/step - loss: 0.0238 - accuracy: 0.9912\n",
      "Epoch 100/200\n",
      "125/125 [==============================] - 0s 3ms/step - loss: 0.0284 - accuracy: 0.9893\n",
      "Epoch 101/200\n",
      "125/125 [==============================] - 0s 3ms/step - loss: 0.0274 - accuracy: 0.9900\n",
      "Epoch 102/200\n",
      "125/125 [==============================] - 0s 2ms/step - loss: 0.0333 - accuracy: 0.9870\n",
      "Epoch 103/200\n",
      "125/125 [==============================] - 0s 3ms/step - loss: 0.0404 - accuracy: 0.9870\n",
      "Epoch 104/200\n",
      "125/125 [==============================] - 0s 3ms/step - loss: 0.0238 - accuracy: 0.9893\n",
      "Epoch 105/200\n",
      "125/125 [==============================] - 0s 3ms/step - loss: 0.0384 - accuracy: 0.9860\n",
      "Epoch 106/200\n",
      "125/125 [==============================] - 0s 3ms/step - loss: 0.0276 - accuracy: 0.9872\n",
      "Epoch 107/200\n",
      "125/125 [==============================] - 0s 3ms/step - loss: 0.0766 - accuracy: 0.9815\n",
      "Epoch 108/200\n",
      "125/125 [==============================] - 0s 2ms/step - loss: 0.0921 - accuracy: 0.9743\n",
      "Epoch 109/200\n",
      "125/125 [==============================] - 0s 2ms/step - loss: 0.0382 - accuracy: 0.9858\n",
      "Epoch 110/200\n",
      "125/125 [==============================] - 0s 3ms/step - loss: 0.0319 - accuracy: 0.9865\n",
      "Epoch 111/200\n",
      "125/125 [==============================] - 0s 3ms/step - loss: 0.0242 - accuracy: 0.9883\n",
      "Epoch 112/200\n",
      "125/125 [==============================] - 0s 3ms/step - loss: 0.0292 - accuracy: 0.9887\n",
      "Epoch 113/200\n",
      "125/125 [==============================] - 0s 3ms/step - loss: 0.0230 - accuracy: 0.9918\n",
      "Epoch 114/200\n",
      "125/125 [==============================] - 0s 3ms/step - loss: 0.0166 - accuracy: 0.9933\n",
      "Epoch 115/200\n",
      "125/125 [==============================] - 0s 3ms/step - loss: 0.0171 - accuracy: 0.9935\n",
      "Epoch 116/200\n",
      "125/125 [==============================] - 0s 3ms/step - loss: 0.0112 - accuracy: 0.9952\n",
      "Epoch 117/200\n",
      "125/125 [==============================] - 0s 3ms/step - loss: 0.0788 - accuracy: 0.9775\n",
      "Epoch 118/200\n",
      "125/125 [==============================] - 0s 3ms/step - loss: 0.1302 - accuracy: 0.9690\n",
      "Epoch 119/200\n",
      "125/125 [==============================] - 0s 3ms/step - loss: 0.0331 - accuracy: 0.9893\n",
      "Epoch 120/200\n",
      "125/125 [==============================] - 0s 3ms/step - loss: 0.0268 - accuracy: 0.9893\n",
      "Epoch 121/200\n",
      "125/125 [==============================] - 0s 3ms/step - loss: 0.0196 - accuracy: 0.9920\n",
      "Epoch 122/200\n",
      "125/125 [==============================] - 0s 3ms/step - loss: 0.0410 - accuracy: 0.9835\n",
      "Epoch 123/200\n",
      "125/125 [==============================] - 0s 3ms/step - loss: 0.0304 - accuracy: 0.9877\n",
      "Epoch 124/200\n",
      "125/125 [==============================] - 0s 2ms/step - loss: 0.0341 - accuracy: 0.9875\n",
      "Epoch 125/200\n",
      "125/125 [==============================] - 0s 3ms/step - loss: 0.0228 - accuracy: 0.9902\n",
      "Epoch 126/200\n",
      "125/125 [==============================] - 0s 2ms/step - loss: 0.0217 - accuracy: 0.9918\n",
      "Epoch 127/200\n",
      "125/125 [==============================] - 0s 2ms/step - loss: 0.0205 - accuracy: 0.9927\n",
      "Epoch 128/200\n",
      "125/125 [==============================] - 0s 3ms/step - loss: 0.0256 - accuracy: 0.9893\n",
      "Epoch 129/200\n",
      "125/125 [==============================] - 0s 3ms/step - loss: 0.0186 - accuracy: 0.9933\n",
      "Epoch 130/200\n",
      "125/125 [==============================] - 0s 3ms/step - loss: 0.0163 - accuracy: 0.9930\n",
      "Epoch 131/200\n",
      "125/125 [==============================] - 0s 3ms/step - loss: 0.0248 - accuracy: 0.9880\n",
      "Epoch 132/200\n",
      "125/125 [==============================] - 0s 3ms/step - loss: 0.0747 - accuracy: 0.9825\n",
      "Epoch 133/200\n",
      "125/125 [==============================] - 0s 3ms/step - loss: 0.0667 - accuracy: 0.9780\n",
      "Epoch 134/200\n",
      "125/125 [==============================] - 0s 2ms/step - loss: 0.0264 - accuracy: 0.9902\n",
      "Epoch 135/200\n",
      "125/125 [==============================] - 0s 2ms/step - loss: 0.0210 - accuracy: 0.9915\n",
      "Epoch 136/200\n",
      "125/125 [==============================] - 0s 2ms/step - loss: 0.0258 - accuracy: 0.9895\n",
      "Epoch 137/200\n",
      "125/125 [==============================] - 0s 2ms/step - loss: 0.0234 - accuracy: 0.9900\n",
      "Epoch 138/200\n",
      "125/125 [==============================] - 0s 2ms/step - loss: 0.0199 - accuracy: 0.9930\n",
      "Epoch 139/200\n",
      "125/125 [==============================] - 0s 2ms/step - loss: 0.0269 - accuracy: 0.9900\n",
      "Epoch 140/200\n",
      "125/125 [==============================] - 0s 2ms/step - loss: 0.0200 - accuracy: 0.9920\n",
      "Epoch 141/200\n",
      "125/125 [==============================] - 0s 2ms/step - loss: 0.0152 - accuracy: 0.9942\n",
      "Epoch 142/200\n",
      "125/125 [==============================] - 0s 3ms/step - loss: 0.0158 - accuracy: 0.9952\n",
      "Epoch 143/200\n",
      "125/125 [==============================] - 0s 3ms/step - loss: 0.0244 - accuracy: 0.9912\n",
      "Epoch 144/200\n",
      "125/125 [==============================] - 0s 3ms/step - loss: 0.0484 - accuracy: 0.9883\n",
      "Epoch 145/200\n",
      "125/125 [==============================] - 0s 3ms/step - loss: 0.0450 - accuracy: 0.9865\n",
      "Epoch 146/200\n",
      "125/125 [==============================] - 0s 3ms/step - loss: 0.0186 - accuracy: 0.9918\n",
      "Epoch 147/200\n",
      "125/125 [==============================] - 0s 3ms/step - loss: 0.0331 - accuracy: 0.9893\n",
      "Epoch 148/200\n",
      "125/125 [==============================] - 0s 2ms/step - loss: 0.0459 - accuracy: 0.9868\n",
      "Epoch 149/200\n",
      "125/125 [==============================] - 0s 3ms/step - loss: 0.0339 - accuracy: 0.9887\n",
      "Epoch 150/200\n",
      "125/125 [==============================] - 0s 3ms/step - loss: 0.0159 - accuracy: 0.9945\n",
      "Epoch 151/200\n",
      "125/125 [==============================] - 0s 3ms/step - loss: 0.0103 - accuracy: 0.9973\n",
      "Epoch 152/200\n",
      "125/125 [==============================] - 0s 3ms/step - loss: 0.0101 - accuracy: 0.9960\n",
      "Epoch 153/200\n",
      "125/125 [==============================] - 0s 3ms/step - loss: 0.0171 - accuracy: 0.9933\n",
      "Epoch 154/200\n",
      "125/125 [==============================] - 0s 3ms/step - loss: 0.0223 - accuracy: 0.9930\n",
      "Epoch 155/200\n",
      "125/125 [==============================] - 0s 3ms/step - loss: 0.0294 - accuracy: 0.9895\n",
      "Epoch 156/200\n",
      "125/125 [==============================] - 0s 3ms/step - loss: 0.0220 - accuracy: 0.9910\n",
      "Epoch 157/200\n",
      "125/125 [==============================] - 0s 3ms/step - loss: 0.0138 - accuracy: 0.9935\n",
      "Epoch 158/200\n",
      "125/125 [==============================] - 0s 3ms/step - loss: 0.0189 - accuracy: 0.9940\n",
      "Epoch 159/200\n",
      "125/125 [==============================] - 0s 3ms/step - loss: 0.0145 - accuracy: 0.9948\n",
      "Epoch 160/200\n",
      "125/125 [==============================] - 0s 2ms/step - loss: 0.0243 - accuracy: 0.9900\n",
      "Epoch 161/200\n",
      "125/125 [==============================] - 0s 3ms/step - loss: 0.0260 - accuracy: 0.9923\n",
      "Epoch 162/200\n",
      "125/125 [==============================] - 0s 3ms/step - loss: 0.0552 - accuracy: 0.9845\n",
      "Epoch 163/200\n",
      "125/125 [==============================] - 0s 3ms/step - loss: 0.0394 - accuracy: 0.9872\n",
      "Epoch 164/200\n",
      "125/125 [==============================] - 0s 3ms/step - loss: 0.0219 - accuracy: 0.9918\n",
      "Epoch 165/200\n",
      "125/125 [==============================] - 0s 3ms/step - loss: 0.0434 - accuracy: 0.9862\n",
      "Epoch 166/200\n",
      "125/125 [==============================] - 0s 3ms/step - loss: 0.0396 - accuracy: 0.9887\n",
      "Epoch 167/200\n",
      "125/125 [==============================] - 0s 3ms/step - loss: 0.0250 - accuracy: 0.9908\n",
      "Epoch 168/200\n",
      "125/125 [==============================] - 0s 3ms/step - loss: 0.0432 - accuracy: 0.9883\n",
      "Epoch 169/200\n",
      "125/125 [==============================] - 0s 3ms/step - loss: 0.0484 - accuracy: 0.9850\n",
      "Epoch 170/200\n",
      "125/125 [==============================] - 0s 3ms/step - loss: 0.0120 - accuracy: 0.9952\n",
      "Epoch 171/200\n",
      "125/125 [==============================] - 0s 3ms/step - loss: 0.0121 - accuracy: 0.9958\n",
      "Epoch 172/200\n",
      "125/125 [==============================] - 0s 3ms/step - loss: 0.0167 - accuracy: 0.9942\n",
      "Epoch 173/200\n",
      "125/125 [==============================] - 0s 3ms/step - loss: 0.0170 - accuracy: 0.9920\n",
      "Epoch 174/200\n",
      "125/125 [==============================] - 0s 3ms/step - loss: 0.0174 - accuracy: 0.9935\n",
      "Epoch 175/200\n",
      "125/125 [==============================] - 0s 3ms/step - loss: 0.0116 - accuracy: 0.9958\n",
      "Epoch 176/200\n",
      "125/125 [==============================] - 0s 3ms/step - loss: 0.0078 - accuracy: 0.9967\n",
      "Epoch 177/200\n",
      "125/125 [==============================] - 0s 3ms/step - loss: 0.0108 - accuracy: 0.9960\n",
      "Epoch 178/200\n",
      "125/125 [==============================] - 0s 3ms/step - loss: 0.0148 - accuracy: 0.9930\n",
      "Epoch 179/200\n",
      "125/125 [==============================] - 0s 3ms/step - loss: 0.0105 - accuracy: 0.9965\n",
      "Epoch 180/200\n",
      "125/125 [==============================] - 0s 3ms/step - loss: 0.0240 - accuracy: 0.9923\n",
      "Epoch 181/200\n",
      "125/125 [==============================] - 0s 3ms/step - loss: 0.0720 - accuracy: 0.9833\n",
      "Epoch 182/200\n",
      "125/125 [==============================] - 0s 3ms/step - loss: 0.0162 - accuracy: 0.9933\n",
      "Epoch 183/200\n",
      "125/125 [==============================] - 0s 3ms/step - loss: 0.0195 - accuracy: 0.9918\n",
      "Epoch 184/200\n",
      "125/125 [==============================] - 1s 4ms/step - loss: 0.0183 - accuracy: 0.9930\n",
      "Epoch 185/200\n",
      "125/125 [==============================] - 1s 5ms/step - loss: 0.0192 - accuracy: 0.9927\n",
      "Epoch 186/200\n",
      "125/125 [==============================] - 0s 4ms/step - loss: 0.0085 - accuracy: 0.9965\n",
      "Epoch 187/200\n",
      "125/125 [==============================] - 0s 3ms/step - loss: 0.0091 - accuracy: 0.9960\n",
      "Epoch 188/200\n",
      "125/125 [==============================] - 0s 3ms/step - loss: 0.0845 - accuracy: 0.9805\n",
      "Epoch 189/200\n",
      "125/125 [==============================] - 0s 3ms/step - loss: 0.0293 - accuracy: 0.9898\n",
      "Epoch 190/200\n",
      "125/125 [==============================] - 0s 3ms/step - loss: 0.0140 - accuracy: 0.9945\n",
      "Epoch 191/200\n",
      "125/125 [==============================] - 0s 3ms/step - loss: 0.0058 - accuracy: 0.9990\n",
      "Epoch 192/200\n",
      "125/125 [==============================] - 0s 3ms/step - loss: 0.0076 - accuracy: 0.9975\n",
      "Epoch 193/200\n",
      "125/125 [==============================] - 0s 3ms/step - loss: 0.0132 - accuracy: 0.9948\n",
      "Epoch 194/200\n",
      "125/125 [==============================] - 0s 2ms/step - loss: 0.0223 - accuracy: 0.9912\n",
      "Epoch 195/200\n",
      "125/125 [==============================] - 0s 3ms/step - loss: 0.0244 - accuracy: 0.9933\n",
      "Epoch 196/200\n",
      "125/125 [==============================] - 0s 3ms/step - loss: 0.0250 - accuracy: 0.9948\n",
      "Epoch 197/200\n",
      "125/125 [==============================] - 0s 3ms/step - loss: 0.0114 - accuracy: 0.9948\n",
      "Epoch 198/200\n",
      "125/125 [==============================] - 0s 3ms/step - loss: 0.0138 - accuracy: 0.9950\n",
      "Epoch 199/200\n",
      "125/125 [==============================] - 0s 3ms/step - loss: 0.0734 - accuracy: 0.9843\n",
      "Epoch 200/200\n",
      "125/125 [==============================] - 0s 3ms/step - loss: 0.0260 - accuracy: 0.9902\n"
     ]
    },
    {
     "data": {
      "text/plain": [
       "<keras.callbacks.History at 0x7fba0f8dc690>"
      ]
     },
     "execution_count": 8,
     "metadata": {},
     "output_type": "execute_result"
    }
   ],
   "source": [
    "model.compile(loss='sparse_categorical_crossentropy',optimizer='adam',metrics=['accuracy'])\n",
    "model.fit(x_train,y_train,epochs=200)"
   ]
  },
  {
   "cell_type": "code",
   "execution_count": 9,
   "id": "7f674b6d",
   "metadata": {
    "execution": {
     "iopub.execute_input": "2022-12-01T16:06:19.202043Z",
     "iopub.status.busy": "2022-12-01T16:06:19.201581Z",
     "iopub.status.idle": "2022-12-01T16:06:19.510774Z",
     "shell.execute_reply": "2022-12-01T16:06:19.509507Z"
    },
    "papermill": {
     "duration": 0.417824,
     "end_time": "2022-12-01T16:06:19.513289",
     "exception": false,
     "start_time": "2022-12-01T16:06:19.095465",
     "status": "completed"
    },
    "tags": []
   },
   "outputs": [
    {
     "name": "stdout",
     "output_type": "stream",
     "text": [
      "32/32 [==============================] - 0s 2ms/step - loss: 0.2750 - accuracy: 0.9530\n"
     ]
    },
    {
     "data": {
      "text/plain": [
       "[0.27503201365470886, 0.953000009059906]"
      ]
     },
     "execution_count": 9,
     "metadata": {},
     "output_type": "execute_result"
    }
   ],
   "source": [
    "model.evaluate(x_test,y_test)"
   ]
  },
  {
   "cell_type": "markdown",
   "id": "569c1859",
   "metadata": {
    "papermill": {
     "duration": 0.104948,
     "end_time": "2022-12-01T16:06:19.723117",
     "exception": false,
     "start_time": "2022-12-01T16:06:19.618169",
     "status": "completed"
    },
    "tags": []
   },
   "source": [
    "## 20BD1A6647\n",
    "## Sanjuth Reddy Pullagurla\n"
   ]
  },
  {
   "cell_type": "code",
   "execution_count": null,
   "id": "72019dd8",
   "metadata": {
    "papermill": {
     "duration": 0.104806,
     "end_time": "2022-12-01T16:06:19.931363",
     "exception": false,
     "start_time": "2022-12-01T16:06:19.826557",
     "status": "completed"
    },
    "tags": []
   },
   "outputs": [],
   "source": []
  }
 ],
 "metadata": {
  "kernelspec": {
   "display_name": "Python 3",
   "language": "python",
   "name": "python3"
  },
  "language_info": {
   "codemirror_mode": {
    "name": "ipython",
    "version": 3
   },
   "file_extension": ".py",
   "mimetype": "text/x-python",
   "name": "python",
   "nbconvert_exporter": "python",
   "pygments_lexer": "ipython3",
   "version": "3.7.12"
  },
  "papermill": {
   "default_parameters": {},
   "duration": 118.286675,
   "end_time": "2022-12-01T16:06:23.304749",
   "environment_variables": {},
   "exception": null,
   "input_path": "__notebook__.ipynb",
   "output_path": "__notebook__.ipynb",
   "parameters": {},
   "start_time": "2022-12-01T16:04:25.018074",
   "version": "2.3.4"
  }
 },
 "nbformat": 4,
 "nbformat_minor": 5
}
