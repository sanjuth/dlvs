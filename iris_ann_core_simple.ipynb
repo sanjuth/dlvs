{
  "cells": [
    {
      "cell_type": "markdown",
      "metadata": {
        "id": "view-in-github",
        "colab_type": "text"
      },
      "source": [
        "<a href=\"https://colab.research.google.com/github/sanjuth/dlvs/blob/main/iris_ann_core_simple.ipynb\" target=\"_parent\"><img src=\"https://colab.research.google.com/assets/colab-badge.svg\" alt=\"Open In Colab\"/></a>"
      ]
    },
    {
      "cell_type": "markdown",
      "id": "f5d0229d",
      "metadata": {
        "papermill": {
          "duration": 0.018593,
          "end_time": "2022-12-16T02:33:09.537590",
          "exception": false,
          "start_time": "2022-12-16T02:33:09.518997",
          "status": "completed"
        },
        "tags": [],
        "id": "f5d0229d"
      },
      "source": [
        "# Design single unit perceptron for classification of iris dataset without using pre-defined models.  "
      ]
    },
    {
      "cell_type": "code",
      "execution_count": null,
      "id": "8e8fab26",
      "metadata": {
        "_cell_guid": "b1076dfc-b9ad-4769-8c92-a6c4dae69d19",
        "_uuid": "8f2839f25d086af736a60e9eeb907d3b93b6e0e5",
        "execution": {
          "iopub.execute_input": "2022-12-16T02:33:09.610579Z",
          "iopub.status.busy": "2022-12-16T02:33:09.609433Z",
          "iopub.status.idle": "2022-12-16T02:33:09.618777Z",
          "shell.execute_reply": "2022-12-16T02:33:09.619310Z",
          "shell.execute_reply.started": "2022-12-16T02:32:14.430584Z"
        },
        "papermill": {
          "duration": 0.030269,
          "end_time": "2022-12-16T02:33:09.619620",
          "exception": false,
          "start_time": "2022-12-16T02:33:09.589351",
          "status": "completed"
        },
        "tags": [],
        "id": "8e8fab26"
      },
      "outputs": [],
      "source": [
        "#Importing required libraries\n",
        "\n",
        "import numpy as np # linear algebra\n",
        "import pandas as pd # data processing, CSV file I/O (e.g. pd.read_csv)\n",
        "import os"
      ]
    },
    {
      "cell_type": "code",
      "execution_count": null,
      "id": "fff07862",
      "metadata": {
        "execution": {
          "iopub.execute_input": "2022-12-16T02:33:09.657085Z",
          "iopub.status.busy": "2022-12-16T02:33:09.656389Z",
          "iopub.status.idle": "2022-12-16T02:33:09.692603Z",
          "shell.execute_reply": "2022-12-16T02:33:09.693119Z",
          "shell.execute_reply.started": "2022-12-16T02:32:14.449873Z"
        },
        "papermill": {
          "duration": 0.056538,
          "end_time": "2022-12-16T02:33:09.693337",
          "exception": false,
          "start_time": "2022-12-16T02:33:09.636799",
          "status": "completed"
        },
        "tags": [],
        "id": "fff07862",
        "outputId": "59c07a3c-4a23-40fa-ca40-6b0ebf2ba95f"
      },
      "outputs": [
        {
          "data": {
            "text/plain": [
              "(100, 7)"
            ]
          },
          "execution_count": 2,
          "metadata": {},
          "output_type": "execute_result"
        }
      ],
      "source": [
        "#Read Dataset into dataframe and preprocess\n",
        "\n",
        "data = pd.read_csv('/kaggle/input/iris/Iris.csv')\n",
        "#Convert target from object to category\n",
        "data.Species = data.Species.astype('category')\n",
        "data['iris_cat']=data.Species.cat.codes\n",
        "\n",
        "data=data[data.iris_cat<2]\n",
        "data.shape"
      ]
    },
    {
      "cell_type": "code",
      "execution_count": null,
      "id": "7718426a",
      "metadata": {
        "execution": {
          "iopub.execute_input": "2022-12-16T02:33:09.737430Z",
          "iopub.status.busy": "2022-12-16T02:33:09.736707Z",
          "iopub.status.idle": "2022-12-16T02:33:10.607773Z",
          "shell.execute_reply": "2022-12-16T02:33:10.608277Z",
          "shell.execute_reply.started": "2022-12-16T02:32:14.472566Z"
        },
        "papermill": {
          "duration": 0.89557,
          "end_time": "2022-12-16T02:33:10.608466",
          "exception": false,
          "start_time": "2022-12-16T02:33:09.712896",
          "status": "completed"
        },
        "tags": [],
        "id": "7718426a",
        "outputId": "2aadfa89-0a1c-4319-fbdf-5f6aebbb37e0"
      },
      "outputs": [
        {
          "name": "stdout",
          "output_type": "stream",
          "text": [
            "   PetalLengthCm  PetalWidthCm  SepalLengthCm  SepalWidthCm  iris_cat\n",
            "0            1.4           0.2            5.1           3.5         0\n",
            "1            1.4           0.2            4.9           3.0         0\n",
            "2            1.3           0.2            4.7           3.2         0\n",
            "3            1.5           0.2            4.6           3.1         0\n",
            "4            1.4           0.2            5.0           3.6         0\n"
          ]
        },
        {
          "data": {
            "text/plain": [
              "array([[1, 0, 1, 0, 1, 0, 0, 1, 0, 0, 0, 1, 0, 0, 1, 0, 1, 0, 1, 0, 0, 1,\n",
              "        1, 0, 1, 1, 0, 0, 0, 1, 0, 1, 1, 0, 0, 0, 1, 0, 1, 1, 1, 0, 1, 0,\n",
              "        0, 0, 0, 1, 1, 1, 1, 1, 1, 0, 0, 0, 0, 0, 0, 1, 1, 0, 1, 1, 0, 1,\n",
              "        0, 0, 1, 0]], dtype=int8)"
            ]
          },
          "execution_count": 3,
          "metadata": {},
          "output_type": "execute_result"
        }
      ],
      "source": [
        "# Splitting Dataset into train and test\n",
        "\n",
        "from sklearn.model_selection import train_test_split\n",
        "data1=data[['PetalLengthCm', 'PetalWidthCm','SepalLengthCm','SepalWidthCm', 'iris_cat']]\n",
        "print(data1.head())\n",
        "x_train, x_test, y_train, y_test = train_test_split(data1[['PetalLengthCm', 'PetalWidthCm']],data1['iris_cat'], test_size=0.3,shuffle=True)\n",
        "\n",
        "X_train = np.array(x_train.T)\n",
        "Y_train = np.array(y_train).reshape(1,-1) \n",
        "X_train.shape,Y_train.shape\n",
        "Y_train"
      ]
    },
    {
      "cell_type": "code",
      "execution_count": null,
      "id": "8ecd1cb2",
      "metadata": {
        "execution": {
          "iopub.execute_input": "2022-12-16T02:33:10.651862Z",
          "iopub.status.busy": "2022-12-16T02:33:10.650856Z",
          "iopub.status.idle": "2022-12-16T02:33:10.653927Z",
          "shell.execute_reply": "2022-12-16T02:33:10.653285Z",
          "shell.execute_reply.started": "2022-12-16T02:32:14.496147Z"
        },
        "papermill": {
          "duration": 0.027563,
          "end_time": "2022-12-16T02:33:10.654089",
          "exception": false,
          "start_time": "2022-12-16T02:33:10.626526",
          "status": "completed"
        },
        "tags": [],
        "id": "8ecd1cb2"
      },
      "outputs": [],
      "source": [
        "#Define required methods for Artificial Neural Networks\n",
        "def initialize_parameters(n_in, n_out, ini_type='plain'):\n",
        "    \"\"\"\n",
        "    Helper function to initialize some form of random weights and Zero biases\n",
        "    Args:\n",
        "        n_in: size of input layer\n",
        "        n_out: size of output/number of neurons\n",
        "        ini_type: set initialization type for weights\n",
        "    Returns:\n",
        "        params: a dictionary containing W and b\n",
        "    \"\"\"\n",
        "\n",
        "    params = dict()  # initialize empty dictionary of neural net parameters W and b\n",
        "\n",
        "    params['W'] = np.random.randn(n_out, n_in) *0.01  # set weights 'W' to small random gaussian\n",
        "    params['b'] = np.zeros((n_out, 1))    # set bias 'b' to zeros\n",
        "\n",
        "    return params"
      ]
    },
    {
      "cell_type": "code",
      "execution_count": null,
      "id": "3f230043",
      "metadata": {
        "execution": {
          "iopub.execute_input": "2022-12-16T02:33:10.701964Z",
          "iopub.status.busy": "2022-12-16T02:33:10.700866Z",
          "iopub.status.idle": "2022-12-16T02:33:10.702941Z",
          "shell.execute_reply": "2022-12-16T02:33:10.703451Z",
          "shell.execute_reply.started": "2022-12-16T02:32:14.510251Z"
        },
        "papermill": {
          "duration": 0.031217,
          "end_time": "2022-12-16T02:33:10.703627",
          "exception": false,
          "start_time": "2022-12-16T02:33:10.672410",
          "status": "completed"
        },
        "tags": [],
        "id": "3f230043"
      },
      "outputs": [],
      "source": [
        "class LinearLayer:\n",
        "    \"\"\"\n",
        "        This Class implements all functions to be executed by a linear layer\n",
        "        in a computational graph\n",
        "        Args:\n",
        "            input_shape: input shape of Data/Activations\n",
        "            n_out: number of neurons in layer\n",
        "            ini_type: initialization type for weight parameters, default is \"plain\"\n",
        "                      Opitons are: plain, xavier and he\n",
        "        Methods:\n",
        "            forward(A_prev)\n",
        "            backward(upstream_grad)\n",
        "            update_params(learning_rate)\n",
        "    \"\"\"\n",
        "\n",
        "    def __init__(self, input_shape, n_out, ini_type=\"plain\"):\n",
        "        \"\"\"\n",
        "        The constructor of the LinearLayer takes the following parameters\n",
        "        Args:\n",
        "            input_shape: input shape of Data/Activations\n",
        "            n_out: number of neurons in layer\n",
        "            ini_type: initialization type for weight parameters, default is \"plain\"\n",
        "        \"\"\"\n",
        "\n",
        "        self.m = input_shape[1]  # number of examples in training data\n",
        "        # `params` store weights and bias in a python dictionary\n",
        "        self.params = initialize_parameters(input_shape[0], n_out, ini_type)  # initialize weights and bias\n",
        "        self.Z = np.zeros((self.params['W'].shape[0], input_shape[1]))  # create space for resultant Z output\n",
        "\n",
        "    def forward(self, A_prev):\n",
        "        \"\"\"\n",
        "        This function performs the forwards propagation using activations from previous layer\n",
        "        Args:\n",
        "            A_prev:  Activations/Input Data coming into the layer from previous layer\n",
        "        \"\"\"\n",
        "\n",
        "        self.A_prev = A_prev  # store the Activations/Training Data coming in\n",
        "        self.Z = np.dot(self.params['W'], self.A_prev) + self.params['b']  # compute the linear function\n",
        "\n",
        "    def backward(self, upstream_grad):\n",
        "        \"\"\"\n",
        "        This function performs the back propagation using upstream gradients\n",
        "        Args:\n",
        "            upstream_grad: gradient coming in from the upper layer to couple with local gradient\n",
        "        \"\"\"\n",
        "\n",
        "        # derivative of Cost w.r.t W\n",
        "        self.dW = np.dot(upstream_grad, self.A_prev.T)\n",
        "\n",
        "        # derivative of Cost w.r.t b, sum across rows\n",
        "        self.db = np.sum(upstream_grad, axis=1, keepdims=True)\n",
        "\n",
        "        # derivative of Cost w.r.t A_prev\n",
        "        self.dA_prev = np.dot(self.params['W'].T, upstream_grad)\n",
        "\n",
        "    def update_params(self, learning_rate=0.1):\n",
        "        \"\"\"\n",
        "        This function performs the gradient descent update\n",
        "        Args:\n",
        "            learning_rate: learning rate hyper-param for gradient descent, default 0.1\n",
        "        \"\"\"\n",
        "\n",
        "        self.params['W'] = self.params['W'] - learning_rate * self.dW  # update weights\n",
        "        self.params['b'] = self.params['b'] - learning_rate * self.db  # update bias(es)"
      ]
    },
    {
      "cell_type": "code",
      "execution_count": null,
      "id": "8011bc01",
      "metadata": {
        "execution": {
          "iopub.execute_input": "2022-12-16T02:33:10.752026Z",
          "iopub.status.busy": "2022-12-16T02:33:10.750997Z",
          "iopub.status.idle": "2022-12-16T02:33:10.757701Z",
          "shell.execute_reply": "2022-12-16T02:33:10.758816Z",
          "shell.execute_reply.started": "2022-12-16T02:32:14.526654Z"
        },
        "papermill": {
          "duration": 0.033713,
          "end_time": "2022-12-16T02:33:10.759029",
          "exception": false,
          "start_time": "2022-12-16T02:33:10.725316",
          "status": "completed"
        },
        "tags": [],
        "id": "8011bc01"
      },
      "outputs": [],
      "source": [
        "class SigmoidLayer:\n",
        "    \"\"\"\n",
        "    This file implements activation layers\n",
        "    inline with a computational graph model\n",
        "    Args:\n",
        "        shape: shape of input to the layer\n",
        "    Methods:\n",
        "        forward(Z)\n",
        "        backward(upstream_grad)\n",
        "    \"\"\"\n",
        "\n",
        "    def __init__(self, shape):\n",
        "        \"\"\"\n",
        "        The consturctor of the sigmoid/logistic activation layer takes in the following arguments\n",
        "        Args:\n",
        "            shape: shape of input to the layer\n",
        "        \"\"\"\n",
        "        self.A = np.zeros(shape)  # create space for the resultant activations\n",
        "\n",
        "    def forward(self, Z):\n",
        "        \"\"\"\n",
        "        This function performs the forwards propagation step through the activation function\n",
        "        Args:\n",
        "            Z: input from previous (linear) layer\n",
        "        \"\"\"\n",
        "        self.A = 1 / (1 + np.exp(-Z))  # compute activations\n",
        "\n",
        "    def backward(self, upstream_grad):\n",
        "        \"\"\"\n",
        "        This function performs the  back propagation step through the activation function\n",
        "        Local gradient => derivative of sigmoid => A*(1-A)\n",
        "        Args:\n",
        "            upstream_grad: gradient coming into this layer from the layer above\n",
        "        \"\"\"\n",
        "        # couple upstream gradient with local gradient, the result will be sent back to the Linear layer\n",
        "        self.dZ = upstream_grad * self.A*(1-self.A)"
      ]
    },
    {
      "cell_type": "code",
      "execution_count": null,
      "id": "010c6383",
      "metadata": {
        "execution": {
          "iopub.execute_input": "2022-12-16T02:33:10.820074Z",
          "iopub.status.busy": "2022-12-16T02:33:10.818996Z",
          "iopub.status.idle": "2022-12-16T02:33:10.821553Z",
          "shell.execute_reply": "2022-12-16T02:33:10.822061Z",
          "shell.execute_reply.started": "2022-12-16T02:32:14.549219Z"
        },
        "papermill": {
          "duration": 0.037819,
          "end_time": "2022-12-16T02:33:10.822266",
          "exception": false,
          "start_time": "2022-12-16T02:33:10.784447",
          "status": "completed"
        },
        "tags": [],
        "id": "010c6383"
      },
      "outputs": [],
      "source": [
        "import numpy as np\n",
        "\n",
        "\"\"\"\n",
        "Contains a bunch of Cost functions.\n",
        "This file implementations of :\n",
        "    - Binary Cross_entropy Cost function\n",
        "        * compute_binary_cost(Y, P_hat) -> \"unstable\"\n",
        "        * compute_stable_bce_cost(Y, Z) -> \"stable\" \n",
        "        * computer_keras_like_bce_cost(Y, P_hat, from_logits=False) -> stable\n",
        "    - Mean Squared Error Cost function\n",
        "\"\"\"\n",
        "\n",
        "\n",
        "def compute_bce_cost(Y, P_hat):\n",
        "    \"\"\"\n",
        "    This function computes Binary Cross-Entropy(bce) Cost and returns the Cost and its\n",
        "    derivative.\n",
        "    This function uses the following Binary Cross-Entropy Cost defined as:\n",
        "    => (1/m) * np.sum(-Y*np.log(P_hat) - (1-Y)*np.log(1-P_hat))\n",
        "    Args:\n",
        "        Y: labels of data\n",
        "        P_hat: Estimated output probabilities from the last layer, the output layer\n",
        "    Returns:\n",
        "        cost: The Binary Cross-Entropy Cost result\n",
        "        dP_hat: gradient of Cost w.r.t P_hat\n",
        "    \"\"\"\n",
        "    m = Y.shape[1]  # m -> number of examples in the batch\n",
        "\n",
        "    cost = (1/m) * np.sum(-Y*np.log(P_hat) - (1-Y)*np.log(1-P_hat))\n",
        "    cost = np.squeeze(cost)  # remove extraneous dimensions to give just a scalar (e.g. this turns [[17]] into 17)\n",
        "\n",
        "    dP_hat = (1/m) * (-(Y/P_hat) + ((1-Y)/(1-P_hat)))\n",
        "\n",
        "    return cost, dP_hat\n",
        "\n",
        "def compute_stable_bce_cost(Y, Z):\n",
        "    \"\"\"\n",
        "    This function computes the \"Stable\" Binary Cross-Entropy(stable_bce) Cost and returns the Cost and its\n",
        "    derivative w.r.t Z_last(the last linear node) .\n",
        "    The Stable Binary Cross-Entropy Cost is defined as:\n",
        "    => (1/m) * np.sum(max(Z,0) - ZY + log(1+exp(-|Z|)))\n",
        "    Args:\n",
        "        Y: labels of data\n",
        "        Z: Values from the last linear node\n",
        "    Returns:\n",
        "        cost: The \"Stable\" Binary Cross-Entropy Cost result\n",
        "        dZ_last: gradient of Cost w.r.t Z_last\n",
        "    \"\"\"\n",
        "    m = Y.shape[1]\n",
        "\n",
        "    cost = (1/m) * np.sum(np.maximum(Z, 0) - Z*Y + np.log(1+ np.exp(- np.abs(Z))))\n",
        "    dZ_last = (1/m) * ((1/(1+np.exp(- Z))) - Y)  # from Z computes the Sigmoid so P_hat - Y, where P_hat = sigma(Z)\n",
        "\n",
        "    return cost, dZ_last\n",
        "\n"
      ]
    },
    {
      "cell_type": "code",
      "execution_count": null,
      "id": "8fb9f6eb",
      "metadata": {
        "execution": {
          "iopub.execute_input": "2022-12-16T02:33:10.864874Z",
          "iopub.status.busy": "2022-12-16T02:33:10.864026Z",
          "iopub.status.idle": "2022-12-16T02:33:10.867238Z",
          "shell.execute_reply": "2022-12-16T02:33:10.867758Z",
          "shell.execute_reply.started": "2022-12-16T02:32:14.577680Z"
        },
        "papermill": {
          "duration": 0.027374,
          "end_time": "2022-12-16T02:33:10.867934",
          "exception": false,
          "start_time": "2022-12-16T02:33:10.840560",
          "status": "completed"
        },
        "tags": [],
        "id": "8fb9f6eb",
        "outputId": "bc94f74a-e725-4423-d8c0-5f3e214161ea"
      },
      "outputs": [
        {
          "data": {
            "text/plain": [
              "(1, 70)"
            ]
          },
          "execution_count": 8,
          "metadata": {},
          "output_type": "execute_result"
        }
      ],
      "source": [
        "Y_train.shape"
      ]
    },
    {
      "cell_type": "code",
      "execution_count": null,
      "id": "2e330534",
      "metadata": {
        "execution": {
          "iopub.execute_input": "2022-12-16T02:33:10.908598Z",
          "iopub.status.busy": "2022-12-16T02:33:10.907618Z",
          "iopub.status.idle": "2022-12-16T02:33:10.912942Z",
          "shell.execute_reply": "2022-12-16T02:33:10.913475Z",
          "shell.execute_reply.started": "2022-12-16T02:32:14.589745Z"
        },
        "papermill": {
          "duration": 0.027168,
          "end_time": "2022-12-16T02:33:10.913653",
          "exception": false,
          "start_time": "2022-12-16T02:33:10.886485",
          "status": "completed"
        },
        "tags": [],
        "id": "2e330534",
        "outputId": "f77eefae-ca95-4f54-a955-043243ac2595"
      },
      "outputs": [
        {
          "data": {
            "text/plain": [
              "(2, 70)"
            ]
          },
          "execution_count": 9,
          "metadata": {},
          "output_type": "execute_result"
        }
      ],
      "source": [
        "X_train.shape"
      ]
    },
    {
      "cell_type": "markdown",
      "id": "a73b1b0d",
      "metadata": {
        "papermill": {
          "duration": 0.018235,
          "end_time": "2022-12-16T02:33:10.950395",
          "exception": false,
          "start_time": "2022-12-16T02:33:10.932160",
          "status": "completed"
        },
        "tags": [],
        "id": "a73b1b0d"
      },
      "source": [
        "1 hidden layer"
      ]
    },
    {
      "cell_type": "code",
      "execution_count": null,
      "id": "04630d4d",
      "metadata": {
        "execution": {
          "iopub.execute_input": "2022-12-16T02:33:10.993691Z",
          "iopub.status.busy": "2022-12-16T02:33:10.990041Z",
          "iopub.status.idle": "2022-12-16T02:33:10.996247Z",
          "shell.execute_reply": "2022-12-16T02:33:10.995721Z",
          "shell.execute_reply.started": "2022-12-16T02:32:14.604749Z"
        },
        "papermill": {
          "duration": 0.027578,
          "end_time": "2022-12-16T02:33:10.996392",
          "exception": false,
          "start_time": "2022-12-16T02:33:10.968814",
          "status": "completed"
        },
        "tags": [],
        "id": "04630d4d"
      },
      "outputs": [],
      "source": [
        "# define training constants\n",
        "learning_rate = 1\n",
        "number_of_epochs = 10000\n",
        "\n",
        "np.random.seed(48) # set seed value so that the results are reproduceable\n",
        "                   # (weights will now be initailzaed to the same pseudo-random numbers, each time)\n",
        "\n",
        "# Our network architecture has the shape: \n",
        "#                       (input)--> [Linear->Sigmoid] -->(output)  \n",
        "\n",
        "\n",
        "#------ LAYER-1 ----- define output layer that takes in training data \n",
        "Z1 = LinearLayer(input_shape=X_train.shape, n_out=4, ini_type='plain')\n",
        "A1 = SigmoidLayer(Z1.Z.shape)\n",
        "Z2 = LinearLayer(input_shape=A1.A.shape, n_out=1, ini_type='plain')\n",
        "A2 = SigmoidLayer(Z2.Z.shape)"
      ]
    },
    {
      "cell_type": "code",
      "execution_count": null,
      "id": "1e3d9e63",
      "metadata": {
        "execution": {
          "iopub.execute_input": "2022-12-16T02:33:11.041504Z",
          "iopub.status.busy": "2022-12-16T02:33:11.040817Z",
          "iopub.status.idle": "2022-12-16T02:33:12.226596Z",
          "shell.execute_reply": "2022-12-16T02:33:12.225756Z",
          "shell.execute_reply.started": "2022-12-16T02:32:14.620673Z"
        },
        "papermill": {
          "duration": 1.211857,
          "end_time": "2022-12-16T02:33:12.226749",
          "exception": false,
          "start_time": "2022-12-16T02:33:11.014892",
          "status": "completed"
        },
        "tags": [],
        "id": "1e3d9e63",
        "outputId": "84173639-d2fc-4d24-e6ef-b174a828d50f"
      },
      "outputs": [
        {
          "name": "stdout",
          "output_type": "stream",
          "text": [
            "Cost at epoch#0: 0.7460442604486274\n",
            "Cost at epoch#100: 0.6724123008531236\n",
            "Cost at epoch#200: 0.6189010680820853\n",
            "Cost at epoch#300: 0.565020581945594\n",
            "Cost at epoch#400: 0.543299973630763\n",
            "Cost at epoch#500: 0.5345062122699957\n",
            "Cost at epoch#600: 0.530147949779734\n",
            "Cost at epoch#700: 0.5276347995283116\n",
            "Cost at epoch#800: 0.5260278362918078\n",
            "Cost at epoch#900: 0.5249228141359699\n",
            "Cost at epoch#1000: 0.5241213594167418\n",
            "Cost at epoch#1100: 0.5235160583883346\n",
            "Cost at epoch#1200: 0.5230441793424712\n",
            "Cost at epoch#1300: 0.5226668356670984\n",
            "Cost at epoch#1400: 0.5223587359725175\n",
            "Cost at epoch#1500: 0.5221027689714796\n",
            "Cost at epoch#1600: 0.521886969837485\n",
            "Cost at epoch#1700: 0.5217027354576789\n",
            "Cost at epoch#1800: 0.5215437300168\n",
            "Cost at epoch#1900: 0.5214051896408218\n",
            "Cost at epoch#2000: 0.521283466792744\n",
            "Cost at epoch#2100: 0.5211757236214553\n",
            "Cost at epoch#2200: 0.5210797206153015\n",
            "Cost at epoch#2300: 0.5209936678420715\n",
            "Cost at epoch#2400: 0.5209161182529798\n",
            "Cost at epoch#2500: 0.5208458898509553\n",
            "Cost at epoch#2600: 0.5207820080398607\n",
            "Cost at epoch#2700: 0.5207236623248143\n",
            "Cost at epoch#2800: 0.5206701733766004\n",
            "Cost at epoch#2900: 0.5206209676871305\n",
            "Cost at epoch#3000: 0.5205755578572604\n",
            "Cost at epoch#3100: 0.5205335271137559\n",
            "Cost at epoch#3200: 0.5204945170368978\n",
            "Cost at epoch#3300: 0.5204582177504848\n",
            "Cost at epoch#3400: 0.5204243600183334\n",
            "Cost at epoch#3500: 0.5203927088299447\n",
            "Cost at epoch#3600: 0.5203630581589891\n",
            "Cost at epoch#3700: 0.5203352266525937\n",
            "Cost at epoch#3800: 0.5203090540647296\n",
            "Cost at epoch#3900: 0.5202843982884895\n",
            "Cost at epoch#4000: 0.5202611328734746\n",
            "Cost at epoch#4100: 0.5202391449385144\n",
            "Cost at epoch#4200: 0.5202183334083754\n",
            "Cost at epoch#4300: 0.5201986075174488\n",
            "Cost at epoch#4400: 0.520179885534545\n",
            "Cost at epoch#4500: 0.5201620936717039\n",
            "Cost at epoch#4600: 0.5201451651468598\n",
            "Cost at epoch#4700: 0.5201290393756974\n",
            "Cost at epoch#4800: 0.5201136612724542\n",
            "Cost at epoch#4900: 0.5200989806429542\n",
            "Cost at epoch#5000: 0.5200849516560268\n",
            "Cost at epoch#5100: 0.5200715323817775\n",
            "Cost at epoch#5200: 0.5200586843870777\n",
            "Cost at epoch#5300: 0.5200463723801921\n",
            "Cost at epoch#5400: 0.5200345638977338\n",
            "Cost at epoch#5500: 0.5200232290281966\n",
            "Cost at epoch#5600: 0.5200123401671852\n",
            "Cost at epoch#5700: 0.5200018718001971\n",
            "Cost at epoch#5800: 0.5199918003094076\n",
            "Cost at epoch#5900: 0.5199821038014354\n",
            "Cost at epoch#6000: 0.5199727619534783\n",
            "Cost at epoch#6100: 0.5199637558755804\n",
            "Cost at epoch#6200: 0.5199550679870987\n",
            "Cost at epoch#6300: 0.5199466819056925\n",
            "Cost at epoch#6400: 0.5199385823473818\n",
            "Cost at epoch#6500: 0.5199307550364141\n",
            "Cost at epoch#6600: 0.519923186623834\n",
            "Cost at epoch#6700: 0.5199158646137968\n",
            "Cost at epoch#6800: 0.5199087772967785\n",
            "Cost at epoch#6900: 0.5199019136889462\n",
            "Cost at epoch#7000: 0.5198952634770342\n",
            "Cost at epoch#7100: 0.5198888169681555\n",
            "Cost at epoch#7200: 0.5198825650440407\n",
            "Cost at epoch#7300: 0.5198764991192549\n",
            "Cost at epoch#7400: 0.5198706111029998\n",
            "Cost at epoch#7500: 0.5198648933641427\n",
            "Cost at epoch#7600: 0.5198593386991628\n",
            "Cost at epoch#7700: 0.5198539403027389\n",
            "Cost at epoch#7800: 0.5198486917407175\n",
            "Cost at epoch#7900: 0.519843586925253\n",
            "Cost at epoch#8000: 0.519838620091911\n",
            "Cost at epoch#8100: 0.5198337857785595\n",
            "Cost at epoch#8200: 0.5198290788058885\n",
            "Cost at epoch#8300: 0.51982449425941\n",
            "Cost at epoch#8400: 0.5198200274728144\n",
            "Cost at epoch#8500: 0.5198156740125606\n",
            "Cost at epoch#8600: 0.5198114296635984\n",
            "Cost at epoch#8700: 0.5198072904161252\n",
            "Cost at epoch#8800: 0.5198032524532928\n",
            "Cost at epoch#8900: 0.5197993121397828\n",
            "Cost at epoch#9000: 0.5197954660111844\n",
            "Cost at epoch#9100: 0.5197917107641055\n",
            "Cost at epoch#9200: 0.5197880432469617\n",
            "Cost at epoch#9300: 0.5197844604513875\n",
            "Cost at epoch#9400: 0.5197809595042248\n",
            "Cost at epoch#9500: 0.5197775376600384\n",
            "Cost at epoch#9600: 0.5197741922941252\n",
            "Cost at epoch#9700: 0.519770920895974\n",
            "Cost at epoch#9800: 0.5197677210631458\n",
            "Cost at epoch#9900: 0.5197645904955418\n",
            "Cost at epoch#9999: 0.5197615573001362\n"
          ]
        }
      ],
      "source": [
        "costs = []  # initially empty list, this will store all the costs after a certain number of epochs\n",
        "\n",
        "# Start training\n",
        "for epoch in range(number_of_epochs): #number_of_epochs):\n",
        "\n",
        "    # ------------------------- forward-prop -------------------------\n",
        "    Z1.forward(X_train)\n",
        "    A1.forward(Z1.Z)\n",
        "    Z2.forward(A1.A)\n",
        "    A2.forward(Z2.Z)\n",
        "    # ---------------------- Compute Cost ----------------------------\n",
        "    #cost, dZ2 = compute_stable_bce_cost(Y_train, Z2.Z)\n",
        "    #cost, dA2 = compute_stable_bce_cost(Y_train, A2.A)\n",
        "    cost, dA2 = compute_stable_bce_cost(Y_train, A2.A)\n",
        "\n",
        "    # print and store Costs every 100 iterations and of the last iteration.\n",
        "    if (epoch % 100) == 0 or epoch == number_of_epochs - 1:\n",
        "        print(\"Cost at epoch#{}: {}\".format(epoch, cost))\n",
        "        costs.append(cost)    \n",
        "\n",
        "    # ------------------------- back-prop ----------------------------        \n",
        "    A2.backward(dA2)\n",
        "    Z2.backward(A2.dZ)\n",
        "    A1.backward(Z2.dA_prev)\n",
        "    Z1.backward(A1.dZ)\n",
        "    \n",
        "    # ----------------------- Update weights and bias ----------------\n",
        "    Z2.update_params(learning_rate=learning_rate)\n",
        "    Z1.update_params(learning_rate=learning_rate)"
      ]
    },
    {
      "cell_type": "code",
      "execution_count": null,
      "id": "bf9f4813",
      "metadata": {
        "execution": {
          "iopub.execute_input": "2022-12-16T02:33:12.275954Z",
          "iopub.status.busy": "2022-12-16T02:33:12.275281Z",
          "iopub.status.idle": "2022-12-16T02:33:12.278150Z",
          "shell.execute_reply": "2022-12-16T02:33:12.277656Z",
          "shell.execute_reply.started": "2022-12-16T02:32:15.899511Z"
        },
        "papermill": {
          "duration": 0.031065,
          "end_time": "2022-12-16T02:33:12.278351",
          "exception": false,
          "start_time": "2022-12-16T02:33:12.247286",
          "status": "completed"
        },
        "tags": [],
        "id": "bf9f4813"
      },
      "outputs": [],
      "source": [
        "#Predict the labels for test dataset \n",
        "X_test = np.array(x_test.T)\n",
        "Y_test = np.array(y_test).reshape(1,-1) \n",
        "X_test.shape,Y_test.shape\n",
        "\n",
        "Z1.forward(X_test)\n",
        "A1.forward(Z1.Z)\n",
        "Z2.forward(A1.A)\n",
        "A2.forward(Z2.Z)\n",
        "predictions=A2.A.round()\n",
        "#predictions.dtype='int32'"
      ]
    },
    {
      "cell_type": "code",
      "execution_count": null,
      "id": "ce98c8e8",
      "metadata": {
        "execution": {
          "iopub.execute_input": "2022-12-16T02:33:12.324964Z",
          "iopub.status.busy": "2022-12-16T02:33:12.323934Z",
          "iopub.status.idle": "2022-12-16T02:33:12.327968Z",
          "shell.execute_reply": "2022-12-16T02:33:12.327345Z",
          "shell.execute_reply.started": "2022-12-16T02:32:15.907879Z"
        },
        "papermill": {
          "duration": 0.029359,
          "end_time": "2022-12-16T02:33:12.328107",
          "exception": false,
          "start_time": "2022-12-16T02:33:12.298748",
          "status": "completed"
        },
        "tags": [],
        "id": "ce98c8e8",
        "outputId": "3a5eff07-4a56-4e74-f0a2-0d66d2195991"
      },
      "outputs": [
        {
          "data": {
            "text/plain": [
              "array([[1, 0, 1, 1, 0, 1, 1, 0, 1, 0, 1, 1, 1, 0, 1, 0, 0, 1, 0, 1, 1, 1,\n",
              "        0, 1, 1, 1, 0, 0, 0, 1]], dtype=int8)"
            ]
          },
          "execution_count": 13,
          "metadata": {},
          "output_type": "execute_result"
        }
      ],
      "source": [
        "#original values of test dataset\n",
        "Y_test"
      ]
    },
    {
      "cell_type": "code",
      "execution_count": null,
      "id": "b0d8685a",
      "metadata": {
        "execution": {
          "iopub.execute_input": "2022-12-16T02:33:12.375714Z",
          "iopub.status.busy": "2022-12-16T02:33:12.375039Z",
          "iopub.status.idle": "2022-12-16T02:33:12.378380Z",
          "shell.execute_reply": "2022-12-16T02:33:12.377742Z",
          "shell.execute_reply.started": "2022-12-16T02:32:15.926598Z"
        },
        "papermill": {
          "duration": 0.029212,
          "end_time": "2022-12-16T02:33:12.378522",
          "exception": false,
          "start_time": "2022-12-16T02:33:12.349310",
          "status": "completed"
        },
        "tags": [],
        "id": "b0d8685a",
        "outputId": "bcb2babd-c6a9-4cfd-ade3-284721ab7597"
      },
      "outputs": [
        {
          "data": {
            "text/plain": [
              "array([[1., 0., 1., 1., 0., 1., 1., 0., 1., 0., 1., 1., 1., 0., 1., 0.,\n",
              "        0., 1., 0., 1., 1., 1., 0., 1., 1., 1., 0., 0., 0., 1.]])"
            ]
          },
          "execution_count": 14,
          "metadata": {},
          "output_type": "execute_result"
        }
      ],
      "source": [
        "predictions"
      ]
    },
    {
      "cell_type": "code",
      "execution_count": null,
      "id": "0634d226",
      "metadata": {
        "execution": {
          "iopub.execute_input": "2022-12-16T02:33:12.425575Z",
          "iopub.status.busy": "2022-12-16T02:33:12.424920Z",
          "iopub.status.idle": "2022-12-16T02:33:12.428983Z",
          "shell.execute_reply": "2022-12-16T02:33:12.428350Z",
          "shell.execute_reply.started": "2022-12-16T02:32:26.964011Z"
        },
        "papermill": {
          "duration": 0.029783,
          "end_time": "2022-12-16T02:33:12.429125",
          "exception": false,
          "start_time": "2022-12-16T02:33:12.399342",
          "status": "completed"
        },
        "tags": [],
        "id": "0634d226",
        "outputId": "bc259194-5f88-4995-c47f-a5fa89355c5d"
      },
      "outputs": [
        {
          "data": {
            "text/plain": [
              "0.4652158847349118"
            ]
          },
          "execution_count": 15,
          "metadata": {},
          "output_type": "execute_result"
        }
      ],
      "source": [
        "compute_stable_bce_cost(Y_test,predictions )[0]"
      ]
    },
    {
      "cell_type": "code",
      "execution_count": null,
      "id": "5d812dd8",
      "metadata": {
        "papermill": {
          "duration": 0.020839,
          "end_time": "2022-12-16T02:33:12.471531",
          "exception": false,
          "start_time": "2022-12-16T02:33:12.450692",
          "status": "completed"
        },
        "tags": [],
        "id": "5d812dd8"
      },
      "outputs": [],
      "source": []
    }
  ],
  "metadata": {
    "kernelspec": {
      "display_name": "Python 3",
      "language": "python",
      "name": "python3"
    },
    "language_info": {
      "codemirror_mode": {
        "name": "ipython",
        "version": 3
      },
      "file_extension": ".py",
      "mimetype": "text/x-python",
      "name": "python",
      "nbconvert_exporter": "python",
      "pygments_lexer": "ipython3",
      "version": "3.7.10"
    },
    "papermill": {
      "default_parameters": {},
      "duration": 11.666383,
      "end_time": "2022-12-16T02:33:13.102773",
      "environment_variables": {},
      "exception": null,
      "input_path": "__notebook__.ipynb",
      "output_path": "__notebook__.ipynb",
      "parameters": {},
      "start_time": "2022-12-16T02:33:01.436390",
      "version": "2.3.3"
    },
    "colab": {
      "provenance": [],
      "include_colab_link": true
    }
  },
  "nbformat": 4,
  "nbformat_minor": 5
}